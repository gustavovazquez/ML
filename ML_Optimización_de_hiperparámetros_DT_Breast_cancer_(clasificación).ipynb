{
  "cells": [
    {
      "cell_type": "markdown",
      "metadata": {
        "id": "view-in-github",
        "colab_type": "text"
      },
      "source": [
        "<a href=\"https://colab.research.google.com/github/gustavovazquez/ML/blob/main/ML_Optimizaci%C3%B3n_de_hiperpar%C3%A1metros_DT_Breast_cancer_(clasificaci%C3%B3n).ipynb\" target=\"_parent\"><img src=\"https://colab.research.google.com/assets/colab-badge.svg\" alt=\"Open In Colab\"/></a>"
      ]
    },
    {
      "cell_type": "markdown",
      "id": "27cb2a35",
      "metadata": {
        "id": "27cb2a35"
      },
      "source": [
        "\n",
        "# Sobreajuste sin tuning de hiperparámetros - Efecto y solución\n",
        "\n",
        "Este cuaderno busca ilustrar un fenómeno clásico en Machine Learning: el **sobreajuste** de modelos muy flexibles\n",
        "cuando no se controlan sus hiperparámetros, y cómo técnicas como la **validación cruzada** y el ajuste de hiperparámetros\n",
        "permiten mejorar la capacidad de generalización.\n",
        "\n",
        "El ejemplo se basa en el dataset **Breast Cancer Wisconsin (Diagnostic)** incluido en scikit-learn.\n",
        "Es un dataset de clasificación binaria con 30 características numéricas que describen medidas obtenidas de imágenes de tumores de mama.\n"
      ]
    },
    {
      "cell_type": "markdown",
      "source": [],
      "metadata": {
        "id": "eBdy39VQRGEK"
      },
      "id": "eBdy39VQRGEK"
    },
    {
      "cell_type": "markdown",
      "id": "7dd3bd99",
      "metadata": {
        "id": "7dd3bd99"
      },
      "source": [
        "\n",
        "## Importación de librerías\n",
        "\n",
        "Comenzamos importando las librerías necesarias para el análisis:\n",
        "- `numpy` y `pandas` para manejo de datos.\n",
        "- `matplotlib` para visualización.\n",
        "- `sklearn.datasets` para cargar el dataset.\n",
        "- `sklearn.tree` para entrenar árboles de decisión.\n",
        "- `sklearn.model_selection` para dividir datos, validación cruzada y búsqueda de hiperparámetros.\n",
        "- `sklearn.metrics` para medir desempeño del modelo.\n"
      ]
    },
    {
      "cell_type": "code",
      "execution_count": null,
      "id": "73a9ed2d",
      "metadata": {
        "id": "73a9ed2d"
      },
      "outputs": [],
      "source": [
        "\n",
        "import numpy as np\n",
        "import pandas as pd\n",
        "import matplotlib.pyplot as plt\n",
        "\n",
        "from sklearn.datasets import load_breast_cancer\n",
        "from sklearn.model_selection import train_test_split, ShuffleSplit, GridSearchCV, validation_curve\n",
        "from sklearn.tree import DecisionTreeClassifier, export_text\n",
        "from sklearn.metrics import accuracy_score, precision_score, accuracy_score, classification_report, confusion_matrix\n",
        "\n"
      ]
    },
    {
      "cell_type": "markdown",
      "id": "148af86b",
      "metadata": {
        "id": "148af86b"
      },
      "source": [
        "\n",
        "## Configuración del entorno\n",
        "\n",
        "Definimos una semilla aleatoria para garantizar reproducibilidad de los resultados y\n",
        "ajustamos parámetros básicos de visualización para los gráficos.\n"
      ]
    },
    {
      "cell_type": "code",
      "execution_count": null,
      "id": "6fdf9974",
      "metadata": {
        "id": "6fdf9974"
      },
      "outputs": [],
      "source": [
        "\n",
        "RANDOM_STATE = 42\n",
        "np.random.seed(RANDOM_STATE)"
      ]
    },
    {
      "cell_type": "markdown",
      "id": "35ebbc4c",
      "metadata": {
        "id": "35ebbc4c"
      },
      "source": [
        "\n",
        "## Carga y descripción de los datos\n",
        "\n",
        "El dataset **Breast Cancer Wisconsin** contiene 569 observaciones y 30 características numéricas.\n",
        "La variable objetivo indica si un tumor es **maligno** (0) o **benigno** (1).  \n",
        "Es un conjunto de datos clásico para probar algoritmos de clasificación binaria.\n",
        "\n",
        "Dividiremos el dataset en un conjunto de entrenamiento (80%) y un conjunto de prueba (20%).\n",
        "El conjunto de entrenamiento se utilizará para ajustar y validar el modelo,\n",
        "mientras que el conjunto de prueba permitirá evaluar su capacidad de generalización.\n"
      ]
    },
    {
      "cell_type": "code",
      "execution_count": null,
      "id": "38e64d5c",
      "metadata": {
        "colab": {
          "base_uri": "https://localhost:8080/"
        },
        "id": "38e64d5c",
        "outputId": "9d1bb667-57c7-4ae2-eeb4-b06337aa8cfa"
      },
      "outputs": [
        {
          "output_type": "execute_result",
          "data": {
            "text/plain": [
              "((569, 30), (455, 30), (114, 30))"
            ]
          },
          "metadata": {},
          "execution_count": 186
        }
      ],
      "source": [
        "\n",
        "cancer = load_breast_cancer()\n",
        "X = pd.DataFrame(cancer.data, columns=cancer.feature_names)\n",
        "y = pd.Series(cancer.target, name=\"target\")\n",
        "\n",
        "X_train, X_test, y_train, y_test = train_test_split(\n",
        "    X, y, test_size=0.2, random_state=RANDOM_STATE, stratify=y\n",
        ")\n",
        "X.shape, X_train.shape, X_test.shape\n"
      ]
    },
    {
      "cell_type": "markdown",
      "id": "60c84b96",
      "metadata": {
        "id": "60c84b96"
      },
      "source": [
        "\n",
        "## Árbol sin tuning de hiperparámetros\n",
        "\n",
        "Cuando entrenamos un **árbol de decisión sin restricciones** (dejando que crezca libremente),\n",
        "el modelo tiende a memorizar el conjunto de entrenamiento. Esto se traduce en una exactitud\n",
        "casi perfecta sobre los datos de entrenamiento, ya que el árbol crea reglas muy específicas\n",
        "que clasifican correctamente cada observación.\n",
        "\n",
        "**OBS: Por defecto scikitlearn construye el árbol de decisión sin restricciones!**\n",
        "\n",
        "El problema es que este mismo nivel de detalle hace que el modelo **pierda capacidad de generalizar**\n",
        "a datos nuevos. En el conjunto de prueba, donde aparecen observaciones no vistas,\n",
        "la exactitud suele ser menor. Este fenómeno se conoce como **sobreajuste (overfitting)**:\n",
        "el modelo se adapta tanto al entrenamiento que no logra generalizar bien en datos no vistos.\n",
        "\n",
        "En esta sección entrenaremos un árbol por defecto y veremos cómo se comporta en *train* y *test*,\n",
        "además de inspeccionar su profundidad y número de hojas (como indicador de complejidad).\n"
      ]
    },
    {
      "cell_type": "code",
      "execution_count": null,
      "id": "bd0e0538",
      "metadata": {
        "colab": {
          "base_uri": "https://localhost:8080/"
        },
        "id": "bd0e0538",
        "outputId": "1aa96d62-7405-4852-aa0f-5ba0bdc56dbd"
      },
      "outputs": [
        {
          "output_type": "stream",
          "name": "stdout",
          "text": [
            "Accuracy (train): 1.000\n",
            "Accuracy (test) : 0.912\n",
            "Profundidad: 6 | Hojas: 16\n"
          ]
        }
      ],
      "source": [
        "\n",
        "tree_default = DecisionTreeClassifier(criterion='entropy',  random_state=RANDOM_STATE)\n",
        "tree_default.fit(X_train, y_train)\n",
        "\n",
        "y_pred_train = tree_default.predict(X_train)\n",
        "y_pred_test = tree_default.predict(X_test)\n",
        "\n",
        "acc_train = accuracy_score(y_train, y_pred_train)\n",
        "acc_test  = accuracy_score(y_test,  y_pred_test)\n",
        "\n",
        "print(f\"Accuracy (train): {acc_train:.3f}\")\n",
        "print(f\"Accuracy (test) : {acc_test:.3f}\")\n",
        "print(f\"Profundidad: {tree_default.get_depth()} | Hojas: {tree_default.get_n_leaves()}\")\n",
        "\n"
      ]
    },
    {
      "cell_type": "code",
      "source": [
        "# show generated tree\n",
        "print(export_text(tree_default, feature_names=list(X.columns)))"
      ],
      "metadata": {
        "colab": {
          "base_uri": "https://localhost:8080/"
        },
        "id": "gQcW2_TY29q-",
        "outputId": "fc5fbe96-eeb6-4e07-dc4e-3066cd2b9a28"
      },
      "id": "gQcW2_TY29q-",
      "execution_count": null,
      "outputs": [
        {
          "output_type": "stream",
          "name": "stdout",
          "text": [
            "|--- worst radius <= 16.80\n",
            "|   |--- worst concave points <= 0.14\n",
            "|   |   |--- area error <= 38.60\n",
            "|   |   |   |--- worst texture <= 29.98\n",
            "|   |   |   |   |--- class: 1\n",
            "|   |   |   |--- worst texture >  29.98\n",
            "|   |   |   |   |--- worst concave points <= 0.09\n",
            "|   |   |   |   |   |--- class: 1\n",
            "|   |   |   |   |--- worst concave points >  0.09\n",
            "|   |   |   |   |   |--- mean concave points <= 0.03\n",
            "|   |   |   |   |   |   |--- class: 0\n",
            "|   |   |   |   |   |--- mean concave points >  0.03\n",
            "|   |   |   |   |   |   |--- class: 1\n",
            "|   |   |--- area error >  38.60\n",
            "|   |   |   |--- texture error <= 2.01\n",
            "|   |   |   |   |--- class: 1\n",
            "|   |   |   |--- texture error >  2.01\n",
            "|   |   |   |   |--- texture error <= 2.43\n",
            "|   |   |   |   |   |--- class: 0\n",
            "|   |   |   |   |--- texture error >  2.43\n",
            "|   |   |   |   |   |--- class: 1\n",
            "|   |--- worst concave points >  0.14\n",
            "|   |   |--- worst texture <= 27.39\n",
            "|   |   |   |--- worst concave points <= 0.18\n",
            "|   |   |   |   |--- worst area <= 725.30\n",
            "|   |   |   |   |   |--- class: 1\n",
            "|   |   |   |   |--- worst area >  725.30\n",
            "|   |   |   |   |   |--- mean texture <= 15.61\n",
            "|   |   |   |   |   |   |--- class: 1\n",
            "|   |   |   |   |   |--- mean texture >  15.61\n",
            "|   |   |   |   |   |   |--- class: 0\n",
            "|   |   |   |--- worst concave points >  0.18\n",
            "|   |   |   |   |--- class: 0\n",
            "|   |   |--- worst texture >  27.39\n",
            "|   |   |   |--- class: 0\n",
            "|--- worst radius >  16.80\n",
            "|   |--- texture error <= 0.47\n",
            "|   |   |--- class: 1\n",
            "|   |--- texture error >  0.47\n",
            "|   |   |--- worst concavity <= 0.19\n",
            "|   |   |   |--- worst texture <= 30.98\n",
            "|   |   |   |   |--- class: 1\n",
            "|   |   |   |--- worst texture >  30.98\n",
            "|   |   |   |   |--- class: 0\n",
            "|   |   |--- worst concavity >  0.19\n",
            "|   |   |   |--- class: 0\n",
            "\n"
          ]
        }
      ]
    },
    {
      "cell_type": "markdown",
      "id": "1d48a196",
      "metadata": {
        "id": "1d48a196"
      },
      "source": [
        "\n",
        "### Variabilidad con múltiples particiones\n",
        "\n",
        "Para asegurarnos de que el comportamiento observado no es producto de una única división *train/test*,\n",
        "repetimos el entrenamiento con **30 particiones diferentes** utilizando `ShuffleSplit`.\n",
        "Esto nos permitirá calcular la exactitud media y su desviación estándar tanto en entrenamiento como en prueba.\n",
        "\n",
        "De este modo, podemos visualizar con mayor claridad la diferencia entre el rendimiento del árbol en los datos que ya conoce\n",
        "y en datos completamente nuevos.\n"
      ]
    },
    {
      "cell_type": "code",
      "execution_count": null,
      "id": "b5e36739",
      "metadata": {
        "colab": {
          "base_uri": "https://localhost:8080/"
        },
        "id": "b5e36739",
        "outputId": "102f4ccb-1fd2-4032-e7b6-06e26e130b2d"
      },
      "outputs": [
        {
          "output_type": "execute_result",
          "data": {
            "text/plain": [
              "(np.float64(1.0),\n",
              " np.float64(0.9359649122807016),\n",
              " np.float64(0.0),\n",
              " np.float64(0.023878346647045964))"
            ]
          },
          "metadata": {},
          "execution_count": 189
        }
      ],
      "source": [
        "\n",
        "cv = ShuffleSplit(n_splits=30, test_size=0.2, random_state=RANDOM_STATE)\n",
        "accs_train, accs_test = [], []\n",
        "\n",
        "for tr_idx, te_idx in cv.split(X, y):\n",
        "    X_tr, X_te = X.iloc[tr_idx], X.iloc[te_idx]\n",
        "    y_tr, y_te = y.iloc[tr_idx],  y.iloc[te_idx]\n",
        "\n",
        "    clf = DecisionTreeClassifier(criterion='entropy', random_state=RANDOM_STATE)\n",
        "    clf.fit(X_tr, y_tr)\n",
        "    accs_train.append(accuracy_score(y_tr, clf.predict(X_tr)))\n",
        "    accs_test.append(accuracy_score(y_te, clf.predict(X_te)))\n",
        "\n",
        "mean_train, std_train = np.mean(accs_train), np.std(accs_train)\n",
        "mean_test, std_test = np.mean(accs_test), np.std(accs_test)\n",
        "mean_train, mean_test, std_train, std_test"
      ]
    },
    {
      "cell_type": "code",
      "execution_count": null,
      "id": "40ef3bd6",
      "metadata": {
        "colab": {
          "base_uri": "https://localhost:8080/",
          "height": 453
        },
        "id": "40ef3bd6",
        "outputId": "5b2f2e49-748b-4487-ee3f-bdf829d15b2d"
      },
      "outputs": [
        {
          "output_type": "display_data",
          "data": {
            "text/plain": [
              "<Figure size 640x480 with 1 Axes>"
            ],
            "image/png": "[encoded data removed]"
          },
          "metadata": {}
        }
      ],
      "source": [
        "\n",
        "plt.bar([\"Train\", \"Test\"], [mean_train, mean_test], yerr=[std_train, std_test], capsize=5)\n",
        "plt.ylim(0.8, 1.05)\n",
        "plt.title(\"Rendimiento promedio sin ajuste de hiperparámetros (30 particiones)\")\n",
        "plt.show()\n"
      ]
    },
    {
      "cell_type": "markdown",
      "id": "530e25d4",
      "metadata": {
        "id": "530e25d4"
      },
      "source": [
        "\n",
        "## Curva de validación para `max_depth`\n",
        "\n",
        "Una forma de entender el sobreajuste es limitar manualmente la **profundidad máxima del árbol** (`max_depth`).\n",
        "Si el árbol es muy profundo, memoriza el entrenamiento y generaliza peor.\n",
        "Si es muy poco profundo, puede quedarse corto para capturar patrones importantes (**subajuste/underfitting**).\n",
        "\n",
        "La **curva de validación** permite observar cómo cambian las métricas de entrenamiento y validación\n",
        "al variar `max_depth`. En términos prácticos, si solo optimizáramos `max_depth` el punto óptimo sería tener un árbol con la profundidad correspondiente al máximo valor de la métrica usada (ese punto indica el mejor equilibrio entre complejidad y capacidad de generalización).\n"
      ]
    },
    {
      "cell_type": "code",
      "execution_count": null,
      "id": "11b95098",
      "metadata": {
        "colab": {
          "base_uri": "https://localhost:8080/",
          "height": 472
        },
        "id": "11b95098",
        "outputId": "19971451-e7cd-43e3-a064-b10d316513b3"
      },
      "outputs": [
        {
          "output_type": "display_data",
          "data": {
            "text/plain": [
              "<Figure size 640x480 with 1 Axes>"
            ],
            "image/png": "[encoded data removed]"
          },
          "metadata": {}
        }
      ],
      "source": [
        "\n",
        "depth_values = [2, 3, 4, 5, 6, 8, 10, 15]\n",
        "train_scores, valid_scores = validation_curve(\n",
        "    DecisionTreeClassifier(criterion='entropy', random_state=RANDOM_STATE),\n",
        "    X_train, y_train,\n",
        "    param_name=\"max_depth\",\n",
        "    param_range=depth_values,\n",
        "    cv=5,\n",
        "    scoring=\"accuracy\"\n",
        ")\n",
        "plt.plot(depth_values, train_scores.mean(axis=1), marker=\"o\", label=\"Train\")\n",
        "plt.plot(depth_values, valid_scores.mean(axis=1), marker=\"o\", label=\"Validación (CV)\")\n",
        "plt.xlabel(\"max_depth\")\n",
        "plt.ylabel(\"Exactitud\")\n",
        "plt.title(\"Curva de validación\")\n",
        "plt.legend()\n",
        "plt.show()\n"
      ]
    },
    {
      "cell_type": "markdown",
      "id": "4437a7c8",
      "metadata": {
        "id": "4437a7c8"
      },
      "source": [
        "\n",
        "## Ajuste de hiperparámetros con GridSearchCV\n",
        "\n",
        "En lugar de elegir manualmente los hiperparámetros, utilizamos **GridSearchCV**,\n",
        "que prueba combinaciones de valores y selecciona la que maximiza la exactitud promedio en validación cruzada.\n",
        "\n",
        "Los hiperparámetros que ajustaremos son:\n",
        "\n",
        "- `max_depth`: profundidad máxima del árbol.\n",
        "- `min_samples_leaf`: número mínimo de muestras por hoja.\n",
        "- `min_samples_split`: número mínimo de muestras para dividir un nodo.\n",
        "- `ccp_alpha`: parámetro de complejidad utilizado en pruning.\n",
        "\n"
      ]
    },
    {
      "cell_type": "code",
      "execution_count": null,
      "id": "95a1dae2",
      "metadata": {
        "colab": {
          "base_uri": "https://localhost:8080/"
        },
        "id": "95a1dae2",
        "outputId": "54b783dd-152d-4121-efa3-d8de09b72400"
      },
      "outputs": [
        {
          "output_type": "execute_result",
          "data": {
            "text/plain": [
              "({'ccp_alpha': 0.0,\n",
              "  'max_depth': 4,\n",
              "  'min_samples_leaf': 2,\n",
              "  'min_samples_split': 2},\n",
              " np.float64(0.9340659340659341))"
            ]
          },
          "metadata": {},
          "execution_count": 192
        }
      ],
      "source": [
        "\n",
        "param_grid = {\n",
        "    \"max_depth\": [None, 3, 4, 5, 6, 8, 10],\n",
        "    \"min_samples_leaf\": [1, 2, 3, 4],\n",
        "    \"min_samples_split\": [2, 3, 4],\n",
        "    \"ccp_alpha\": [0.0, 1e-4, 1e-3]\n",
        "}\n",
        "\n",
        "grid = GridSearchCV(\n",
        "    DecisionTreeClassifier(criterion='entropy', random_state=RANDOM_STATE),\n",
        "    param_grid=param_grid, cv=5, scoring=\"accuracy\"\n",
        ")\n",
        "grid.fit(X_train, y_train)\n",
        "grid.best_params_, grid.best_score_\n"
      ]
    },
    {
      "cell_type": "code",
      "source": [
        "# genera codigo para mostrar una grilla con las diferentes combinaciones de hiperparametros y su rendimiento. ordena por rendimiento\n",
        "results = pd.DataFrame(grid.cv_results_)\n",
        "results = results.sort_values(by='mean_test_score', ascending=False)\n",
        "display(results[[\n",
        "    \"param_max_depth\",\n",
        "    \"param_min_samples_leaf\",\n",
        "#    \"param_min_samples_split\",\n",
        "#    \"param_ccp_alpha\",\n",
        "    \"mean_test_score\",\n",
        "    \"std_test_score\",\n",
        "]].head(10))\n"
      ],
      "metadata": {
        "colab": {
          "base_uri": "https://localhost:8080/",
          "height": 363
        },
        "id": "WvvEv8JwWJFj",
        "outputId": "080ad579-857c-4aea-c061-5daa32f98930"
      },
      "id": "WvvEv8JwWJFj",
      "execution_count": null,
      "outputs": [
        {
          "output_type": "display_data",
          "data": {
            "text/plain": [
              "    param_max_depth  param_min_samples_leaf  mean_test_score  std_test_score\n",
              "27                4                       2         0.934066        0.021978\n",
              "28                4                       2         0.934066        0.021978\n",
              "29                4                       2         0.934066        0.021978\n",
              "113               4                       2         0.934066        0.021978\n",
              "111               4                       2         0.934066        0.021978\n",
              "112               4                       2         0.934066        0.021978\n",
              "197               4                       2         0.934066        0.021978\n",
              "196               4                       2         0.934066        0.021978\n",
              "195               4                       2         0.934066        0.021978\n",
              "49                6                       1         0.931868        0.012815"
            ],
            "text/html": [
              "\n",
              "  <div id=\"df-4a0bba23-be1c-455f-9bcd-acf2620f9c88\" class=\"colab-df-container\">\n",
              "    <div>\n",
              "<style scoped>\n",
              "    .dataframe tbody tr th:only-of-type {\n",
              "        vertical-align: middle;\n",
              "    }\n",
              "\n",
              "    .dataframe tbody tr th {\n",
              "        vertical-align: top;\n",
              "    }\n",
              "\n",
              "    .dataframe thead th {\n",
              "        text-align: right;\n",
              "    }\n",
              "</style>\n",
              "<table border=\"1\" class=\"dataframe\">\n",
              "  <thead>\n",
              "    <tr style=\"text-align: right;\">\n",
              "      <th></th>\n",
              "      <th>param_max_depth</th>\n",
              "      <th>param_min_samples_leaf</th>\n",
              "      <th>mean_test_score</th>\n",
              "      <th>std_test_score</th>\n",
              "    </tr>\n",
              "  </thead>\n",
              "  <tbody>\n",
              "    <tr>\n",
              "      <th>27</th>\n",
              "      <td>4</td>\n",
              "      <td>2</td>\n",
              "      <td>0.934066</td>\n",
              "      <td>0.021978</td>\n",
              "    </tr>\n",
              "    <tr>\n",
              "      <th>28</th>\n",
              "      <td>4</td>\n",
              "      <td>2</td>\n",
              "      <td>0.934066</td>\n",
              "      <td>0.021978</td>\n",
              "    </tr>\n",
              "    <tr>\n",
              "      <th>29</th>\n",
              "      <td>4</td>\n",
              "      <td>2</td>\n",
              "      <td>0.934066</td>\n",
              "      <td>0.021978</td>\n",
              "    </tr>\n",
              "    <tr>\n",
              "      <th>113</th>\n",
              "      <td>4</td>\n",
              "      <td>2</td>\n",
              "      <td>0.934066</td>\n",
              "      <td>0.021978</td>\n",
              "    </tr>\n",
              "    <tr>\n",
              "      <th>111</th>\n",
              "      <td>4</td>\n",
              "      <td>2</td>\n",
              "      <td>0.934066</td>\n",
              "      <td>0.021978</td>\n",
              "    </tr>\n",
              "    <tr>\n",
              "      <th>112</th>\n",
              "      <td>4</td>\n",
              "      <td>2</td>\n",
              "      <td>0.934066</td>\n",
              "      <td>0.021978</td>\n",
              "    </tr>\n",
              "    <tr>\n",
              "      <th>197</th>\n",
              "      <td>4</td>\n",
              "      <td>2</td>\n",
              "      <td>0.934066</td>\n",
              "      <td>0.021978</td>\n",
              "    </tr>\n",
              "    <tr>\n",
              "      <th>196</th>\n",
              "      <td>4</td>\n",
              "      <td>2</td>\n",
              "      <td>0.934066</td>\n",
              "      <td>0.021978</td>\n",
              "    </tr>\n",
              "    <tr>\n",
              "      <th>195</th>\n",
              "      <td>4</td>\n",
              "      <td>2</td>\n",
              "      <td>0.934066</td>\n",
              "      <td>0.021978</td>\n",
              "    </tr>\n",
              "    <tr>\n",
              "      <th>49</th>\n",
              "      <td>6</td>\n",
              "      <td>1</td>\n",
              "      <td>0.931868</td>\n",
              "      <td>0.012815</td>\n",
              "    </tr>\n",
              "  </tbody>\n",
              "</table>\n",
              "</div>\n",
              "    <div class=\"colab-df-buttons\">\n",
              "\n",
              "  <div class=\"colab-df-container\">\n",
              "    <button class=\"colab-df-convert\" onclick=\"convertToInteractive('df-4a0bba23-be1c-455f-9bcd-acf2620f9c88')\"\n",
              "            title=\"Convert this dataframe to an interactive table.\"\n",
              "            style=\"display:none;\">\n",
              "\n",
              "  <svg xmlns=\"http://www.w3.org/2000/svg\" height=\"24px\" viewBox=\"0 -960 960 960\">\n",
              "    <path d=\"M120-120v-720h720v720H120Zm60-500h600v-160H180v160Zm220 220h160v-160H400v160Zm0 220h160v-160H400v160ZM180-400h160v-160H180v160Zm440 0h160v-160H620v160ZM180-180h160v-160H180v160Zm440 0h160v-160H620v160Z\"/>\n",
              "  </svg>\n",
              "    </button>\n",
              "\n",
              "  <style>\n",
              "    .colab-df-container {\n",
              "      display:flex;\n",
              "      gap: 12px;\n",
              "    }\n",
              "\n",
              "    .colab-df-convert {\n",
              "      background-color: #E8F0FE;\n",
              "      border: none;\n",
              "      border-radius: 50%;\n",
              "      cursor: pointer;\n",
              "      display: none;\n",
              "      fill: #1967D2;\n",
              "      height: 32px;\n",
              "      padding: 0 0 0 0;\n",
              "      width: 32px;\n",
              "    }\n",
              "\n",
              "    .colab-df-convert:hover {\n",
              "      background-color: #E2EBFA;\n",
              "      box-shadow: 0px 1px 2px rgba(60, 64, 67, 0.3), 0px 1px 3px 1px rgba(60, 64, 67, 0.15);\n",
              "      fill: #174EA6;\n",
              "    }\n",
              "\n",
              "    .colab-df-buttons div {\n",
              "      margin-bottom: 4px;\n",
              "    }\n",
              "\n",
              "    [theme=dark] .colab-df-convert {\n",
              "      background-color: #3B4455;\n",
              "      fill: #D2E3FC;\n",
              "    }\n",
              "\n",
              "    [theme=dark] .colab-df-convert:hover {\n",
              "      background-color: #434B5C;\n",
              "      box-shadow: 0px 1px 3px 1px rgba(0, 0, 0, 0.15);\n",
              "      filter: drop-shadow(0px 1px 2px rgba(0, 0, 0, 0.3));\n",
              "      fill: #FFFFFF;\n",
              "    }\n",
              "  </style>\n",
              "\n",
              "    <script>\n",
              "      const buttonEl =\n",
              "        document.querySelector('#df-4a0bba23-be1c-455f-9bcd-acf2620f9c88 button.colab-df-convert');\n",
              "      buttonEl.style.display =\n",
              "        google.colab.kernel.accessAllowed ? 'block' : 'none';\n",
              "\n",
              "      async function convertToInteractive(key) {\n",
              "        const element = document.querySelector('#df-4a0bba23-be1c-455f-9bcd-acf2620f9c88');\n",
              "        const dataTable =\n",
              "          await google.colab.kernel.invokeFunction('convertToInteractive',\n",
              "                                                    [key], {});\n",
              "        if (!dataTable) return;\n",
              "\n",
              "        const docLinkHtml = 'Like what you see? Visit the ' +\n",
              "          '<a target=\"_blank\" href=https://colab.research.google.com/notebooks/data_table.ipynb>data table notebook</a>'\n",
              "          + ' to learn more about interactive tables.';\n",
              "        element.innerHTML = '';\n",
              "        dataTable['output_type'] = 'display_data';\n",
              "        await google.colab.output.renderOutput(dataTable, element);\n",
              "        const docLink = document.createElement('div');\n",
              "        docLink.innerHTML = docLinkHtml;\n",
              "        element.appendChild(docLink);\n",
              "      }\n",
              "    </script>\n",
              "  </div>\n",
              "\n",
              "\n",
              "    <div id=\"df-9120b506-a8cc-416d-ae3d-07a359d161d4\">\n",
              "      <button class=\"colab-df-quickchart\" onclick=\"quickchart('df-9120b506-a8cc-416d-ae3d-07a359d161d4')\"\n",
              "                title=\"Suggest charts\"\n",
              "                style=\"display:none;\">\n",
              "\n",
              "<svg xmlns=\"http://www.w3.org/2000/svg\" height=\"24px\"viewBox=\"0 0 24 24\"\n",
              "     width=\"24px\">\n",
              "    <g>\n",
              "        <path d=\"M19 3H5c-1.1 0-2 .9-2 2v14c0 1.1.9 2 2 2h14c1.1 0 2-.9 2-2V5c0-1.1-.9-2-2-2zM9 17H7v-7h2v7zm4 0h-2V7h2v10zm4 0h-2v-4h2v4z\"/>\n",
              "    </g>\n",
              "</svg>\n",
              "      </button>\n",
              "\n",
              "<style>\n",
              "  .colab-df-quickchart {\n",
              "      --bg-color: #E8F0FE;\n",
              "      --fill-color: #1967D2;\n",
              "      --hover-bg-color: #E2EBFA;\n",
              "      --hover-fill-color: #174EA6;\n",
              "      --disabled-fill-color: #AAA;\n",
              "      --disabled-bg-color: #DDD;\n",
              "  }\n",
              "\n",
              "  [theme=dark] .colab-df-quickchart {\n",
              "      --bg-color: #3B4455;\n",
              "      --fill-color: #D2E3FC;\n",
              "      --hover-bg-color: #434B5C;\n",
              "      --hover-fill-color: #FFFFFF;\n",
              "      --disabled-bg-color: #3B4455;\n",
              "      --disabled-fill-color: #666;\n",
              "  }\n",
              "\n",
              "  .colab-df-quickchart {\n",
              "    background-color: var(--bg-color);\n",
              "    border: none;\n",
              "    border-radius: 50%;\n",
              "    cursor: pointer;\n",
              "    display: none;\n",
              "    fill: var(--fill-color);\n",
              "    height: 32px;\n",
              "    padding: 0;\n",
              "    width: 32px;\n",
              "  }\n",
              "\n",
              "  .colab-df-quickchart:hover {\n",
              "    background-color: var(--hover-bg-color);\n",
              "    box-shadow: 0 1px 2px rgba(60, 64, 67, 0.3), 0 1px 3px 1px rgba(60, 64, 67, 0.15);\n",
              "    fill: var(--button-hover-fill-color);\n",
              "  }\n",
              "\n",
              "  .colab-df-quickchart-complete:disabled,\n",
              "  .colab-df-quickchart-complete:disabled:hover {\n",
              "    background-color: var(--disabled-bg-color);\n",
              "    fill: var(--disabled-fill-color);\n",
              "    box-shadow: none;\n",
              "  }\n",
              "\n",
              "  .colab-df-spinner {\n",
              "    border: 2px solid var(--fill-color);\n",
              "    border-color: transparent;\n",
              "    border-bottom-color: var(--fill-color);\n",
              "    animation:\n",
              "      spin 1s steps(1) infinite;\n",
              "  }\n",
              "\n",
              "  @keyframes spin {\n",
              "    0% {\n",
              "      border-color: transparent;\n",
              "      border-bottom-color: var(--fill-color);\n",
              "      border-left-color: var(--fill-color);\n",
              "    }\n",
              "    20% {\n",
              "      border-color: transparent;\n",
              "      border-left-color: var(--fill-color);\n",
              "      border-top-color: var(--fill-color);\n",
              "    }\n",
              "    30% {\n",
              "      border-color: transparent;\n",
              "      border-left-color: var(--fill-color);\n",
              "      border-top-color: var(--fill-color);\n",
              "      border-right-color: var(--fill-color);\n",
              "    }\n",
              "    40% {\n",
              "      border-color: transparent;\n",
              "      border-right-color: var(--fill-color);\n",
              "      border-top-color: var(--fill-color);\n",
              "    }\n",
              "    60% {\n",
              "      border-color: transparent;\n",
              "      border-right-color: var(--fill-color);\n",
              "    }\n",
              "    80% {\n",
              "      border-color: transparent;\n",
              "      border-right-color: var(--fill-color);\n",
              "      border-bottom-color: var(--fill-color);\n",
              "    }\n",
              "    90% {\n",
              "      border-color: transparent;\n",
              "      border-bottom-color: var(--fill-color);\n",
              "    }\n",
              "  }\n",
              "</style>\n",
              "\n",
              "      <script>\n",
              "        async function quickchart(key) {\n",
              "          const quickchartButtonEl =\n",
              "            document.querySelector('#' + key + ' button');\n",
              "          quickchartButtonEl.disabled = true;  // To prevent multiple clicks.\n",
              "          quickchartButtonEl.classList.add('colab-df-spinner');\n",
              "          try {\n",
              "            const charts = await google.colab.kernel.invokeFunction(\n",
              "                'suggestCharts', [key], {});\n",
              "          } catch (error) {\n",
              "            console.error('Error during call to suggestCharts:', error);\n",
              "          }\n",
              "          quickchartButtonEl.classList.remove('colab-df-spinner');\n",
              "          quickchartButtonEl.classList.add('colab-df-quickchart-complete');\n",
              "        }\n",
              "        (() => {\n",
              "          let quickchartButtonEl =\n",
              "            document.querySelector('#df-9120b506-a8cc-416d-ae3d-07a359d161d4 button');\n",
              "          quickchartButtonEl.style.display =\n",
              "            google.colab.kernel.accessAllowed ? 'block' : 'none';\n",
              "        })();\n",
              "      </script>\n",
              "    </div>\n",
              "\n",
              "    </div>\n",
              "  </div>\n"
            ],
            "application/vnd.google.colaboratory.intrinsic+json": {
              "type": "dataframe",
              "repr_error": "0"
            }
          },
          "metadata": {}
        }
      ]
    },
    {
      "cell_type": "code",
      "execution_count": null,
      "id": "6f73eebb",
      "metadata": {
        "colab": {
          "base_uri": "https://localhost:8080/"
        },
        "id": "6f73eebb",
        "outputId": "ec9f8adc-79fe-4f1d-c86a-ff3d06825836"
      },
      "outputs": [
        {
          "output_type": "execute_result",
          "data": {
            "text/plain": [
              "(0.9846153846153847, 0.9385964912280702, 4)"
            ]
          },
          "metadata": {},
          "execution_count": 194
        }
      ],
      "source": [
        "# Cómo obtenemos de forma automática los hiperparámetros óptimos?\n",
        "best_tree = grid.best_estimator_\n",
        "acc_train_best = accuracy_score(y_train, best_tree.predict(X_train))\n",
        "acc_test_best  = accuracy_score(y_test,  best_tree.predict(X_test))\n",
        "acc_train_best, acc_test_best, best_tree.get_depth()\n"
      ]
    },
    {
      "cell_type": "markdown",
      "id": "7da89aea",
      "metadata": {
        "id": "7da89aea"
      },
      "source": [
        "\n",
        "## Comparación final\n",
        "\n",
        "Ahora comparamos directamente el desempeño de:\n",
        "\n",
        "- Árbol sin ajuste de hiperparámetros (por defecto).\n",
        "- Árbol ajustado con GridSearchCV.\n",
        "\n",
        "El objetivo es evidenciar cómo el modelo ajustado logra mantener una alta exactitud en prueba\n",
        "sin necesidad de memorizar el entrenamiento, logrando un **equilibrio train/test** mucho más saludable.\n"
      ]
    },
    {
      "cell_type": "code",
      "execution_count": null,
      "id": "139b836e",
      "metadata": {
        "colab": {
          "base_uri": "https://localhost:8080/",
          "height": 453
        },
        "id": "139b836e",
        "outputId": "e031c506-527d-45ba-8e9d-47bab641a195"
      },
      "outputs": [
        {
          "output_type": "display_data",
          "data": {
            "text/plain": [
              "<Figure size 640x480 with 1 Axes>"
            ],
            "image/png": "[encoded data removed]"
          },
          "metadata": {}
        }
      ],
      "source": [
        "\n",
        "plt.bar([\"Train sin\", \"Test sin\"], [acc_train, acc_test], label=\"Sin ajuste de hiperparámetros\", alpha=0.7)\n",
        "plt.bar([\"Train con\", \"Test con\"], [acc_train_best, acc_test_best], label=\"Con ajuste de hiperparámetros\", alpha=0.7)\n",
        "plt.ylim(0.8, 1.05)\n",
        "plt.legend()\n",
        "plt.title(\"Comparación de desempeño\")\n",
        "plt.show()\n"
      ]
    },
    {
      "cell_type": "markdown",
      "id": "2e9d2855",
      "metadata": {
        "id": "2e9d2855"
      },
      "source": [
        "\n",
        "## Conclusiones\n",
        "\n",
        "- Un árbol de decisión (como cualquier modelo de ML) **sin restricciones** logra exactitud casi perfecta en entrenamiento,\n",
        "pero generaliza peor a datos nuevos → **sobreajuste**.\n",
        "- Limitar la profundidad del árbol y otros parámetros de complejidad permite mejorar la **generalización**.\n",
        "- La **curva de validación** muestra de forma clara la diferencia entre entrenar demasiado (sobreajuste)\n",
        "y entrenar poco (subajuste).\n",
        "- Usar **GridSearchCV** es una estrategia práctica y sistemática para encontrar hiperparámetros\n",
        "que logren un equilibrio óptimo.\n",
        "- Existen otros métodos como por ejemplo Optuna (framework  para optimizar hiperparámetros de manera eficiente y automática, a diferencia de GridSearchCV, que evalúa exhaustivamente una grilla prefijada)\n",
        "\n"
      ]
    },
    {
      "cell_type": "code",
      "source": [
        "# mostrar arbol generado en best_tree\n",
        "print(export_text(best_tree, feature_names=list(X.columns)))"
      ],
      "metadata": {
        "colab": {
          "base_uri": "https://localhost:8080/"
        },
        "id": "USBzfTqG3aw4",
        "outputId": "6cec3ad9-8782-4d1d-97f6-bb75e426eb27"
      },
      "id": "USBzfTqG3aw4",
      "execution_count": null,
      "outputs": [
        {
          "output_type": "stream",
          "name": "stdout",
          "text": [
            "|--- worst radius <= 16.80\n",
            "|   |--- worst concave points <= 0.14\n",
            "|   |   |--- area error <= 38.60\n",
            "|   |   |   |--- worst texture <= 29.98\n",
            "|   |   |   |   |--- class: 1\n",
            "|   |   |   |--- worst texture >  29.98\n",
            "|   |   |   |   |--- class: 1\n",
            "|   |   |--- area error >  38.60\n",
            "|   |   |   |--- texture error <= 2.01\n",
            "|   |   |   |   |--- class: 1\n",
            "|   |   |   |--- texture error >  2.01\n",
            "|   |   |   |   |--- class: 0\n",
            "|   |--- worst concave points >  0.14\n",
            "|   |   |--- worst texture <= 27.39\n",
            "|   |   |   |--- worst concave points <= 0.18\n",
            "|   |   |   |   |--- class: 1\n",
            "|   |   |   |--- worst concave points >  0.18\n",
            "|   |   |   |   |--- class: 0\n",
            "|   |   |--- worst texture >  27.39\n",
            "|   |   |   |--- class: 0\n",
            "|--- worst radius >  16.80\n",
            "|   |--- texture error <= 0.47\n",
            "|   |   |--- class: 1\n",
            "|   |--- texture error >  0.47\n",
            "|   |   |--- worst concavity <= 0.19\n",
            "|   |   |   |--- mean texture <= 21.35\n",
            "|   |   |   |   |--- class: 1\n",
            "|   |   |   |--- mean texture >  21.35\n",
            "|   |   |   |   |--- class: 0\n",
            "|   |   |--- worst concavity >  0.19\n",
            "|   |   |   |--- class: 0\n",
            "\n"
          ]
        }
      ]
    },
    {
      "cell_type": "code",
      "source": [
        "# mostrar imagen de arbol generado en best_tree\n",
        "from sklearn.tree import export_graphviz\n",
        "import graphviz\n",
        "dot_data = export_graphviz(best_tree, out_file=None,\n",
        "                           feature_names=list(X.columns),\n",
        "                           class_names=[\"maligno\", \"benigno\"],\n",
        "                           filled=True, rounded=True,\n",
        "                           )\n",
        "graph = graphviz.Source(dot_data)\n",
        "graph.render(\"tree\")\n",
        "graph\n"
      ],
      "metadata": {
        "colab": {
          "base_uri": "https://localhost:8080/",
          "height": 777
        },
        "id": "7aCqjgL63lMa",
        "outputId": "5fd5a1db-06d2-4a89-f155-f96711cea3d7"
      },
      "id": "7aCqjgL63lMa",
      "execution_count": null,
      "outputs": [
        {
          "output_type": "execute_result",
          "data": {
            "image/svg+xml": "<?xml version=\"1.0\" encoding=\"UTF-8\" standalone=\"no\"?>\n<!DOCTYPE svg PUBLIC \"-//W3C//DTD SVG 1.1//EN\"\n \"http://www.w3.org/Graphics/SVG/1.1/DTD/svg11.dtd\">\n<!-- Generated by graphviz version 2.43.0 (0)\n -->\n<!-- Title: Tree Pages: 1 -->\n<svg width=\"1123pt\" height=\"552pt\"\n viewBox=\"0.00 0.00 1123.00 552.00\" xmlns=\"http://www.w3.org/2000/svg\" xmlns:xlink=\"http://www.w3.org/1999/xlink\">\n<g id=\"graph0\" class=\"graph\" transform=\"scale(1 1) rotate(0) translate(4 548)\">\n<title>Tree</title>\n<polygon fill=\"white\" stroke=\"transparent\" points=\"-4,4 -4,-548 1119,-548 1119,4 -4,4\"/>\n<!-- 0 -->\n<g id=\"node1\" class=\"node\">\n<title>0</title>\n<path fill=\"#afd7f5\" stroke=\"black\" d=\"M730,-544C730,-544 599,-544 599,-544 593,-544 587,-538 587,-532 587,-532 587,-473 587,-473 587,-467 593,-461 599,-461 599,-461 730,-461 730,-461 736,-461 742,-467 742,-473 742,-473 742,-532 742,-532 742,-538 736,-544 730,-544\"/>\n<text text-anchor=\"middle\" x=\"664.5\" y=\"-528.8\" font-family=\"Helvetica,sans-Serif\" font-size=\"14.00\">worst radius &lt;= 16.795</text>\n<text text-anchor=\"middle\" x=\"664.5\" y=\"-513.8\" font-family=\"Helvetica,sans-Serif\" font-size=\"14.00\">entropy = 0.953</text>\n<text text-anchor=\"middle\" x=\"664.5\" y=\"-498.8\" font-family=\"Helvetica,sans-Serif\" font-size=\"14.00\">samples = 455</text>\n<text text-anchor=\"middle\" x=\"664.5\" y=\"-483.8\" font-family=\"Helvetica,sans-Serif\" font-size=\"14.00\">value = [170, 285]</text>\n<text text-anchor=\"middle\" x=\"664.5\" y=\"-468.8\" font-family=\"Helvetica,sans-Serif\" font-size=\"14.00\">class = benigno</text>\n</g>\n<!-- 1 -->\n<g id=\"node2\" class=\"node\">\n<title>1</title>\n<path fill=\"#4ca7e8\" stroke=\"black\" d=\"M656.5,-425C656.5,-425 480.5,-425 480.5,-425 474.5,-425 468.5,-419 468.5,-413 468.5,-413 468.5,-354 468.5,-354 468.5,-348 474.5,-342 480.5,-342 480.5,-342 656.5,-342 656.5,-342 662.5,-342 668.5,-348 668.5,-354 668.5,-354 668.5,-413 668.5,-413 668.5,-419 662.5,-425 656.5,-425\"/>\n<text text-anchor=\"middle\" x=\"568.5\" y=\"-409.8\" font-family=\"Helvetica,sans-Serif\" font-size=\"14.00\">worst concave points &lt;= 0.136</text>\n<text text-anchor=\"middle\" x=\"568.5\" y=\"-394.8\" font-family=\"Helvetica,sans-Serif\" font-size=\"14.00\">entropy = 0.433</text>\n<text text-anchor=\"middle\" x=\"568.5\" y=\"-379.8\" font-family=\"Helvetica,sans-Serif\" font-size=\"14.00\">samples = 304</text>\n<text text-anchor=\"middle\" x=\"568.5\" y=\"-364.8\" font-family=\"Helvetica,sans-Serif\" font-size=\"14.00\">value = [27, 277]</text>\n<text text-anchor=\"middle\" x=\"568.5\" y=\"-349.8\" font-family=\"Helvetica,sans-Serif\" font-size=\"14.00\">class = benigno</text>\n</g>\n<!-- 0&#45;&gt;1 -->\n<g id=\"edge1\" class=\"edge\">\n<title>0&#45;&gt;1</title>\n<path fill=\"none\" stroke=\"black\" d=\"M631.19,-460.91C623.75,-451.83 615.78,-442.12 608.11,-432.77\"/>\n<polygon fill=\"black\" stroke=\"black\" points=\"610.8,-430.53 601.75,-425.02 605.39,-434.97 610.8,-430.53\"/>\n<text text-anchor=\"middle\" x=\"599.29\" y=\"-446.2\" font-family=\"Helvetica,sans-Serif\" font-size=\"14.00\">True</text>\n</g>\n<!-- 14 -->\n<g id=\"node15\" class=\"node\">\n<title>14</title>\n<path fill=\"#e68844\" stroke=\"black\" d=\"M822.5,-425C822.5,-425 698.5,-425 698.5,-425 692.5,-425 686.5,-419 686.5,-413 686.5,-413 686.5,-354 686.5,-354 686.5,-348 692.5,-342 698.5,-342 698.5,-342 822.5,-342 822.5,-342 828.5,-342 834.5,-348 834.5,-354 834.5,-354 834.5,-413 834.5,-413 834.5,-419 828.5,-425 822.5,-425\"/>\n<text text-anchor=\"middle\" x=\"760.5\" y=\"-409.8\" font-family=\"Helvetica,sans-Serif\" font-size=\"14.00\">texture error &lt;= 0.473</text>\n<text text-anchor=\"middle\" x=\"760.5\" y=\"-394.8\" font-family=\"Helvetica,sans-Serif\" font-size=\"14.00\">entropy = 0.299</text>\n<text text-anchor=\"middle\" x=\"760.5\" y=\"-379.8\" font-family=\"Helvetica,sans-Serif\" font-size=\"14.00\">samples = 151</text>\n<text text-anchor=\"middle\" x=\"760.5\" y=\"-364.8\" font-family=\"Helvetica,sans-Serif\" font-size=\"14.00\">value = [143, 8]</text>\n<text text-anchor=\"middle\" x=\"760.5\" y=\"-349.8\" font-family=\"Helvetica,sans-Serif\" font-size=\"14.00\">class = maligno</text>\n</g>\n<!-- 0&#45;&gt;14 -->\n<g id=\"edge14\" class=\"edge\">\n<title>0&#45;&gt;14</title>\n<path fill=\"none\" stroke=\"black\" d=\"M697.81,-460.91C705.25,-451.83 713.22,-442.12 720.89,-432.77\"/>\n<polygon fill=\"black\" stroke=\"black\" points=\"723.61,-434.97 727.25,-425.02 718.2,-430.53 723.61,-434.97\"/>\n<text text-anchor=\"middle\" x=\"729.71\" y=\"-446.2\" font-family=\"Helvetica,sans-Serif\" font-size=\"14.00\">False</text>\n</g>\n<!-- 2 -->\n<g id=\"node3\" class=\"node\">\n<title>2</title>\n<path fill=\"#3d9fe5\" stroke=\"black\" d=\"M427,-306C427,-306 310,-306 310,-306 304,-306 298,-300 298,-294 298,-294 298,-235 298,-235 298,-229 304,-223 310,-223 310,-223 427,-223 427,-223 433,-223 439,-229 439,-235 439,-235 439,-294 439,-294 439,-300 433,-306 427,-306\"/>\n<text text-anchor=\"middle\" x=\"368.5\" y=\"-290.8\" font-family=\"Helvetica,sans-Serif\" font-size=\"14.00\">area error &lt;= 38.605</text>\n<text text-anchor=\"middle\" x=\"368.5\" y=\"-275.8\" font-family=\"Helvetica,sans-Serif\" font-size=\"14.00\">entropy = 0.133</text>\n<text text-anchor=\"middle\" x=\"368.5\" y=\"-260.8\" font-family=\"Helvetica,sans-Serif\" font-size=\"14.00\">samples = 271</text>\n<text text-anchor=\"middle\" x=\"368.5\" y=\"-245.8\" font-family=\"Helvetica,sans-Serif\" font-size=\"14.00\">value = [5, 266]</text>\n<text text-anchor=\"middle\" x=\"368.5\" y=\"-230.8\" font-family=\"Helvetica,sans-Serif\" font-size=\"14.00\">class = benigno</text>\n</g>\n<!-- 1&#45;&gt;2 -->\n<g id=\"edge2\" class=\"edge\">\n<title>1&#45;&gt;2</title>\n<path fill=\"none\" stroke=\"black\" d=\"M499.11,-341.91C482.2,-332.02 464,-321.37 446.71,-311.25\"/>\n<polygon fill=\"black\" stroke=\"black\" points=\"448.17,-308.05 437.77,-306.02 444.63,-314.09 448.17,-308.05\"/>\n</g>\n<!-- 9 -->\n<g id=\"node10\" class=\"node\">\n<title>9</title>\n<path fill=\"#f2c09c\" stroke=\"black\" d=\"M639,-306C639,-306 504,-306 504,-306 498,-306 492,-300 492,-294 492,-294 492,-235 492,-235 492,-229 498,-223 504,-223 504,-223 639,-223 639,-223 645,-223 651,-229 651,-235 651,-235 651,-294 651,-294 651,-300 645,-306 639,-306\"/>\n<text text-anchor=\"middle\" x=\"571.5\" y=\"-290.8\" font-family=\"Helvetica,sans-Serif\" font-size=\"14.00\">worst texture &lt;= 27.385</text>\n<text text-anchor=\"middle\" x=\"571.5\" y=\"-275.8\" font-family=\"Helvetica,sans-Serif\" font-size=\"14.00\">entropy = 0.918</text>\n<text text-anchor=\"middle\" x=\"571.5\" y=\"-260.8\" font-family=\"Helvetica,sans-Serif\" font-size=\"14.00\">samples = 33</text>\n<text text-anchor=\"middle\" x=\"571.5\" y=\"-245.8\" font-family=\"Helvetica,sans-Serif\" font-size=\"14.00\">value = [22, 11]</text>\n<text text-anchor=\"middle\" x=\"571.5\" y=\"-230.8\" font-family=\"Helvetica,sans-Serif\" font-size=\"14.00\">class = maligno</text>\n</g>\n<!-- 1&#45;&gt;9 -->\n<g id=\"edge9\" class=\"edge\">\n<title>1&#45;&gt;9</title>\n<path fill=\"none\" stroke=\"black\" d=\"M569.54,-341.91C569.75,-333.56 569.98,-324.67 570.2,-316.02\"/>\n<polygon fill=\"black\" stroke=\"black\" points=\"573.7,-316.11 570.46,-306.02 566.71,-315.93 573.7,-316.11\"/>\n</g>\n<!-- 3 -->\n<g id=\"node4\" class=\"node\">\n<title>3</title>\n<path fill=\"#3b9ee5\" stroke=\"black\" d=\"M252,-187C252,-187 117,-187 117,-187 111,-187 105,-181 105,-175 105,-175 105,-116 105,-116 105,-110 111,-104 117,-104 117,-104 252,-104 252,-104 258,-104 264,-110 264,-116 264,-116 264,-175 264,-175 264,-181 258,-187 252,-187\"/>\n<text text-anchor=\"middle\" x=\"184.5\" y=\"-171.8\" font-family=\"Helvetica,sans-Serif\" font-size=\"14.00\">worst texture &lt;= 29.985</text>\n<text text-anchor=\"middle\" x=\"184.5\" y=\"-156.8\" font-family=\"Helvetica,sans-Serif\" font-size=\"14.00\">entropy = 0.065</text>\n<text text-anchor=\"middle\" x=\"184.5\" y=\"-141.8\" font-family=\"Helvetica,sans-Serif\" font-size=\"14.00\">samples = 259</text>\n<text text-anchor=\"middle\" x=\"184.5\" y=\"-126.8\" font-family=\"Helvetica,sans-Serif\" font-size=\"14.00\">value = [2, 257]</text>\n<text text-anchor=\"middle\" x=\"184.5\" y=\"-111.8\" font-family=\"Helvetica,sans-Serif\" font-size=\"14.00\">class = benigno</text>\n</g>\n<!-- 2&#45;&gt;3 -->\n<g id=\"edge3\" class=\"edge\">\n<title>2&#45;&gt;3</title>\n<path fill=\"none\" stroke=\"black\" d=\"M304.66,-222.91C289.25,-213.11 272.67,-202.56 256.89,-192.53\"/>\n<polygon fill=\"black\" stroke=\"black\" points=\"258.54,-189.43 248.23,-187.02 254.79,-195.34 258.54,-189.43\"/>\n</g>\n<!-- 6 -->\n<g id=\"node7\" class=\"node\">\n<title>6</title>\n<path fill=\"#7bbeee\" stroke=\"black\" d=\"M430.5,-187C430.5,-187 306.5,-187 306.5,-187 300.5,-187 294.5,-181 294.5,-175 294.5,-175 294.5,-116 294.5,-116 294.5,-110 300.5,-104 306.5,-104 306.5,-104 430.5,-104 430.5,-104 436.5,-104 442.5,-110 442.5,-116 442.5,-116 442.5,-175 442.5,-175 442.5,-181 436.5,-187 430.5,-187\"/>\n<text text-anchor=\"middle\" x=\"368.5\" y=\"-171.8\" font-family=\"Helvetica,sans-Serif\" font-size=\"14.00\">texture error &lt;= 2.007</text>\n<text text-anchor=\"middle\" x=\"368.5\" y=\"-156.8\" font-family=\"Helvetica,sans-Serif\" font-size=\"14.00\">entropy = 0.811</text>\n<text text-anchor=\"middle\" x=\"368.5\" y=\"-141.8\" font-family=\"Helvetica,sans-Serif\" font-size=\"14.00\">samples = 12</text>\n<text text-anchor=\"middle\" x=\"368.5\" y=\"-126.8\" font-family=\"Helvetica,sans-Serif\" font-size=\"14.00\">value = [3, 9]</text>\n<text text-anchor=\"middle\" x=\"368.5\" y=\"-111.8\" font-family=\"Helvetica,sans-Serif\" font-size=\"14.00\">class = benigno</text>\n</g>\n<!-- 2&#45;&gt;6 -->\n<g id=\"edge6\" class=\"edge\">\n<title>2&#45;&gt;6</title>\n<path fill=\"none\" stroke=\"black\" d=\"M368.5,-222.91C368.5,-214.65 368.5,-205.86 368.5,-197.3\"/>\n<polygon fill=\"black\" stroke=\"black\" points=\"372,-197.02 368.5,-187.02 365,-197.02 372,-197.02\"/>\n</g>\n<!-- 4 -->\n<g id=\"node5\" class=\"node\">\n<title>4</title>\n<path fill=\"#399de5\" stroke=\"black\" d=\"M99,-68C99,-68 12,-68 12,-68 6,-68 0,-62 0,-56 0,-56 0,-12 0,-12 0,-6 6,0 12,0 12,0 99,0 99,0 105,0 111,-6 111,-12 111,-12 111,-56 111,-56 111,-62 105,-68 99,-68\"/>\n<text text-anchor=\"middle\" x=\"55.5\" y=\"-52.8\" font-family=\"Helvetica,sans-Serif\" font-size=\"14.00\">entropy = 0.0</text>\n<text text-anchor=\"middle\" x=\"55.5\" y=\"-37.8\" font-family=\"Helvetica,sans-Serif\" font-size=\"14.00\">samples = 226</text>\n<text text-anchor=\"middle\" x=\"55.5\" y=\"-22.8\" font-family=\"Helvetica,sans-Serif\" font-size=\"14.00\">value = [0, 226]</text>\n<text text-anchor=\"middle\" x=\"55.5\" y=\"-7.8\" font-family=\"Helvetica,sans-Serif\" font-size=\"14.00\">class = benigno</text>\n</g>\n<!-- 3&#45;&gt;4 -->\n<g id=\"edge4\" class=\"edge\">\n<title>3&#45;&gt;4</title>\n<path fill=\"none\" stroke=\"black\" d=\"M136.47,-103.73C125.4,-94.33 113.64,-84.35 102.61,-74.99\"/>\n<polygon fill=\"black\" stroke=\"black\" points=\"104.62,-72.1 94.73,-68.3 100.09,-77.44 104.62,-72.1\"/>\n</g>\n<!-- 5 -->\n<g id=\"node6\" class=\"node\">\n<title>5</title>\n<path fill=\"#46a3e7\" stroke=\"black\" d=\"M228,-68C228,-68 141,-68 141,-68 135,-68 129,-62 129,-56 129,-56 129,-12 129,-12 129,-6 135,0 141,0 141,0 228,0 228,0 234,0 240,-6 240,-12 240,-12 240,-56 240,-56 240,-62 234,-68 228,-68\"/>\n<text text-anchor=\"middle\" x=\"184.5\" y=\"-52.8\" font-family=\"Helvetica,sans-Serif\" font-size=\"14.00\">entropy = 0.33</text>\n<text text-anchor=\"middle\" x=\"184.5\" y=\"-37.8\" font-family=\"Helvetica,sans-Serif\" font-size=\"14.00\">samples = 33</text>\n<text text-anchor=\"middle\" x=\"184.5\" y=\"-22.8\" font-family=\"Helvetica,sans-Serif\" font-size=\"14.00\">value = [2, 31]</text>\n<text text-anchor=\"middle\" x=\"184.5\" y=\"-7.8\" font-family=\"Helvetica,sans-Serif\" font-size=\"14.00\">class = benigno</text>\n</g>\n<!-- 3&#45;&gt;5 -->\n<g id=\"edge5\" class=\"edge\">\n<title>3&#45;&gt;5</title>\n<path fill=\"none\" stroke=\"black\" d=\"M184.5,-103.73C184.5,-95.52 184.5,-86.86 184.5,-78.56\"/>\n<polygon fill=\"black\" stroke=\"black\" points=\"188,-78.3 184.5,-68.3 181,-78.3 188,-78.3\"/>\n</g>\n<!-- 7 -->\n<g id=\"node8\" class=\"node\">\n<title>7</title>\n<path fill=\"#399de5\" stroke=\"black\" d=\"M357,-68C357,-68 270,-68 270,-68 264,-68 258,-62 258,-56 258,-56 258,-12 258,-12 258,-6 264,0 270,0 270,0 357,0 357,0 363,0 369,-6 369,-12 369,-12 369,-56 369,-56 369,-62 363,-68 357,-68\"/>\n<text text-anchor=\"middle\" x=\"313.5\" y=\"-52.8\" font-family=\"Helvetica,sans-Serif\" font-size=\"14.00\">entropy = 0.0</text>\n<text text-anchor=\"middle\" x=\"313.5\" y=\"-37.8\" font-family=\"Helvetica,sans-Serif\" font-size=\"14.00\">samples = 8</text>\n<text text-anchor=\"middle\" x=\"313.5\" y=\"-22.8\" font-family=\"Helvetica,sans-Serif\" font-size=\"14.00\">value = [0, 8]</text>\n<text text-anchor=\"middle\" x=\"313.5\" y=\"-7.8\" font-family=\"Helvetica,sans-Serif\" font-size=\"14.00\">class = benigno</text>\n</g>\n<!-- 6&#45;&gt;7 -->\n<g id=\"edge7\" class=\"edge\">\n<title>6&#45;&gt;7</title>\n<path fill=\"none\" stroke=\"black\" d=\"M348.02,-103.73C343.71,-95.15 339.16,-86.09 334.82,-77.46\"/>\n<polygon fill=\"black\" stroke=\"black\" points=\"337.84,-75.66 330.23,-68.3 331.59,-78.81 337.84,-75.66\"/>\n</g>\n<!-- 8 -->\n<g id=\"node9\" class=\"node\">\n<title>8</title>\n<path fill=\"#eeab7b\" stroke=\"black\" d=\"M486,-68C486,-68 399,-68 399,-68 393,-68 387,-62 387,-56 387,-56 387,-12 387,-12 387,-6 393,0 399,0 399,0 486,0 486,0 492,0 498,-6 498,-12 498,-12 498,-56 498,-56 498,-62 492,-68 486,-68\"/>\n<text text-anchor=\"middle\" x=\"442.5\" y=\"-52.8\" font-family=\"Helvetica,sans-Serif\" font-size=\"14.00\">entropy = 0.811</text>\n<text text-anchor=\"middle\" x=\"442.5\" y=\"-37.8\" font-family=\"Helvetica,sans-Serif\" font-size=\"14.00\">samples = 4</text>\n<text text-anchor=\"middle\" x=\"442.5\" y=\"-22.8\" font-family=\"Helvetica,sans-Serif\" font-size=\"14.00\">value = [3, 1]</text>\n<text text-anchor=\"middle\" x=\"442.5\" y=\"-7.8\" font-family=\"Helvetica,sans-Serif\" font-size=\"14.00\">class = maligno</text>\n</g>\n<!-- 6&#45;&gt;8 -->\n<g id=\"edge8\" class=\"edge\">\n<title>6&#45;&gt;8</title>\n<path fill=\"none\" stroke=\"black\" d=\"M396.05,-103.73C402.03,-94.88 408.37,-85.51 414.37,-76.63\"/>\n<polygon fill=\"black\" stroke=\"black\" points=\"417.3,-78.54 420,-68.3 411.5,-74.63 417.3,-78.54\"/>\n</g>\n<!-- 10 -->\n<g id=\"node11\" class=\"node\">\n<title>10</title>\n<path fill=\"#c9e4f8\" stroke=\"black\" d=\"M659.5,-187C659.5,-187 483.5,-187 483.5,-187 477.5,-187 471.5,-181 471.5,-175 471.5,-175 471.5,-116 471.5,-116 471.5,-110 477.5,-104 483.5,-104 483.5,-104 659.5,-104 659.5,-104 665.5,-104 671.5,-110 671.5,-116 671.5,-116 671.5,-175 671.5,-175 671.5,-181 665.5,-187 659.5,-187\"/>\n<text text-anchor=\"middle\" x=\"571.5\" y=\"-171.8\" font-family=\"Helvetica,sans-Serif\" font-size=\"14.00\">worst concave points &lt;= 0.181</text>\n<text text-anchor=\"middle\" x=\"571.5\" y=\"-156.8\" font-family=\"Helvetica,sans-Serif\" font-size=\"14.00\">entropy = 0.982</text>\n<text text-anchor=\"middle\" x=\"571.5\" y=\"-141.8\" font-family=\"Helvetica,sans-Serif\" font-size=\"14.00\">samples = 19</text>\n<text text-anchor=\"middle\" x=\"571.5\" y=\"-126.8\" font-family=\"Helvetica,sans-Serif\" font-size=\"14.00\">value = [8, 11]</text>\n<text text-anchor=\"middle\" x=\"571.5\" y=\"-111.8\" font-family=\"Helvetica,sans-Serif\" font-size=\"14.00\">class = benigno</text>\n</g>\n<!-- 9&#45;&gt;10 -->\n<g id=\"edge10\" class=\"edge\">\n<title>9&#45;&gt;10</title>\n<path fill=\"none\" stroke=\"black\" d=\"M571.5,-222.91C571.5,-214.65 571.5,-205.86 571.5,-197.3\"/>\n<polygon fill=\"black\" stroke=\"black\" points=\"575,-197.02 571.5,-187.02 568,-197.02 575,-197.02\"/>\n</g>\n<!-- 13 -->\n<g id=\"node14\" class=\"node\">\n<title>13</title>\n<path fill=\"#e58139\" stroke=\"black\" d=\"M789,-179.5C789,-179.5 702,-179.5 702,-179.5 696,-179.5 690,-173.5 690,-167.5 690,-167.5 690,-123.5 690,-123.5 690,-117.5 696,-111.5 702,-111.5 702,-111.5 789,-111.5 789,-111.5 795,-111.5 801,-117.5 801,-123.5 801,-123.5 801,-167.5 801,-167.5 801,-173.5 795,-179.5 789,-179.5\"/>\n<text text-anchor=\"middle\" x=\"745.5\" y=\"-164.3\" font-family=\"Helvetica,sans-Serif\" font-size=\"14.00\">entropy = 0.0</text>\n<text text-anchor=\"middle\" x=\"745.5\" y=\"-149.3\" font-family=\"Helvetica,sans-Serif\" font-size=\"14.00\">samples = 14</text>\n<text text-anchor=\"middle\" x=\"745.5\" y=\"-134.3\" font-family=\"Helvetica,sans-Serif\" font-size=\"14.00\">value = [14, 0]</text>\n<text text-anchor=\"middle\" x=\"745.5\" y=\"-119.3\" font-family=\"Helvetica,sans-Serif\" font-size=\"14.00\">class = maligno</text>\n</g>\n<!-- 9&#45;&gt;13 -->\n<g id=\"edge13\" class=\"edge\">\n<title>9&#45;&gt;13</title>\n<path fill=\"none\" stroke=\"black\" d=\"M631.87,-222.91C649.92,-210.77 669.66,-197.49 687.56,-185.46\"/>\n<polygon fill=\"black\" stroke=\"black\" points=\"689.83,-188.15 696.17,-179.67 685.92,-182.34 689.83,-188.15\"/>\n</g>\n<!-- 11 -->\n<g id=\"node12\" class=\"node\">\n<title>11</title>\n<path fill=\"#81c1ee\" stroke=\"black\" d=\"M615,-68C615,-68 528,-68 528,-68 522,-68 516,-62 516,-56 516,-56 516,-12 516,-12 516,-6 522,0 528,0 528,0 615,0 615,0 621,0 627,-6 627,-12 627,-12 627,-56 627,-56 627,-62 621,-68 615,-68\"/>\n<text text-anchor=\"middle\" x=\"571.5\" y=\"-52.8\" font-family=\"Helvetica,sans-Serif\" font-size=\"14.00\">entropy = 0.837</text>\n<text text-anchor=\"middle\" x=\"571.5\" y=\"-37.8\" font-family=\"Helvetica,sans-Serif\" font-size=\"14.00\">samples = 15</text>\n<text text-anchor=\"middle\" x=\"571.5\" y=\"-22.8\" font-family=\"Helvetica,sans-Serif\" font-size=\"14.00\">value = [4, 11]</text>\n<text text-anchor=\"middle\" x=\"571.5\" y=\"-7.8\" font-family=\"Helvetica,sans-Serif\" font-size=\"14.00\">class = benigno</text>\n</g>\n<!-- 10&#45;&gt;11 -->\n<g id=\"edge11\" class=\"edge\">\n<title>10&#45;&gt;11</title>\n<path fill=\"none\" stroke=\"black\" d=\"M571.5,-103.73C571.5,-95.52 571.5,-86.86 571.5,-78.56\"/>\n<polygon fill=\"black\" stroke=\"black\" points=\"575,-78.3 571.5,-68.3 568,-78.3 575,-78.3\"/>\n</g>\n<!-- 12 -->\n<g id=\"node13\" class=\"node\">\n<title>12</title>\n<path fill=\"#e58139\" stroke=\"black\" d=\"M744,-68C744,-68 657,-68 657,-68 651,-68 645,-62 645,-56 645,-56 645,-12 645,-12 645,-6 651,0 657,0 657,0 744,0 744,0 750,0 756,-6 756,-12 756,-12 756,-56 756,-56 756,-62 750,-68 744,-68\"/>\n<text text-anchor=\"middle\" x=\"700.5\" y=\"-52.8\" font-family=\"Helvetica,sans-Serif\" font-size=\"14.00\">entropy = 0.0</text>\n<text text-anchor=\"middle\" x=\"700.5\" y=\"-37.8\" font-family=\"Helvetica,sans-Serif\" font-size=\"14.00\">samples = 4</text>\n<text text-anchor=\"middle\" x=\"700.5\" y=\"-22.8\" font-family=\"Helvetica,sans-Serif\" font-size=\"14.00\">value = [4, 0]</text>\n<text text-anchor=\"middle\" x=\"700.5\" y=\"-7.8\" font-family=\"Helvetica,sans-Serif\" font-size=\"14.00\">class = maligno</text>\n</g>\n<!-- 10&#45;&gt;12 -->\n<g id=\"edge12\" class=\"edge\">\n<title>10&#45;&gt;12</title>\n<path fill=\"none\" stroke=\"black\" d=\"M619.53,-103.73C630.6,-94.33 642.36,-84.35 653.39,-74.99\"/>\n<polygon fill=\"black\" stroke=\"black\" points=\"655.91,-77.44 661.27,-68.3 651.38,-72.1 655.91,-77.44\"/>\n</g>\n<!-- 15 -->\n<g id=\"node16\" class=\"node\">\n<title>15</title>\n<path fill=\"#399de5\" stroke=\"black\" d=\"M798,-298.5C798,-298.5 711,-298.5 711,-298.5 705,-298.5 699,-292.5 699,-286.5 699,-286.5 699,-242.5 699,-242.5 699,-236.5 705,-230.5 711,-230.5 711,-230.5 798,-230.5 798,-230.5 804,-230.5 810,-236.5 810,-242.5 810,-242.5 810,-286.5 810,-286.5 810,-292.5 804,-298.5 798,-298.5\"/>\n<text text-anchor=\"middle\" x=\"754.5\" y=\"-283.3\" font-family=\"Helvetica,sans-Serif\" font-size=\"14.00\">entropy = 0.0</text>\n<text text-anchor=\"middle\" x=\"754.5\" y=\"-268.3\" font-family=\"Helvetica,sans-Serif\" font-size=\"14.00\">samples = 5</text>\n<text text-anchor=\"middle\" x=\"754.5\" y=\"-253.3\" font-family=\"Helvetica,sans-Serif\" font-size=\"14.00\">value = [0, 5]</text>\n<text text-anchor=\"middle\" x=\"754.5\" y=\"-238.3\" font-family=\"Helvetica,sans-Serif\" font-size=\"14.00\">class = benigno</text>\n</g>\n<!-- 14&#45;&gt;15 -->\n<g id=\"edge15\" class=\"edge\">\n<title>14&#45;&gt;15</title>\n<path fill=\"none\" stroke=\"black\" d=\"M758.42,-341.91C757.87,-331.2 757.28,-319.62 756.72,-308.78\"/>\n<polygon fill=\"black\" stroke=\"black\" points=\"760.21,-308.47 756.2,-298.67 753.22,-308.83 760.21,-308.47\"/>\n</g>\n<!-- 16 -->\n<g id=\"node17\" class=\"node\">\n<title>16</title>\n<path fill=\"#e6843d\" stroke=\"black\" d=\"M983,-306C983,-306 840,-306 840,-306 834,-306 828,-300 828,-294 828,-294 828,-235 828,-235 828,-229 834,-223 840,-223 840,-223 983,-223 983,-223 989,-223 995,-229 995,-235 995,-235 995,-294 995,-294 995,-300 989,-306 983,-306\"/>\n<text text-anchor=\"middle\" x=\"911.5\" y=\"-290.8\" font-family=\"Helvetica,sans-Serif\" font-size=\"14.00\">worst concavity &lt;= 0.191</text>\n<text text-anchor=\"middle\" x=\"911.5\" y=\"-275.8\" font-family=\"Helvetica,sans-Serif\" font-size=\"14.00\">entropy = 0.145</text>\n<text text-anchor=\"middle\" x=\"911.5\" y=\"-260.8\" font-family=\"Helvetica,sans-Serif\" font-size=\"14.00\">samples = 146</text>\n<text text-anchor=\"middle\" x=\"911.5\" y=\"-245.8\" font-family=\"Helvetica,sans-Serif\" font-size=\"14.00\">value = [143, 3]</text>\n<text text-anchor=\"middle\" x=\"911.5\" y=\"-230.8\" font-family=\"Helvetica,sans-Serif\" font-size=\"14.00\">class = maligno</text>\n</g>\n<!-- 14&#45;&gt;16 -->\n<g id=\"edge16\" class=\"edge\">\n<title>14&#45;&gt;16</title>\n<path fill=\"none\" stroke=\"black\" d=\"M812.89,-341.91C825.19,-332.38 838.39,-322.15 851.01,-312.37\"/>\n<polygon fill=\"black\" stroke=\"black\" points=\"853.44,-314.91 859.2,-306.02 849.16,-309.38 853.44,-314.91\"/>\n</g>\n<!-- 17 -->\n<g id=\"node18\" class=\"node\">\n<title>17</title>\n<path fill=\"#bddef6\" stroke=\"black\" d=\"M973.5,-187C973.5,-187 843.5,-187 843.5,-187 837.5,-187 831.5,-181 831.5,-175 831.5,-175 831.5,-116 831.5,-116 831.5,-110 837.5,-104 843.5,-104 843.5,-104 973.5,-104 973.5,-104 979.5,-104 985.5,-110 985.5,-116 985.5,-116 985.5,-175 985.5,-175 985.5,-181 979.5,-187 973.5,-187\"/>\n<text text-anchor=\"middle\" x=\"908.5\" y=\"-171.8\" font-family=\"Helvetica,sans-Serif\" font-size=\"14.00\">mean texture &lt;= 21.35</text>\n<text text-anchor=\"middle\" x=\"908.5\" y=\"-156.8\" font-family=\"Helvetica,sans-Serif\" font-size=\"14.00\">entropy = 0.971</text>\n<text text-anchor=\"middle\" x=\"908.5\" y=\"-141.8\" font-family=\"Helvetica,sans-Serif\" font-size=\"14.00\">samples = 5</text>\n<text text-anchor=\"middle\" x=\"908.5\" y=\"-126.8\" font-family=\"Helvetica,sans-Serif\" font-size=\"14.00\">value = [2, 3]</text>\n<text text-anchor=\"middle\" x=\"908.5\" y=\"-111.8\" font-family=\"Helvetica,sans-Serif\" font-size=\"14.00\">class = benigno</text>\n</g>\n<!-- 16&#45;&gt;17 -->\n<g id=\"edge17\" class=\"edge\">\n<title>16&#45;&gt;17</title>\n<path fill=\"none\" stroke=\"black\" d=\"M910.46,-222.91C910.25,-214.56 910.02,-205.67 909.8,-197.02\"/>\n<polygon fill=\"black\" stroke=\"black\" points=\"913.29,-196.93 909.54,-187.02 906.3,-197.11 913.29,-196.93\"/>\n</g>\n<!-- 20 -->\n<g id=\"node21\" class=\"node\">\n<title>20</title>\n<path fill=\"#e58139\" stroke=\"black\" d=\"M1103,-179.5C1103,-179.5 1016,-179.5 1016,-179.5 1010,-179.5 1004,-173.5 1004,-167.5 1004,-167.5 1004,-123.5 1004,-123.5 1004,-117.5 1010,-111.5 1016,-111.5 1016,-111.5 1103,-111.5 1103,-111.5 1109,-111.5 1115,-117.5 1115,-123.5 1115,-123.5 1115,-167.5 1115,-167.5 1115,-173.5 1109,-179.5 1103,-179.5\"/>\n<text text-anchor=\"middle\" x=\"1059.5\" y=\"-164.3\" font-family=\"Helvetica,sans-Serif\" font-size=\"14.00\">entropy = 0.0</text>\n<text text-anchor=\"middle\" x=\"1059.5\" y=\"-149.3\" font-family=\"Helvetica,sans-Serif\" font-size=\"14.00\">samples = 141</text>\n<text text-anchor=\"middle\" x=\"1059.5\" y=\"-134.3\" font-family=\"Helvetica,sans-Serif\" font-size=\"14.00\">value = [141, 0]</text>\n<text text-anchor=\"middle\" x=\"1059.5\" y=\"-119.3\" font-family=\"Helvetica,sans-Serif\" font-size=\"14.00\">class = maligno</text>\n</g>\n<!-- 16&#45;&gt;20 -->\n<g id=\"edge20\" class=\"edge\">\n<title>16&#45;&gt;20</title>\n<path fill=\"none\" stroke=\"black\" d=\"M962.85,-222.91C977.92,-210.99 994.39,-197.98 1009.38,-186.12\"/>\n<polygon fill=\"black\" stroke=\"black\" points=\"1011.87,-188.61 1017.55,-179.67 1007.53,-183.12 1011.87,-188.61\"/>\n</g>\n<!-- 18 -->\n<g id=\"node19\" class=\"node\">\n<title>18</title>\n<path fill=\"#399de5\" stroke=\"black\" d=\"M913,-68C913,-68 826,-68 826,-68 820,-68 814,-62 814,-56 814,-56 814,-12 814,-12 814,-6 820,0 826,0 826,0 913,0 913,0 919,0 925,-6 925,-12 925,-12 925,-56 925,-56 925,-62 919,-68 913,-68\"/>\n<text text-anchor=\"middle\" x=\"869.5\" y=\"-52.8\" font-family=\"Helvetica,sans-Serif\" font-size=\"14.00\">entropy = 0.0</text>\n<text text-anchor=\"middle\" x=\"869.5\" y=\"-37.8\" font-family=\"Helvetica,sans-Serif\" font-size=\"14.00\">samples = 3</text>\n<text text-anchor=\"middle\" x=\"869.5\" y=\"-22.8\" font-family=\"Helvetica,sans-Serif\" font-size=\"14.00\">value = [0, 3]</text>\n<text text-anchor=\"middle\" x=\"869.5\" y=\"-7.8\" font-family=\"Helvetica,sans-Serif\" font-size=\"14.00\">class = benigno</text>\n</g>\n<!-- 17&#45;&gt;18 -->\n<g id=\"edge18\" class=\"edge\">\n<title>17&#45;&gt;18</title>\n<path fill=\"none\" stroke=\"black\" d=\"M893.98,-103.73C890.96,-95.24 887.76,-86.28 884.72,-77.73\"/>\n<polygon fill=\"black\" stroke=\"black\" points=\"888.01,-76.55 881.36,-68.3 881.42,-78.89 888.01,-76.55\"/>\n</g>\n<!-- 19 -->\n<g id=\"node20\" class=\"node\">\n<title>19</title>\n<path fill=\"#e58139\" stroke=\"black\" d=\"M1042,-68C1042,-68 955,-68 955,-68 949,-68 943,-62 943,-56 943,-56 943,-12 943,-12 943,-6 949,0 955,0 955,0 1042,0 1042,0 1048,0 1054,-6 1054,-12 1054,-12 1054,-56 1054,-56 1054,-62 1048,-68 1042,-68\"/>\n<text text-anchor=\"middle\" x=\"998.5\" y=\"-52.8\" font-family=\"Helvetica,sans-Serif\" font-size=\"14.00\">entropy = 0.0</text>\n<text text-anchor=\"middle\" x=\"998.5\" y=\"-37.8\" font-family=\"Helvetica,sans-Serif\" font-size=\"14.00\">samples = 2</text>\n<text text-anchor=\"middle\" x=\"998.5\" y=\"-22.8\" font-family=\"Helvetica,sans-Serif\" font-size=\"14.00\">value = [2, 0]</text>\n<text text-anchor=\"middle\" x=\"998.5\" y=\"-7.8\" font-family=\"Helvetica,sans-Serif\" font-size=\"14.00\">class = maligno</text>\n</g>\n<!-- 17&#45;&gt;19 -->\n<g id=\"edge19\" class=\"edge\">\n<title>17&#45;&gt;19</title>\n<path fill=\"none\" stroke=\"black\" d=\"M942.01,-103.73C949.43,-94.7 957.3,-85.12 964.73,-76.08\"/>\n<polygon fill=\"black\" stroke=\"black\" points=\"967.48,-78.25 971.13,-68.3 962.08,-73.8 967.48,-78.25\"/>\n</g>\n</g>\n</svg>\n",
            "text/plain": [
              "<graphviz.sources.Source at 0x7c0519867170>"
            ]
          },
          "metadata": {},
          "execution_count": 197
        }
      ]
    },
    {
      "cell_type": "code",
      "metadata": {
        "id": "28c83d32"
      },
      "source": [
        "\n"
      ],
      "id": "28c83d32",
      "execution_count": null,
      "outputs": []
    }
  ],
  "metadata": {
    "colab": {
      "provenance": [],
      "include_colab_link": true
    },
    "language_info": {
      "name": "python"
    },
    "kernelspec": {
      "name": "python3",
      "display_name": "Python 3"
    }
  },
  "nbformat": 4,
  "nbformat_minor": 5
}