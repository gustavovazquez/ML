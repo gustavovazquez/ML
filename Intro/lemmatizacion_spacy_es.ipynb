{
 "cells": [
  {
   "cell_type": "markdown",
   "id": "c2261c89",
   "metadata": {},
   "source": [
    "## Lematización con spaCy\n",
    "\n",
    "En este notebook veremos cómo aplicar **lematización** al texto utilizando la biblioteca `spaCy`. La lematización permite reducir una palabra a su forma base o canónica, teniendo en cuenta el contexto gramatical."
   ]
  },
  {
   "cell_type": "code",
   "execution_count": null,
   "id": "88a933ec",
   "metadata": {},
   "outputs": [],
   "source": [
    "# Instalar spaCy e importar el modelo (si es necesario ejecutarlo por primera vez)\n",
    "# !pip install -U spacy\n",
    "# !python -m spacy download es_core_news_sm"
   ]
  },
  {
   "cell_type": "code",
   "execution_count": null,
   "id": "f42e90a7",
   "metadata": {},
   "outputs": [],
   "source": [
    "# Importar spaCy y cargar el modelo en español\n",
    "import spacy\n",
    "nlp = spacy.load('es_core_news_sm')"
   ]
  },
  {
   "cell_type": "code",
   "execution_count": null,
   "id": "60280cba",
   "metadata": {},
   "outputs": [],
   "source": [
    "# Definir un texto de ejemplo\n",
    "texto = \"Los niños estaban corriendo por el parque mientras sus padres los observaban desde lejos.\"\n",
    "doc = nlp(texto)"
   ]
  },
  {
   "cell_type": "code",
   "execution_count": null,
   "id": "8ffbeb41",
   "metadata": {},
   "outputs": [],
   "source": [
    "# Mostrar los lemas de cada token\n",
    "print(\"\\nLemas de cada palabra:\")\n",
    "for token in doc:\n",
    "    print(f\"{token.text:15} -> {token.lemma_}\")"
   ]
  },
  {
   "cell_type": "code",
   "execution_count": null,
   "id": "ba1b824b",
   "metadata": {},
   "outputs": [],
   "source": [
    "# También podemos visualizar el análisis morfosintáctico completo\n",
    "for token in doc:\n",
    "    print(f\"{token.text:15} | POS: {token.pos_:10} | Lemma: {token.lemma_}\")"
   ]
  },
  {
   "cell_type": "markdown",
   "id": "90d60508",
   "metadata": {},
   "source": [
    "### Conclusión\n",
    "\n",
    "- La lematización en spaCy es precisa y depende del modelo de idioma.\n",
    "- Se utiliza el contexto gramatical y el etiquetado de parte de la oración (POS) para determinar la forma base.\n",
    "- Esto es útil para tareas de normalización de texto, análisis semántico y mejora de búsquedas."
   ]
  }
 ],
 "metadata": {},
 "nbformat": 4,
 "nbformat_minor": 5
}
