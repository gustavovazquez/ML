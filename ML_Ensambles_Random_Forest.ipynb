{
  "nbformat": 4,
  "nbformat_minor": 0,
  "metadata": {
    "colab": {
      "provenance": [],
      "authorship_tag": "ABX9TyPLpdjK/Rgm7Y/0N4vbkazV",
      "include_colab_link": true
    },
    "kernelspec": {
      "name": "python3",
      "display_name": "Python 3"
    },
    "language_info": {
      "name": "python"
    }
  },
  "cells": [
    {
      "cell_type": "markdown",
      "metadata": {
        "id": "view-in-github",
        "colab_type": "text"
      },
      "source": [
        "<a href=\"https://colab.research.google.com/github/gustavovazquez/ML/blob/main/ML_Ensambles_Random_Forest.ipynb\" target=\"_parent\"><img src=\"https://colab.research.google.com/assets/colab-badge.svg\" alt=\"Open In Colab\"/></a>"
      ]
    },
    {
      "cell_type": "markdown",
      "source": [
        "#Random Forest\n",
        "\n",
        "#Introducción\n",
        "\n",
        "\n",
        "Un modelo Random Forest está formado por un **conjunto de árboles de decisión individuales**, cada uno entrenado con una muestra ligeramente distinta de los datos de entrenamiento generada mediante **bootstrapping**. La predicción de una nueva observación se obtiene agregando las predicciones de todos los árboles individuales que forman el modelo.\n",
        "\n",
        "Muchos métodos predictivos generan modelos globales en los que una única ecuación se aplica a todo el espacio muestral. Cuando el caso de uso implica múltiples predictores, que interaccionan entre ellos de forma compleja y no lineal, es muy difícil encontrar un único modelo global que sea capaz de reflejar la relación entre las variables. Los métodos estadísticos y de machine learning basados en árboles engloban a un conjunto de técnicas supervisadas no paramétricas que consiguen segmentar el espacio de los predictores en regiones simples, dentro de las cuales es más sencillo manejar las interacciones. Es esta característica la que les proporciona gran parte de su potencial.\n",
        "\n",
        "Los métodos basados en árboles se han convertido en uno de los referentes dentro del ámbito predictivo debido a los buenos resultados que generan en problemas muy diversos. A lo largo de este documento se explora la forma en que se construyen y predicen los modelos Random Forest. Dado que el elemento fundamental de un modelo Random Forest son los árboles de decisión, es fundamental entender cómo funcionan estos últimos.\n",
        "\n",
        "\n",
        "##Ventajas\n",
        "\n",
        "- Son capaces de seleccionar predictores de forma automática.\n",
        "\n",
        "- Pueden aplicarse a problemas de regresión y clasificación.\n",
        "\n",
        "- Los árboles pueden, en teoría, manejar tanto predictores numéricos como categóricos sin tener que crear variables dummy o one-hot-encoding. En la práctica, esto depende de la implementación del algoritmo que tenga cada librería.\n",
        "\n",
        "- Al tratarse de métodos no paramétricos, no es necesario que se cumpla ningún tipo de distribución específica.\n",
        "\n",
        "- Por lo general, requieren mucha menos limpieza y pre procesado de los datos en comparación a otros métodos de aprendizaje estadístico (por ejemplo, no requieren estandarización).\n",
        "\n",
        "- No se ven muy influenciados por outliers.\n",
        "\n",
        "- Si para alguna observación, el valor de un predictor no está disponible, a pesar de no poder llegar a ningún nodo terminal, se puede conseguir una predicción empleando todas las observaciones que pertenecen al último nodo alcanzado. La precisión de la predicción se verá reducida pero al menos podrá obtenerse.\n",
        "\n",
        "- Son muy útiles en la exploración de datos, permiten identificar de forma rápida y eficiente las variables (predictores) más importantes.\n",
        "\n",
        "- Gracias al Out-of-Bag Error puede estimarse su error de validación sin necesidad de recurrir a estrategias computacionalmente costosas como la validación cruzada. Esto no aplica en el caso de series temporales.\n",
        "\n",
        "- Tienen buena escalabilidad, pueden aplicarse a conjuntos de datos con un elevado número de observaciones.\n",
        "\n",
        "##Desventajas\n",
        "\n",
        "- Al combinar múltiples árboles, se pierde la interpretabilidad que tienen los modelos basados en un único árbol.\n",
        "\n",
        "- Cuando tratan con predictores continuos, pierden parte de su información al categorizarlas en el momento de la división de los nodos.\n",
        "\n",
        "- Tal y como se describe más adelante, la creación de las ramificaciones de los árboles se consigue mediante el algoritmo de recursive binary splitting. Este algoritmo identifica y evalúa las posibles divisiones de cada predictor acorde a una determinada medida (RSS, Gini, entropía…). Los predictores continuos o predictores cualitativos con muchos niveles tienen mayor probabilidad de contener, solo por azar, algún punto de corte óptimo, por lo que suelen verse favorecidos en la creación de los árboles.\n",
        "\n",
        "- No son capaces de extrapolar fuera del rango de los predictores observado en los datos de entrenamiento.\n",
        "\n",
        "\n",
        "#Arboles de decisión y Random Forest en Python\n",
        "\n",
        "Existen tres implementaciones principales de árboles de decisión y Random Forest en Python: scikit-learn, skranger y H2O. Aunque todas están muy optimizadas y se utilizan de forma similar, tienen una diferencia en su implementación que puede generar resultados distintos. En scikit-learn es necesario hacer one-hot-encoding de los predictores categóricos, mientras que en H2O no. Esto tiene impacto directo en la estructura de los árboles generados y, en consecuencia, en los resultados predictivos del modelo y en la importancia calculada para los predictores (ver detalles más adelante).\n",
        "\n",
        "\n",
        "\n",
        "\n",
        "\n"
      ],
      "metadata": {
        "id": "04QfEbU35aWJ"
      }
    },
    {
      "cell_type": "markdown",
      "source": [
        "# Random Forest\n",
        "\n",
        "\n",
        "Un modelo Random Forest está formado por un conjunto (ensemble) de árboles de decisión individuales, cada uno entrenado con una muestra aleatoria extraída de los datos de entrenamiento originales mediante bootstrapping. Esto implica que cada árbol se entrena con unos datos ligeramente distintos. En cada árbol individual, las observaciones se van distribuyendo por bifurcaciones (nodos) generando la estructura del árbol hasta alcanzar un nodo terminal, tal como un árbol de decisión tradicional. La predicción de una nueva observación se obtiene agregando las predicciones de todos los árboles individuales que forman el modelo.\n",
        "\n",
        "Para entender cómo funcionan los modelos Random Forest es necesario conocer primero los conceptos de ensemble y bagging.\n",
        "\n",
        "\n",
        "##Métodos de ensemble\n",
        "\n",
        "\n",
        "Todos los modelos de aprendizaje estadístico y machine learning sufren el problema de equilibrio entre bias y varianza.\n",
        "\n",
        "El término bias (sesgo) hace referencia a cuánto se alejan en promedio las predicciones de un modelo respecto a los valores reales. Refleja cómo de capaz es el modelo de aprender la relación real que existe entre los predictores y la variable respuesta. Por ejemplo, si la relación sigue un patrón no lineal, por muchos datos de los que se disponga, un modelo de regresión lineal no podrá modelar correctamente la relación, por lo que tendrá un bias alto.\n",
        "\n",
        "El término varianza hace referencia a cuánto cambia el modelo dependiendo de los datos utilizados en su entrenamiento. Idealmente, un modelo no debería modificarse demasiado por pequeñas variaciones en los datos de entrenamiento, si esto ocurre, es porque el modelo está memorizando los datos en lugar de aprender la verdadera relación entre los predictores y la variable respuesta. Por ejemplo, un modelo de árbol con muchos nodos, suele variar su estructura con que apenas cambien unos pocos datos de entrenamiento, por lo tanto tiene mucha varianza.\n",
        "\n",
        "A medida que aumenta la complejidad de un modelo, este dispone de mayor flexibilidad para adaptarse a las observaciones, reduciendo así el bias y mejorando su capacidad predictiva. Sin embargo, alcanzado un determinado grado de flexibilidad, aparece el problema de overfitting, el modelo se ajusta tanto a los datos de entrenamiento que es incapaz de predecir correctamente nuevas observaciones. El mejor modelo es aquel que consigue un equilibro óptimo entre bias y varianza.\n",
        "\n",
        "¿Cómo se controlan el bias y varianza en los modelos basados en árboles? Por lo general, los árboles pequeños (pocas ramificaciones) tienen poca varianza pero no consiguen representar bien la relación entre las variables, es decir, tienen bias alto. En contraposición, los árboles grandes se ajustan mucho a los datos de entrenamiento, por lo que tienen muy poco bias pero mucha varianza. Una forma de solucionar este problema son los métodos de ensemble.\n",
        "\n",
        "Los métodos de ensemble combinan múltiples modelos en uno nuevo con el objetivo de lograr un equilibro entre bias y varianza, consiguiendo así mejores predicciones que cualquiera de los modelos individuales originales. Dos de los tipos de ensemble más utilizados son:\n",
        "\n",
        "- Bagging: Se ajustan múltiples modelos, cada uno con un subconjunto distinto de los datos de entrenamiento. Para predecir, todos los modelos que forman el agregado participan aportando su predicción. Como valor final, se toma la media de todas las predicciones (variables continuas) o la clase más frecuente (variables categóricas). Los modelos Random Forest están dentro de esta categoría.\n",
        "\n",
        "- Boosting: Se ajustan secuencialmente múltiples modelos sencillos, llamados weak learners, de forma que cada modelo aprende de los errores del anterior. Como valor final, al igual que en bagging, se toma la media de todas las predicciones (variables continuas) o la clase más frecuente (variables cualitativas). Tres de los métodos de boosting más empleados son AdaBoost, Gradient Boosting y Stochastic Gradient Boosting.\n",
        "\n",
        "Aunque el objetivo final es el mismo, lograr un balance óptimo entre bias y varianza, existen dos diferencias importantes:\n",
        "\n",
        "- Forma en que consiguen reducir el error total. El error total de un modelo puede descomponerse como $bias+varianza+ϵ$. En bagging, se emplean modelos con muy poco bias pero mucha varianza, agregándolos se consigue reducir la varianza sin apenas inflar el bias. En boosting, se emplean modelos con muy poca varianza pero mucho bias, ajustando secuencialmente los modelos se reduce el bias. Por lo tanto, cada una de las estrategias reduce una parte del error total.\n",
        "\n",
        "- Forma en que se introducen variaciones en los modelos que forman el ensemble. En bagging, cada modelo es distinto del resto porque cada uno se entrena con una muestra distinta obtenida mediante bootstrapping. En boosting, los modelos se ajustan secuencialmente y la importancia (peso) de las observaciones va cambiando en cada iteración, dando lugar a diferentes ajustes.\n",
        "\n",
        "La clave para que los métodos de ensemble consigan mejores resultados que cualquiera de sus modelos individuales es que los modelos que los forman sean lo más diversos posibles (sus errores no estén correlacionados). Una analogía que refleja este concepto es la siguiente: supóngase un juego como el trivia en el que los equipos tienen que acertar preguntas sobre temáticas diversas. Un equipo formado por muchos jugadores, cada uno experto en un tema distinto, tendrá más posibilidades de ganar que un equipo formado por jugadores expertos en un único tema o por un único jugador que sepa un poco de todos los temas.\n",
        "\n",
        "A continuación, se describe con más detalle la estrategia de bagging, sobre la que se fundamenta el modelo Random Forest.\n"
      ],
      "metadata": {
        "id": "NmhqyKqb6ZsR"
      }
    },
    {
      "cell_type": "markdown",
      "source": [
        "##Bagging\n",
        "\n",
        "\n",
        "El término bagging es el diminutivo de bootstrap aggregation, y hace referencia al empleo del muestreo repetido con reposición bootstrapping con el fin de reducir la varianza de algunos modelos de aprendizaje estadístico, entre ellos los basados en árboles.\n",
        "\n",
        "Dadas $n$ muestras de observaciones independientes $Z_1 , ...,  Z_n$, cada una con varianza  σ^2 , la varianza de la media de las observaciones  $\\bar{Z}$  es $σ^2/n$ . En otras palabras, promediando un conjunto de observaciones se reduce la varianza. Basándose en esta idea, una forma de reducir la varianza y aumentar la precisión de un método predictivo es obtener múltiples muestras de la población, ajustar un modelo distinto con cada una de ellas, y hacer la media (la moda en el caso de variables cualitativas) de las predicciones resultantes. Como en la práctica no se suele tener acceso a múltiples muestras, se puede simular el proceso recurriendo a bootstrapping), generando así pseudo-muestras con los que ajustar diferentes modelos y después agregarlos. A este proceso se le conoce como bagging y es aplicable a una gran variedad de métodos de regresión.\n",
        "\n",
        "En el caso particular de los árboles de decisión, dada su naturaleza de bajo bias y alta varianza, bagging ha demostrado tener muy buenos resultados. La forma de aplicarlo es:\n",
        "\n",
        "1. Generar $B$ pseudo-training sets mediante bootstrapping a partir de la muestra de entrenamiento original.\n",
        "\n",
        "2. Entrenar un árbol con cada una de las $B$ muestras del paso 1. Cada árbol se crea sin apenas restricciones y no se somete a pruning, por lo que tiene varianza alta pero poco bias. En la mayoría de casos, la única regla de parada es el número mínimo de observaciones que deben tener los nodos terminales. El valor óptimo de este hiperparámetro puede obtenerse comparando el out of bag error o por validación cruzada.\n",
        "\n",
        "3. Para cada nueva observación, obtener la predicción de cada uno de los $B$ árboles. El valor final de la predicción se obtiene como la media de las $B$ predicciones en el caso de variables cuantitativas y como la clase predicha más frecuente (moda) para variables cualitativas.\n",
        "\n",
        "En el proceso de bagging, el número de árboles creados no es un hiperparámetro crítico en cuanto a que, por mucho que se incremente el número, no se aumenta el riesgo de overfitting. Alcanzado un determinado número de árboles, la reducción de test error se estabiliza. A pesar de ello, cada árbol ocupa memoria, por lo que no conviene almacenar más de los necesarios.\n",
        "\n",
        "##Entrenamiento de Random Forest\n",
        "\n",
        "El algoritmo de Random Forest es una modificación del proceso de bagging que consigue mejorar los resultados gracias a que los árboles generados en el proceso son menos correlacionados.\n",
        "\n",
        "Recordando el apartado anterior, los beneficios de bagging se basan en el hecho de que, promediando un conjunto de modelos, se consigue reducir la varianza. Esto es cierto, siempre y cuando los modelos agregados no estén correlacionados. Si la correlación es alta, la reducción de varianza que se puede lograr es pequeña.\n",
        "\n",
        "Supóngase un set de datos en el que hay un predictor muy influyente, junto con otros moderadamente influyentes. En este escenario, todos o casi todos los árboles creados en el proceso de bagging estarán dominados por el mismo predictor y serán muy parecidos entre ellos. Como consecuencia de la alta correlación entre los árboles, el proceso de bagging apenas conseguirá disminuir la varianza y, por lo tanto, tampoco mejorar el modelo. Random forest evita este problema haciendo una selección aleatoria de $m$ predictores antes de evaluar cada división. De esta forma, un promedio de $(p−m)/p$ divisiones no contemplarán el predictor influyente, permitiendo que otros predictores puedan ser seleccionados. Añadiendo este paso extra se consigue decorrelacionar los árboles todavía más, con lo que su agregación consigue una mayor reducción de la varianza.\n",
        "\n",
        "Los métodos de random forest y bagging siguen el mismo algoritmo con la única diferencia de que, en random forest, antes de cada división, se seleccionan aleatoriamente $m$ predictores. La diferencia en el resultado dependerá del valor $m$ escogido. Si $m=p$ los resultados de random forest y bagging son equivalentes. Algunas recomendaciones son:\n",
        "\n",
        "- La raíz cuadrada del número total de predictores para problemas de clasificación.  $m≈\\sqrt{p}$\n",
        "- Un tercio del número de predictores para problemas de regresión. $m≈p/3$\n",
        "- Si los predictores están muy correlacionados, valores pequeños de  m  consiguen mejores resultados.\n",
        "\n",
        "Sin embargo, la mejor forma para encontrar el valor óptimo de  m  es evaluar el out-of-bag-error o recurrir a validación cruzada.\n",
        "\n",
        "Al igual que ocurre con bagging, random forest no sufre problemas de overfit por aumentar el número de árboles creados en el proceso. Alcanzado un determinado número, la reducción del error de test se estabiliza.\n"
      ],
      "metadata": {
        "id": "HB0ej9dn7Nci"
      }
    },
    {
      "cell_type": "markdown",
      "source": [
        "##Predicción de Random Forest\n",
        "\n",
        "\n",
        "La predicción de un modelo Random Forest es la media de las predicciones de todos los árboles que lo forman.\n",
        "\n",
        "Supóngase que se dispone de 10 observaciones, cada una con un valor de variable respuesta  Y  y unos predictores  X .\n",
        "![rf - tabla.png](data:image/png;base64,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)\n",
        "\n",
        "La siguiente imagen muestra cómo sería la predicción del modelo para una nueva observación. En cada árbol, el camino hasta llegar al nodo final está resaltado. En cada nodo terminal se detalla el índice de las observaciones de entrenamiento que forman parte.\n"
      ],
      "metadata": {
        "id": "gJK-bPiO8us-"
      }
    },
    {
      "cell_type": "markdown",
      "source": [
        "![rfs.png](data:image/png;base64,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)"
      ],
      "metadata": {
        "id": "vvS-ozQ89Jdd"
      }
    },
    {
      "cell_type": "markdown",
      "source": [
        "Predicción con random forest: en cada árbol, el camino hasta llegar al nodo final está resaltado. En cada nodo terminal se detalla el índice de las observaciones de entrenamiento que forman parte de él.\n",
        "\n",
        "El valor predicho por cada árbol es la media de la variable respuesta $Y$ en el nodo terminal. Acorde a la imagen, las predicciones de cada uno de los tres árboles (de izquierda a derecha) es:\n",
        "\n",
        "$$\\hat{y}_{arbol_1}=\\frac{24+2+20}3=15.33333 $$\n",
        "\n",
        "$$\\hat{y}_{arbol_2}=\\frac{18+24}2=21 $$\n",
        "\n",
        "$$\\hat{y}_{arbol_3}=\\frac{18+24+2+20}4=16 $$\n",
        "\n",
        "La predicción final del modelo es la media de todas las predicciones individuales:\n",
        "\n",
        "$$\\hat{μ}=\\frac{15.33333+21+16}3=17.4 $$\n",
        "\n"
      ],
      "metadata": {
        "id": "xr0kXz1z9VK_"
      }
    },
    {
      "cell_type": "markdown",
      "source": [
        "#Out-of-Bag Error\n",
        "\n",
        "\n",
        "Dada la naturaleza del proceso de bagging, resulta posible estimar el error de test sin necesidad de recurrir a métodos de validación cruzada (cross-validation). El hecho de que los árboles se ajusten empleando muestras generadas por bootstrapping conlleva que, en promedio, cada ajuste use solo aproximadamente dos tercios de las observaciones originales. Al tercio restante se le llama out-of-bag (OOB).\n",
        "\n",
        "Si para cada árbol ajustado en el proceso de bagging se registran las observaciones empleadas, se puede predecir la respuesta de la observación $i$ haciendo uso de aquellos árboles en los que esa observación ha sido excluida y promediándolos (o mediante voting en el caso de los árboles de clasificación). Siguiendo este proceso, se pueden obtener las predicciones para las $n$ observaciones y con ellas calcular el OOB-mean square error (para regresión) o el OOB-classification error (para árboles de clasificación). Como la variable respuesta de cada observación se predice empleando únicamente los árboles en cuyo ajuste no participó dicha observación, el OOB-error sirve como estimación del error de test. De hecho, si el número de árboles es suficientemente alto, el OOB-error es prácticamente equivalente al leave-one-out cross-validation error.\n",
        "\n",
        "Esta es una ventaja añadida de los métodos de bagging, y por lo tanto de Random Forest ya que evita tener que recurrir al proceso de validación cruzada (computacionalmente costoso) para la optimización de los hiperparámetros.\n",
        "\n",
        "Dos limitaciones en el uso Out-of-Bag Error:\n",
        "\n",
        "- El Out-of-Bag Error no es adecuado cuando las observaciones tienen una relación temporal (series temporales). Como la selección de las observaciones que participan en cada entrenamiento es aleatoria, no respetan el orden temporal y se estaría introduciendo información a futuro.\n",
        "\n",
        "- El preprocesado de los datos de entrenamiento se hace de forma conjunta, por lo que las observaciones out-of-bag pueden sufrir data leakage. De ser así, las estimaciones del OOB-error son demasiado optimistas.\n",
        "\n",
        "- En un muestreo por bootstrapping, si el tamaño de los datos de entrenamiento es $n$, cada observación tiene una probabilidad de ser elegida de $1/n$. Por lo tanto, la probabilidad de no ser elegida en todo el proceso es de $(1−1/n)^n$ , lo que converge en  1/ϵ , que es aproximadamente un tercio.\n"
      ],
      "metadata": {
        "id": "l16QX3nq_D0Q"
      }
    },
    {
      "cell_type": "markdown",
      "source": [
        "##Importancia de los predictores\n",
        "\n",
        "\n",
        "Si bien es cierto que el proceso de bagging (Random Forest) consigue mejorar la capacidad predictiva en comparación a los modelos basados en un único árbol, esto tiene un coste asociado, la interpretabilidad del modelo se reduce. Al tratarse de una combinación de múltiples árboles, no es posible obtener una representación gráfica sencilla del modelo y no es inmediato identificar de forma visual que predictores son más importantes. Sin embargo, se han desarrollado nuevas estrategias para cuantificar la importancia de los predictores que hacen de los modelos de bagging (Random Forest) una herramienta muy potente, no solo para predecir, sino también para el análisis exploratorio. Dos de estas medidas son: importancia por permutación e impureza de nodos.\n",
        "\n",
        "\n",
        "##Importancia por permutación\n",
        "\n",
        "Identifica la influencia que tiene cada predictor sobre una determinada métrica de evaluación del modelo (estimada por out-of-bag error o validación cruzada). El valor asociado con cada predictor se obtiene de la siguiente forma:\n",
        "\n",
        "1. Crear el conjunto de árboles que forman el modelo.\n",
        "\n",
        "2. Calcular una determinada métrica de error (mse, classification error, ...). Este es el valor de referencia ($error_0$).\n",
        "\n",
        "3. Para cada predictor $j$:\n",
        "\n",
        "- 3.1. Permutar en todos los árboles del modelo los valores del predictor  $j$ manteniendo el resto constante.\n",
        "\n",
        "- 3.2. Recalcular la métrica tras la permutación, llámese ($error_j$).\n",
        "\n",
        "- 3.3. Calcular el incremento en la métrica debido a la permutación del predictor $j$.\n",
        "\n",
        "$$Incremento_j=(error_j−error_0)/error0∗100 $$\n",
        "\n",
        "Si el predictor permutado estaba contribuyendo al modelo, es de esperar que el modelo aumente su error, ya que se pierde la información que proporcionaba esa variable. El porcentaje en que se incrementa el error debido a la permutación del predictor $j$ puede interpretarse como la influencia que tiene $j$ sobre el modelo. Algo que suele llevar a confusiones es el hecho de que este incremento puede resultar negativo. Si la variable no contribuye al modelo, es posible que, al reorganizarla aleatoriamente, solo por azar, se consiga mejorar ligeramente el modelo, por lo que ($error_j−error_0$)  es negativo. A modo general, se puede considerar que estas variables tiene una importancia próxima a cero.\n",
        "\n",
        "Aunque esta estrategia suele ser la más recomendada, cabe tomar algunas precauciones en su interpretación. Lo que cuantifican es la influencia que tienen los predictores sobre el modelo, no su relación con la variable respuesta. ¿Por qué es esto tan importante? Supóngase un escenario en el que se emplea esta estrategia con la finalidad de identificar qué predictores están relacionados con el peso de una persona, y que dos de los predictores son: el índice de masa corporal (IMC) y la altura. Como IMC y altura están muy correlacionados entre sí (la información que aportan es redundante), cuando se permute uno de ellos, el impacto en el modelo será mínimo, ya que el otro aporta la misma información. Como resultado, estos predictores aparecerán como poco influyentes aun cuando realmente están muy relacionados con la variable respuesta. Una forma de evitar problemas de este tipo es, siempre que se excluyan predictores de un modelo, comprobar el impacto que tiene en su capacidad predictiva.\n",
        "\n",
        "\n",
        "##Incremento de la pureza de nodos\n",
        "\n",
        "Cuantifica el incremento total en la pureza de los nodos debido a divisiones en las que participa el predictor (promedio de todos los árboles). La forma de calcularlo es la siguiente: en cada división de los árboles, se registra el descenso conseguido en la medida empleada como criterio de división (índice Gini, mse entropía, ...). Para cada uno de los predictores, se calcula el descenso medio conseguido en el conjunto de árboles que forman el ensemble. Cuanto mayor sea este valor medio, mayor la contribución del predictor en el modelo.\n"
      ],
      "metadata": {
        "id": "-_4Qomtu_s9h"
      }
    },
    {
      "cell_type": "markdown",
      "source": [
        "#Ejemplo regresión\n",
        "\n",
        "\n",
        "##Librerías\n",
        "\n",
        "\n",
        "Las librerías utilizadas en este ejemplo son:"
      ],
      "metadata": {
        "id": "I6SPC-0hF0bv"
      }
    },
    {
      "cell_type": "code",
      "source": [
        "# Tratamiento de datos\n",
        "# ==============================================================================\n",
        "import numpy as np\n",
        "import pandas as pd\n",
        "\n",
        "# Gráficos\n",
        "# ==============================================================================\n",
        "import matplotlib.pyplot as plt\n",
        "\n",
        "# Preprocesado y modelado\n",
        "# ==============================================================================\n",
        "from sklearn.datasets import load_boston\n",
        "from sklearn.ensemble import RandomForestRegressor\n",
        "from sklearn.metrics import mean_squared_error\n",
        "from sklearn.model_selection import cross_val_score\n",
        "from sklearn.model_selection import train_test_split\n",
        "from sklearn.model_selection import RepeatedKFold\n",
        "from sklearn.model_selection import GridSearchCV\n",
        "from sklearn.model_selection import ParameterGrid\n",
        "from sklearn.inspection import permutation_importance\n",
        "import multiprocessing\n",
        "\n",
        "# Configuración warnings\n",
        "# ==============================================================================\n",
        "import warnings\n",
        "warnings.filterwarnings('once')"
      ],
      "metadata": {
        "id": "1JUmvM9oF33H",
        "outputId": "c0ae9486-9896-4552-9f6b-b5ba2730293f",
        "colab": {
          "base_uri": "https://localhost:8080/",
          "height": 1000
        }
      },
      "execution_count": 1,
      "outputs": [
        {
          "output_type": "error",
          "ename": "ImportError",
          "evalue": "\n`load_boston` has been removed from scikit-learn since version 1.2.\n\nThe Boston housing prices dataset has an ethical problem: as\ninvestigated in [1], the authors of this dataset engineered a\nnon-invertible variable \"B\" assuming that racial self-segregation had a\npositive impact on house prices [2]. Furthermore the goal of the\nresearch that led to the creation of this dataset was to study the\nimpact of air quality but it did not give adequate demonstration of the\nvalidity of this assumption.\n\nThe scikit-learn maintainers therefore strongly discourage the use of\nthis dataset unless the purpose of the code is to study and educate\nabout ethical issues in data science and machine learning.\n\nIn this special case, you can fetch the dataset from the original\nsource::\n\n    import pandas as pd\n    import numpy as np\n\n    data_url = \"http://lib.stat.cmu.edu/datasets/boston\"\n    raw_df = pd.read_csv(data_url, sep=\"\\s+\", skiprows=22, header=None)\n    data = np.hstack([raw_df.values[::2, :], raw_df.values[1::2, :2]])\n    target = raw_df.values[1::2, 2]\n\nAlternative datasets include the California housing dataset and the\nAmes housing dataset. You can load the datasets as follows::\n\n    from sklearn.datasets import fetch_california_housing\n    housing = fetch_california_housing()\n\nfor the California housing dataset and::\n\n    from sklearn.datasets import fetch_openml\n    housing = fetch_openml(name=\"house_prices\", as_frame=True)\n\nfor the Ames housing dataset.\n\n[1] M Carlisle.\n\"Racist data destruction?\"\n<https://medium.com/@docintangible/racist-data-destruction-113e3eff54a8>\n\n[2] Harrison Jr, David, and Daniel L. Rubinfeld.\n\"Hedonic housing prices and the demand for clean air.\"\nJournal of environmental economics and management 5.1 (1978): 81-102.\n<https://www.researchgate.net/publication/4974606_Hedonic_housing_prices_and_the_demand_for_clean_air>\n",
          "traceback": [
            "\u001b[0;31m---------------------------------------------------------------------------\u001b[0m",
            "\u001b[0;31mImportError\u001b[0m                               Traceback (most recent call last)",
            "\u001b[0;32m/tmp/ipython-input-1162305663.py\u001b[0m in \u001b[0;36m<cell line: 0>\u001b[0;34m()\u001b[0m\n\u001b[1;32m     10\u001b[0m \u001b[0;31m# Preprocesado y modelado\u001b[0m\u001b[0;34m\u001b[0m\u001b[0;34m\u001b[0m\u001b[0m\n\u001b[1;32m     11\u001b[0m \u001b[0;31m# ==============================================================================\u001b[0m\u001b[0;34m\u001b[0m\u001b[0;34m\u001b[0m\u001b[0m\n\u001b[0;32m---> 12\u001b[0;31m \u001b[0;32mfrom\u001b[0m \u001b[0msklearn\u001b[0m\u001b[0;34m.\u001b[0m\u001b[0mdatasets\u001b[0m \u001b[0;32mimport\u001b[0m \u001b[0mload_boston\u001b[0m\u001b[0;34m\u001b[0m\u001b[0;34m\u001b[0m\u001b[0m\n\u001b[0m\u001b[1;32m     13\u001b[0m \u001b[0;32mfrom\u001b[0m \u001b[0msklearn\u001b[0m\u001b[0;34m.\u001b[0m\u001b[0mensemble\u001b[0m \u001b[0;32mimport\u001b[0m \u001b[0mRandomForestRegressor\u001b[0m\u001b[0;34m\u001b[0m\u001b[0;34m\u001b[0m\u001b[0m\n\u001b[1;32m     14\u001b[0m \u001b[0;32mfrom\u001b[0m \u001b[0msklearn\u001b[0m\u001b[0;34m.\u001b[0m\u001b[0mmetrics\u001b[0m \u001b[0;32mimport\u001b[0m \u001b[0mmean_squared_error\u001b[0m\u001b[0;34m\u001b[0m\u001b[0;34m\u001b[0m\u001b[0m\n",
            "\u001b[0;32m/usr/local/lib/python3.12/dist-packages/sklearn/datasets/__init__.py\u001b[0m in \u001b[0;36m__getattr__\u001b[0;34m(name)\u001b[0m\n\u001b[1;32m    159\u001b[0m             \"\"\"\n\u001b[1;32m    160\u001b[0m         )\n\u001b[0;32m--> 161\u001b[0;31m         \u001b[0;32mraise\u001b[0m \u001b[0mImportError\u001b[0m\u001b[0;34m(\u001b[0m\u001b[0mmsg\u001b[0m\u001b[0;34m)\u001b[0m\u001b[0;34m\u001b[0m\u001b[0;34m\u001b[0m\u001b[0m\n\u001b[0m\u001b[1;32m    162\u001b[0m     \u001b[0;32mtry\u001b[0m\u001b[0;34m:\u001b[0m\u001b[0;34m\u001b[0m\u001b[0;34m\u001b[0m\u001b[0m\n\u001b[1;32m    163\u001b[0m         \u001b[0;32mreturn\u001b[0m \u001b[0mglobals\u001b[0m\u001b[0;34m(\u001b[0m\u001b[0;34m)\u001b[0m\u001b[0;34m[\u001b[0m\u001b[0mname\u001b[0m\u001b[0;34m]\u001b[0m\u001b[0;34m\u001b[0m\u001b[0;34m\u001b[0m\u001b[0m\n",
            "\u001b[0;31mImportError\u001b[0m: \n`load_boston` has been removed from scikit-learn since version 1.2.\n\nThe Boston housing prices dataset has an ethical problem: as\ninvestigated in [1], the authors of this dataset engineered a\nnon-invertible variable \"B\" assuming that racial self-segregation had a\npositive impact on house prices [2]. Furthermore the goal of the\nresearch that led to the creation of this dataset was to study the\nimpact of air quality but it did not give adequate demonstration of the\nvalidity of this assumption.\n\nThe scikit-learn maintainers therefore strongly discourage the use of\nthis dataset unless the purpose of the code is to study and educate\nabout ethical issues in data science and machine learning.\n\nIn this special case, you can fetch the dataset from the original\nsource::\n\n    import pandas as pd\n    import numpy as np\n\n    data_url = \"http://lib.stat.cmu.edu/datasets/boston\"\n    raw_df = pd.read_csv(data_url, sep=\"\\s+\", skiprows=22, header=None)\n    data = np.hstack([raw_df.values[::2, :], raw_df.values[1::2, :2]])\n    target = raw_df.values[1::2, 2]\n\nAlternative datasets include the California housing dataset and the\nAmes housing dataset. You can load the datasets as follows::\n\n    from sklearn.datasets import fetch_california_housing\n    housing = fetch_california_housing()\n\nfor the California housing dataset and::\n\n    from sklearn.datasets import fetch_openml\n    housing = fetch_openml(name=\"house_prices\", as_frame=True)\n\nfor the Ames housing dataset.\n\n[1] M Carlisle.\n\"Racist data destruction?\"\n<https://medium.com/@docintangible/racist-data-destruction-113e3eff54a8>\n\n[2] Harrison Jr, David, and Daniel L. Rubinfeld.\n\"Hedonic housing prices and the demand for clean air.\"\nJournal of environmental economics and management 5.1 (1978): 81-102.\n<https://www.researchgate.net/publication/4974606_Hedonic_housing_prices_and_the_demand_for_clean_air>\n",
            "",
            "\u001b[0;31m---------------------------------------------------------------------------\u001b[0;32m\nNOTE: If your import is failing due to a missing package, you can\nmanually install dependencies using either !pip or !apt.\n\nTo view examples of installing some common dependencies, click the\n\"Open Examples\" button below.\n\u001b[0;31m---------------------------------------------------------------------------\u001b[0m\n"
          ],
          "errorDetails": {
            "actions": [
              {
                "action": "open_url",
                "actionText": "Open Examples",
                "url": "/notebooks/snippets/importing_libraries.ipynb"
              }
            ]
          }
        }
      ]
    },
    {
      "cell_type": "markdown",
      "source": [
        "#Datos\n",
        "\n",
        "El set de datos `Boston` disponible en la librería scikitlearn contiene precios de viviendas de la ciudad de Boston, así como información socio-económica del barrio en el que se encuentran. Se pretende ajustar un modelo de regresión que permita predecir el precio medio de una vivienda (MEDV) en función de las variables disponibles.\n",
        "\n",
        "Number of Instances: 506\n",
        "\n",
        "Number of Attributes: 13 numeric/categorical predictive. Median Value (attribute 14) is usually the target.\n",
        "\n",
        "Attribute Information (in order):\n",
        "\n",
        "- CRIM: per capita crime rate by town\n",
        "- ZN: proportion of residential land zoned for lots over 25,000 sq.ft.\n",
        "- INDUS: proportion of non-retail business acres per town\n",
        "- CHAS: Charles River dummy variable (= 1 if tract bounds river; 0 otherwise)\n",
        "- NOX: nitric oxides concentration (parts per 10 million)\n",
        "- RM: average number of rooms per dwelling\n",
        "- AGE: proportion of owner-occupied units built prior to 1940\n",
        "- DIS: weighted distances to five Boston employment centres\n",
        "- RAD: index of accessibility to radial highways\n",
        "- TAX: full-value property-tax rate per \\$10,000\n",
        "- PTRATIO: pupil-teacher ratio by town\n",
        "- B: 1000(Bk - 0.63)^2 where Bk is the proportion of blacks by town\n",
        "- LSTAT: % lower status of the population\n",
        "- MEDV: Median value of owner-occupied homes in $ 1000's\n",
        "\n",
        "Missing Attribute Values: None\n",
        "\n",
        "Creator: Harrison, D. and Rubinfeld, D.L.\n",
        "\n",
        "This is a copy of UCI ML housing dataset. https://archive.ics.uci.edu/ml/machine-learning-databases/housing/\n"
      ],
      "metadata": {
        "id": "fqGkpFiTSnXb"
      }
    },
    {
      "cell_type": "code",
      "source": [
        "# Se unen todos los datos (predictores y variable respuesta en un único dataframe)\n",
        "boston = load_boston(return_X_y=False)\n",
        "datos = np.column_stack((boston.data, boston.target))\n",
        "datos = pd.DataFrame(datos,columns = np.append(boston.feature_names, \"MEDV\"))\n",
        "datos.head(3)"
      ],
      "metadata": {
        "id": "tyKWzk1NS-sI"
      },
      "execution_count": null,
      "outputs": []
    },
    {
      "cell_type": "code",
      "source": [
        "datos.info()"
      ],
      "metadata": {
        "id": "dDzGO1VOTBPM"
      },
      "execution_count": null,
      "outputs": []
    },
    {
      "cell_type": "markdown",
      "source": [
        "#Ajuste del modelo\n",
        "\n",
        "Se ajusta un modelo empleando como variable respuesta MEDV y como predictores todas las otras variables disponibles.\n",
        "\n",
        "La clase `RandomForestRegressor` del módulo `sklearn.ensemble` permite entrenar modelos random forest para problemas de regresión. Los parámetros e hiperparámetros empleados por defecto son:\n",
        "\n",
        "n_estimators=100\n",
        "criterion='mse'\n",
        "max_depth=None\n",
        "min_samples_split=2\n",
        "min_samples_leaf=1\n",
        "min_weight_fraction_leaf=0.0\n",
        "max_features='auto'\n",
        "max_leaf_nodes=None\n",
        "min_impurity_decrease=0.0\n",
        "min_impurity_split=None\n",
        "bootstrap=True\n",
        "oob_score=False\n",
        "n_jobs=None\n",
        "random_state=None\n",
        "verbose=0\n",
        "warm_start=False\n",
        "ccp_alpha=0.0\n",
        "max_samples=None\n",
        "\n",
        " entre todos ellos, destacan aquellos que detienen el crecimiento de los árboles, los que controlan el número de árboles y predictores incluidos, y los que gestionan la paralelización:\n",
        "\n",
        "- n_estimators: número de árboles incluidos en el modelo.\n",
        "\n",
        "- max_depth: profundidad máxima que pueden alcanzar los árboles.\n",
        "\n",
        "- min_samples_split: número mínimo de observaciones que debe de tener un nodo para que pueda dividirse. Si es un valor decimal se interpreta como fracción del total de observaciones de entrenamiento ceil(min_samples_split * n_samples).\n",
        "\n",
        "- min_samples_leaf: número mínimo de observaciones que debe de tener cada uno de los nodos hijos para que se produzca la división. Si es un valor decimal se interpreta como fracción del total de observaciones de entrenamiento ceil(min_samples_split * n_samples).\n",
        "\n",
        "- max_leaf_nodes: número máximo de nodos terminales que pueden tener los árboles.\n",
        "\n",
        "- max_features: número de predictores considerados a en cada división. Puede ser:\n",
        "\n",
        "  - Un valor entero\n",
        "  - Una fracción del total de predictores.\n",
        "  - “auto”, utiliza todos los predictores.\n",
        "  - “sqrt”, raiz cuadrada del número total de predictores.\n",
        "  - “log2”, log2 del número total de predictores.\n",
        "  - None, utiliza todos los predictores.\n",
        "  - oob_score: Si se calcula o no el out-of-bag R^2. Por defecto es False ya que aumenta el tiempo de entrenamiento.\n",
        "\n",
        "- n_jobs: número de cores empleados para el entrenamiento. En random forest los árboles se ajustan de forma independiente, por lo la paralelización reduce notablemente el tiempo de entrenamiento. Con -1 se utilizan todos los cores disponibles.\n",
        "\n",
        "- random_state: semilla para que los resultados sean reproducibles. Tiene que ser un valor entero.\n",
        "\n",
        "\n",
        "Como en todo estudio predictivo, no solo es importante ajustar el modelo, sino también cuantificar su capacidad para predecir nuevas observaciones. Para poder hacer esta evaluación, se dividen los datos en dos grupos, uno de entrenamiento y otro de test."
      ],
      "metadata": {
        "id": "kLDmaMoPTGxi"
      }
    },
    {
      "cell_type": "code",
      "source": [
        "# División de los datos en train y test\n",
        "# ==============================================================================\n",
        "X_train, X_test, y_train, y_test = train_test_split(\n",
        "                                        datos.drop(columns = \"MEDV\"),\n",
        "                                        datos['MEDV'],\n",
        "                                        random_state = 123\n",
        "                                    )\n",
        "# Creación del modelo\n",
        "# ==============================================================================\n",
        "modelo = RandomForestRegressor(\n",
        "            n_estimators = 10,\n",
        "            criterion    = 'mse',\n",
        "            max_depth    = None,\n",
        "            max_features = 'auto',\n",
        "            oob_score    = False,\n",
        "            n_jobs       = -1,\n",
        "            random_state = 123\n",
        "         )\n",
        "\n",
        "# Entrenamiento del modelo\n",
        "# ==============================================================================\n",
        "modelo.fit(X_train, y_train)"
      ],
      "metadata": {
        "id": "durxcfNaTriM"
      },
      "execution_count": null,
      "outputs": []
    },
    {
      "cell_type": "markdown",
      "source": [
        "# Predicción y evaluación del modelo\n",
        "\n",
        "\n",
        "Una vez entrenado el modelo, se evalúa la capacidad predictiva empleando el conjunto de test."
      ],
      "metadata": {
        "id": "OX0NolMATuwp"
      }
    },
    {
      "cell_type": "code",
      "source": [
        "# Error de test del modelo inicial\n",
        "# ==============================================================================\n",
        "predicciones = modelo.predict(X = X_test)\n",
        "\n",
        "rmse = mean_squared_error(\n",
        "        y_true  = y_test,\n",
        "        y_pred  = predicciones,\n",
        "        squared = False\n",
        "       )\n",
        "print(f\"El error (rmse) de test es: {rmse}\")"
      ],
      "metadata": {
        "id": "mJv4W68NTvzK"
      },
      "execution_count": null,
      "outputs": []
    },
    {
      "cell_type": "markdown",
      "source": [
        "# Optimización de hiperparámetros\n",
        "\n",
        "\n",
        "El modelo inicial se ha entrenado utilizando 10 árboles (n_estimators=10) y manteniendo el resto de hiperparámetros con su valor por defecto. Al ser hiperparámetros, no se puede saber de antemano cuál es el valor más adecuado, la forma de identificarlos es mediante el uso de estrategias de validación, por ejemplo validación cruzada.\n",
        "\n",
        "Los modelos Random Forest tienen la ventaja de disponer del Out-of-Bag error, lo que permite obtener una estimación del error de test sin recurrir a la validación cruzada, que es computacionalmente costosa. En la implementación de `RandomForestRegressor`, la métrica devuelta como oob_score es el  $R^2$ , si se desea otra, se tiene que recurrir al método `oob_decision_function_()` para obtener las predicciones y con ellas calcular la métrica de interés. Para una explicación más detallada consultar: [Grid search de modelos Random Forest con out-of-bag error y early stopping](https://www.cienciadedatos.net/documentos/py36-grid-search-random-forest-out-of-bag-error-early-stopping.html).\n",
        "\n",
        "Cabe tener en cuenta que, cuando se busca el valor óptimo de un hiperparámetro con dos métricas distintas, el resultado obtenido raramente es el mismo. Lo importante es que ambas métricas identifiquen las mismas regiones de interés.\n",
        "\n",
        "## Número de árboles\n",
        "\n",
        "\n",
        "En Random Forest, el número de árboles no es un hiperparámetro crítico en cuanto que, añadir árboles, solo puede hacer que mejorar el resultado. En Random Forest no se produce overfitting por exceso de árboles. Sin embargo, añadir árboles una vez que la mejora se estabiliza es una perdida de recursos computacionales."
      ],
      "metadata": {
        "id": "l6VT2d9PUBll"
      }
    },
    {
      "cell_type": "code",
      "source": [
        "# Validación empleando el Out-of-Bag error\n",
        "# ==============================================================================\n",
        "train_scores = []\n",
        "oob_scores   = []\n",
        "\n",
        "# Valores evaluados\n",
        "estimator_range = range(1, 150, 5)\n",
        "\n",
        "# Bucle para entrenar un modelo con cada valor de n_estimators y extraer su error\n",
        "# de entrenamiento y de Out-of-Bag.\n",
        "for n_estimators in estimator_range:\n",
        "    modelo = RandomForestRegressor(\n",
        "                n_estimators = n_estimators,\n",
        "                criterion    = 'mse',\n",
        "                max_depth    = None,\n",
        "                max_features = 'auto',\n",
        "                oob_score    = True,\n",
        "                n_jobs       = -1,\n",
        "                random_state = 123\n",
        "             )\n",
        "    modelo.fit(X_train, y_train)\n",
        "    train_scores.append(modelo.score(X_train, y_train))\n",
        "    oob_scores.append(modelo.oob_score_)\n",
        "\n",
        "# Gráfico con la evolución de los errores\n",
        "fig, ax = plt.subplots(figsize=(6, 3.84))\n",
        "ax.plot(estimator_range, train_scores, label=\"train scores\")\n",
        "ax.plot(estimator_range, oob_scores, label=\"out-of-bag scores\")\n",
        "ax.plot(estimator_range[np.argmax(oob_scores)], max(oob_scores),\n",
        "        marker='o', color = \"red\", label=\"max score\")\n",
        "ax.set_ylabel(\"R^2\")\n",
        "ax.set_xlabel(\"n_estimators\")\n",
        "ax.set_title(\"Evolución del out-of-bag-error vs número árboles\")\n",
        "plt.legend();\n",
        "print(f\"Valor óptimo de n_estimators: {estimator_range[np.argmax(oob_scores)]}\")"
      ],
      "metadata": {
        "id": "n4aNsDHnUkBr"
      },
      "execution_count": null,
      "outputs": []
    },
    {
      "cell_type": "code",
      "source": [
        "# Validación empleando k-cross-validation y neg_root_mean_squared_error\n",
        "# ==============================================================================\n",
        "train_scores = []\n",
        "cv_scores    = []\n",
        "\n",
        "# Valores evaluados\n",
        "estimator_range = range(1, 150, 5)\n",
        "\n",
        "# Bucle para entrenar un modelo con cada valor de n_estimators y extraer su error\n",
        "# de entrenamiento y de k-cross-validation.\n",
        "for n_estimators in estimator_range:\n",
        "\n",
        "    modelo = RandomForestRegressor(\n",
        "                n_estimators = n_estimators,\n",
        "                criterion    = 'mse',\n",
        "                max_depth    = None,\n",
        "                max_features = 'auto',\n",
        "                oob_score    = False,\n",
        "                n_jobs       = -1,\n",
        "                random_state = 123\n",
        "             )\n",
        "\n",
        "    # Error de train\n",
        "    modelo.fit(X_train, y_train)\n",
        "    predicciones = modelo.predict(X = X_train)\n",
        "    rmse = mean_squared_error(\n",
        "            y_true  = y_train,\n",
        "            y_pred  = predicciones,\n",
        "            squared = False\n",
        "           )\n",
        "    train_scores.append(rmse)\n",
        "\n",
        "    # Error de validación cruzada\n",
        "    scores = cross_val_score(\n",
        "                estimator = modelo,\n",
        "                X         = X_train,\n",
        "                y         = y_train,\n",
        "                scoring   = 'neg_root_mean_squared_error',\n",
        "                cv        = 5\n",
        "             )\n",
        "    # Se agregan los scores de cross_val_score() y se pasa a positivo\n",
        "    cv_scores.append(-1*scores.mean())\n",
        "\n",
        "# Gráfico con la evolución de los errores\n",
        "fig, ax = plt.subplots(figsize=(6, 3.84))\n",
        "ax.plot(estimator_range, train_scores, label=\"train scores\")\n",
        "ax.plot(estimator_range, cv_scores, label=\"cv scores\")\n",
        "ax.plot(estimator_range[np.argmin(cv_scores)], min(cv_scores),\n",
        "        marker='o', color = \"red\", label=\"min score\")\n",
        "ax.set_ylabel(\"root_mean_squared_error\")\n",
        "ax.set_xlabel(\"n_estimators\")\n",
        "ax.set_title(\"Evolución del cv-error vs número árboles\")\n",
        "plt.legend();\n",
        "print(f\"Valor óptimo de n_estimators: {estimator_range[np.argmin(cv_scores)]}\")"
      ],
      "metadata": {
        "id": "Oo-rDwksUu1z"
      },
      "execution_count": null,
      "outputs": []
    },
    {
      "cell_type": "markdown",
      "source": [
        "Ambas métricas indican que, a partir de entre 20 y 60 árboles, el error de validación del modelo se estabiliza.\n",
        "\n",
        "## Max features\n",
        "El valor de máx_features es uno de los hiperparámetros más importantes de random forest, ya que es el que permite controlar cuánto se decorrelacionan los árboles entre sí."
      ],
      "metadata": {
        "id": "W9s_Q25ZUxMc"
      }
    },
    {
      "cell_type": "code",
      "source": [
        "# Validación empleando el Out-of-Bag error\n",
        "# ==============================================================================\n",
        "train_scores = []\n",
        "oob_scores   = []\n",
        "\n",
        "# Valores evaluados\n",
        "max_features_range = range(1, X_train.shape[1] + 1, 1)\n",
        "\n",
        "# Bucle para entrenar un modelo con cada valor de max_features y extraer su error\n",
        "# de entrenamiento y de Out-of-Bag.\n",
        "for max_features in max_features_range:\n",
        "    modelo = RandomForestRegressor(\n",
        "                n_estimators = 100,\n",
        "                criterion    = 'mse',\n",
        "                max_depth    = None,\n",
        "                max_features = max_features,\n",
        "                oob_score    = True,\n",
        "                n_jobs       = -1,\n",
        "                random_state = 123\n",
        "             )\n",
        "    modelo.fit(X_train, y_train)\n",
        "    train_scores.append(modelo.score(X_train, y_train))\n",
        "    oob_scores.append(modelo.oob_score_)\n",
        "\n",
        "# Gráfico con la evolución de los errores\n",
        "fig, ax = plt.subplots(figsize=(6, 3.84))\n",
        "ax.plot(max_features_range, train_scores, label=\"train scores\")\n",
        "ax.plot(max_features_range, oob_scores, label=\"out-of-bag scores\")\n",
        "ax.plot(max_features_range[np.argmax(oob_scores)], max(oob_scores),\n",
        "        marker='o', color = \"red\")\n",
        "ax.set_ylabel(\"R^2\")\n",
        "ax.set_xlabel(\"max_features\")\n",
        "ax.set_title(\"Evolución del out-of-bag-error vs número de predictores\")\n",
        "plt.legend();\n",
        "print(f\"Valor óptimo de max_features: {max_features_range[np.argmax(oob_scores)]}\")"
      ],
      "metadata": {
        "id": "DLmFtMd3UzGL"
      },
      "execution_count": null,
      "outputs": []
    },
    {
      "cell_type": "code",
      "source": [
        "# Validación empleando k-cross-validation y neg_root_mean_squared_error\n",
        "# ==============================================================================\n",
        "train_scores = []\n",
        "cv_scores    = []\n",
        "\n",
        "# Valores evaluados\n",
        "max_features_range = range(1, X_train.shape[1] + 1, 1)\n",
        "\n",
        "# Bucle para entrenar un modelo con cada valor de max_features y extraer su error\n",
        "# de entrenamiento y de k-cross-validation.\n",
        "for max_features in max_features_range:\n",
        "\n",
        "    modelo = RandomForestRegressor(\n",
        "                n_estimators = 100,\n",
        "                criterion    = 'mse',\n",
        "                max_depth    = None,\n",
        "                max_features = max_features,\n",
        "                oob_score    = True,\n",
        "                n_jobs       = -1,\n",
        "                random_state = 123\n",
        "             )\n",
        "\n",
        "    # Error de train\n",
        "    modelo.fit(X_train, y_train)\n",
        "    predicciones = modelo.predict(X = X_train)\n",
        "    rmse = mean_squared_error(\n",
        "            y_true  = y_train,\n",
        "            y_pred  = predicciones,\n",
        "            squared = False\n",
        "           )\n",
        "    train_scores.append(rmse)\n",
        "\n",
        "    # Error de validación cruzada\n",
        "    scores = cross_val_score(\n",
        "                estimator = modelo,\n",
        "                X         = X_train,\n",
        "                y         = y_train,\n",
        "                scoring   = 'neg_root_mean_squared_error',\n",
        "                cv        = 5\n",
        "             )\n",
        "    # Se agregan los scores de cross_val_score() y se pasa a positivo\n",
        "    cv_scores.append(-1*scores.mean())\n",
        "\n",
        "# Gráfico con la evolución de los errores\n",
        "fig, ax = plt.subplots(figsize=(6, 3.84))\n",
        "ax.plot(max_features_range, train_scores, label=\"train scores\")\n",
        "ax.plot(max_features_range, cv_scores, label=\"cv scores\")\n",
        "ax.plot(max_features_range[np.argmin(cv_scores)], min(cv_scores),\n",
        "        marker='o', color = \"red\", label=\"min score\")\n",
        "ax.set_ylabel(\"root_mean_squared_error\")\n",
        "ax.set_xlabel(\"max_features\")\n",
        "ax.set_title(\"Evolución del cv-error vs número de predictores\")\n",
        "plt.legend();\n",
        "print(f\"Valor óptimo de max_features: {max_features_range[np.argmin(cv_scores)]}\")"
      ],
      "metadata": {
        "id": "3OTf05ibXaxY"
      },
      "execution_count": null,
      "outputs": []
    },
    {
      "cell_type": "markdown",
      "source": [
        "Acorde a las dos métricas utilizadas, el valor óptimo de max_features está entre 5 y 9.\n",
        "\n",
        "\n",
        "# Grid search\n",
        "\n",
        "\n",
        "Aunque el análisis individual de los hiperparámetros es útil para entender su impacto en el modelo e identificar rangos de interés, la búsqueda final no debe hacerse de forma secuencial, ya que cada hiperparámetro interacciona con los demás. Es preferible recurrir a grid search o random search para analizar varias combinaciones de hiperparámetros. Puede encontrarse más información sobre las estrategias de búsqueda en Machine learning con Python y Scikit-learn.\n",
        "\n",
        "# Grid Search basado en out-of-bag error"
      ],
      "metadata": {
        "id": "yFmTYPG_Xd96"
      }
    },
    {
      "cell_type": "code",
      "source": [
        "# Grid de hiperparámetros evaluados\n",
        "# ==============================================================================\n",
        "param_grid = ParameterGrid(\n",
        "                {'n_estimators': [50, 100, 150],\n",
        "                 'max_features': [5, 7, 9],\n",
        "                 'max_depth'   : [None, 3, 10, 20]\n",
        "                }\n",
        "             )\n",
        "\n",
        "# Loop para ajustar un modelo con cada combinación de hiperparámetros\n",
        "# ==============================================================================\n",
        "resultados = {'params': [], 'oob_r2': []}\n",
        "\n",
        "for params in param_grid:\n",
        "\n",
        "    modelo = RandomForestRegressor(\n",
        "                oob_score    = True,\n",
        "                n_jobs       = -1,\n",
        "                random_state = 123,\n",
        "                ** params\n",
        "             )\n",
        "\n",
        "    modelo.fit(X_train, y_train)\n",
        "\n",
        "    resultados['params'].append(params)\n",
        "    resultados['oob_r2'].append(modelo.oob_score_)\n",
        "    print(f\"Modelo: {params} \\u2713\")\n",
        "\n",
        "# Resultados\n",
        "# ==============================================================================\n",
        "resultados = pd.DataFrame(resultados)\n",
        "resultados = pd.concat([resultados, resultados['params'].apply(pd.Series)], axis=1)\n",
        "resultados = resultados.drop(columns = 'params')\n",
        "resultados = resultados.sort_values('oob_r2', ascending=False)\n",
        "resultados.head(4)"
      ],
      "metadata": {
        "id": "sb4BJ_YoYEHM"
      },
      "execution_count": null,
      "outputs": []
    },
    {
      "cell_type": "code",
      "source": [
        "# VERSIÓN PARALELIZADA\n",
        "# ==============================================================================\n",
        "\n",
        "# Grid de hiperparámetros evaluados\n",
        "# ==============================================================================\n",
        "param_grid = ParameterGrid(\n",
        "                {'n_estimators': [150],\n",
        "                 'max_features': [5, 7, 9],\n",
        "                 'max_depth'   : [None, 3, 10, 20]\n",
        "                }\n",
        "             )\n",
        "\n",
        "# Loop paralelizado para ajustar un modelo con cada combinación de hiperparámetros\n",
        "# ==============================================================================\n",
        "def eval_oob_error(X, y, modelo, params, verbose=True):\n",
        "    \"\"\"\n",
        "    Función para entrenar un modelo utilizando unos parámetros determinados\n",
        "    y que devuelve el out-of-bag error\n",
        "    \"\"\"\n",
        "    modelo.set_params(\n",
        "        oob_score    = True,\n",
        "        n_jobs       = -1,\n",
        "        random_state = 123,\n",
        "        ** params\n",
        "    )\n",
        "\n",
        "    modelo.fit(X, y)\n",
        "\n",
        "    if verbose:\n",
        "        print(f\"Modelo: {params} \\u2713\")\n",
        "\n",
        "    return{'params': params, 'oob_r2': modelo.oob_score_}\n",
        "\n",
        "\n",
        "n_jobs     = multiprocessing.cpu_count() -1\n",
        "pool       = multiprocessing.Pool(processes=n_jobs)\n",
        "resultados = pool.starmap(\n",
        "                eval_oob_error,\n",
        "                [(X_train, y_train, RandomForestRegressor(), params) for params in param_grid]\n",
        "             )\n",
        "\n",
        "# Resultados\n",
        "# ==============================================================================\n",
        "resultados = pd.DataFrame(resultados)\n",
        "resultados = pd.concat([resultados, resultados['params'].apply(pd.Series)], axis=1)\n",
        "resultados = resultados.drop(columns = 'params')\n",
        "resultados = resultados.sort_values('oob_r2', ascending=False)\n",
        "resultados.head(4)"
      ],
      "metadata": {
        "id": "dJ51Jbp3YKQ9"
      },
      "execution_count": null,
      "outputs": []
    },
    {
      "cell_type": "code",
      "source": [
        "# Mejores hiperparámetros por out-of-bag error\n",
        "# ==============================================================================\n",
        "print(\"--------------------------------------------\")\n",
        "print(\"Mejores hiperparámetros encontrados (oob-r2)\")\n",
        "print(\"--------------------------------------------\")\n",
        "print(resultados.iloc[0,0], \":\", resultados.iloc[0,:]['oob_r2'], \"R2\")"
      ],
      "metadata": {
        "id": "i6fDm5eFYN1o"
      },
      "execution_count": null,
      "outputs": []
    },
    {
      "cell_type": "markdown",
      "source": [
        "## Grid Search basado en validación cruzada"
      ],
      "metadata": {
        "id": "_ya92ySZYQX8"
      }
    },
    {
      "cell_type": "code",
      "source": [],
      "metadata": {
        "id": "mdDQUWqIYRcb"
      },
      "execution_count": null,
      "outputs": []
    },
    {
      "cell_type": "code",
      "source": [
        "# Grid de hiperparámetros evaluados\n",
        "# ==============================================================================\n",
        "param_grid = {'n_estimators': [150],\n",
        "              'max_features': [5, 7, 9],\n",
        "              'max_depth'   : [None, 3, 10, 20]\n",
        "             }\n",
        "\n",
        "# Búsqueda por grid search con validación cruzada\n",
        "# ==============================================================================\n",
        "grid = GridSearchCV(\n",
        "        estimator  = RandomForestRegressor(random_state = 123),\n",
        "        param_grid = param_grid,\n",
        "        scoring    = 'neg_root_mean_squared_error',\n",
        "        n_jobs     = multiprocessing.cpu_count() - 1,\n",
        "        cv         = RepeatedKFold(n_splits=5, n_repeats=3, random_state=123),\n",
        "        refit      = True,\n",
        "        verbose    = 0,\n",
        "        return_train_score = True\n",
        "       )\n",
        "\n",
        "grid.fit(X = X_train, y = y_train)\n",
        "\n",
        "# Resultados\n",
        "# ==============================================================================\n",
        "resultados = pd.DataFrame(grid.cv_results_)\n",
        "resultados.filter(regex = '(param.*|mean_t|std_t)') \\\n",
        "    .drop(columns = 'params') \\\n",
        "    .sort_values('mean_test_score', ascending = False) \\\n",
        "    .head(4)"
      ],
      "metadata": {
        "id": "Osf8-EGBYTtI"
      },
      "execution_count": null,
      "outputs": []
    },
    {
      "cell_type": "code",
      "source": [
        "# Mejores hiperparámetros por validación cruzada\n",
        "# ==============================================================================\n",
        "print(\"----------------------------------------\")\n",
        "print(\"Mejores hiperparámetros encontrados (cv)\")\n",
        "print(\"----------------------------------------\")\n",
        "print(grid.best_params_, \":\", grid.best_score_, grid.scoring)"
      ],
      "metadata": {
        "id": "6-d7lGjLYV29"
      },
      "execution_count": null,
      "outputs": []
    },
    {
      "cell_type": "markdown",
      "source": [
        "Una vez identificados los mejores hiperparámetros, se reentrena el modelo indicando los valores óptimos en sus argumentos. Si en el `GridSearchCV()` se indica `refit=True`, este reentrenamiento se hace automáticamente y el modelo resultante se encuentra almacenado en `.best_estimator_`."
      ],
      "metadata": {
        "id": "5cNWwkEXYYBw"
      }
    },
    {
      "cell_type": "code",
      "source": [
        "# Error de test del modelo final\n",
        "# ==============================================================================\n",
        "modelo_final = grid.best_estimator_\n",
        "predicciones = modelo.predict(X = X_test)\n",
        "rmse = mean_squared_error(\n",
        "        y_true  = y_test,\n",
        "        y_pred  = predicciones,\n",
        "        squared = False\n",
        "       )\n",
        "print(f\"El error (rmse) de test es: {rmse}\")"
      ],
      "metadata": {
        "id": "uDFRE9ovY9kb"
      },
      "execution_count": null,
      "outputs": []
    },
    {
      "cell_type": "markdown",
      "source": [
        "Tras optimizar los hiperparámetros, se consigue reducir el error rmse del modelo de 4.35 a 3.74. Las predicciones del modelo final se alejan en promedio 3.74 unidades (3740 dólares) del valor real.\n",
        "\n",
        "\n",
        "# Importancia de predictores\n",
        "\n",
        "\n",
        "## Importancia por pureza de nodos"
      ],
      "metadata": {
        "id": "GAFnBOipZAMe"
      }
    },
    {
      "cell_type": "code",
      "source": [
        "importancia_predictores = pd.DataFrame(\n",
        "                            {'predictor': datos.drop(columns = \"MEDV\").columns,\n",
        "                             'importancia': modelo.feature_importances_}\n",
        "                            )\n",
        "print(\"Importancia de los predictores en el modelo\")\n",
        "print(\"-------------------------------------------\")\n",
        "importancia_predictores.sort_values('importancia', ascending=False)"
      ],
      "metadata": {
        "id": "lv-6nTm9ZEPH"
      },
      "execution_count": null,
      "outputs": []
    },
    {
      "cell_type": "markdown",
      "source": [
        "## Importancia por permutación"
      ],
      "metadata": {
        "id": "vwhdVrGFZGz7"
      }
    },
    {
      "cell_type": "code",
      "source": [
        "importancia = permutation_importance(\n",
        "                estimator    = modelo_final,\n",
        "                X            = X_train,\n",
        "                y            = y_train,\n",
        "                n_repeats    = 5,\n",
        "                scoring      = 'neg_root_mean_squared_error',\n",
        "                n_jobs       = multiprocessing.cpu_count() - 1,\n",
        "                random_state = 123\n",
        "             )\n",
        "\n",
        "# Se almacenan los resultados (media y desviación) en un dataframe\n",
        "df_importancia = pd.DataFrame(\n",
        "                    {k: importancia[k] for k in ['importances_mean', 'importances_std']}\n",
        "                 )\n",
        "df_importancia['feature'] = X_train.columns\n",
        "df_importancia.sort_values('importances_mean', ascending=False)"
      ],
      "metadata": {
        "id": "jLMCF4kRZIbv"
      },
      "execution_count": null,
      "outputs": []
    },
    {
      "cell_type": "code",
      "source": [
        "# Gráfico\n",
        "fig, ax = plt.subplots(figsize=(5, 6))\n",
        "df_importancia = df_importancia.sort_values('importances_mean', ascending=True)\n",
        "ax.barh(\n",
        "    df_importancia['feature'],\n",
        "    df_importancia['importances_mean'],\n",
        "    xerr=df_importancia['importances_std'],\n",
        "    align='center',\n",
        "    alpha=0\n",
        ")\n",
        "ax.plot(\n",
        "    df_importancia['importances_mean'],\n",
        "    df_importancia['feature'],\n",
        "    marker=\"D\",\n",
        "    linestyle=\"\",\n",
        "    alpha=0.8,\n",
        "    color=\"r\"\n",
        ")\n",
        "ax.set_title('Importancia de los predictores (train)')\n",
        "ax.set_xlabel('Incremento del error tras la permutación');"
      ],
      "metadata": {
        "id": "y1omIUM7ZNWw"
      },
      "execution_count": null,
      "outputs": []
    },
    {
      "cell_type": "markdown",
      "source": [
        "# Ejemplo clasificación\n",
        "\n",
        "\n",
        "# Librerías\n",
        "\n",
        "\n",
        "Las librerías utilizadas en este documento son:"
      ],
      "metadata": {
        "id": "rrJBSSHwdgb9"
      }
    },
    {
      "cell_type": "code",
      "source": [
        "# Tratamiento de datos\n",
        "# ==============================================================================\n",
        "import numpy as np\n",
        "import pandas as pd\n",
        "import statsmodels.api as sm\n",
        "\n",
        "# Gráficos\n",
        "# ==============================================================================\n",
        "import matplotlib.pyplot as plt\n",
        "\n",
        "# Preprocesado y modelado\n",
        "# ==============================================================================\n",
        "from sklearn.datasets import load_boston\n",
        "from sklearn.ensemble import RandomForestClassifier\n",
        "from sklearn.metrics import accuracy_score\n",
        "from sklearn.metrics import confusion_matrix\n",
        "from sklearn.metrics import plot_confusion_matrix\n",
        "from sklearn.metrics import classification_report\n",
        "from sklearn.compose import ColumnTransformer\n",
        "from sklearn.preprocessing import OneHotEncoder\n",
        "from sklearn.model_selection import cross_val_score\n",
        "from sklearn.model_selection import train_test_split\n",
        "from sklearn.model_selection import RepeatedKFold\n",
        "from sklearn.model_selection import GridSearchCV\n",
        "\n",
        "import multiprocessing\n",
        "\n",
        "# Configuración warnings\n",
        "# ==============================================================================\n",
        "import warnings\n",
        "warnings.filterwarnings('once')"
      ],
      "metadata": {
        "id": "lCH5WCvCdirF"
      },
      "execution_count": null,
      "outputs": []
    },
    {
      "cell_type": "markdown",
      "source": [
        "# Datos\n",
        "\n",
        "\n",
        "El set de datos Carseats, original del paquete de R ISLR y accesible en Python a través de `statsmodels.datasets.get_rdataset`, contiene información sobre la venta de sillas infantiles en 400 tiendas distintas. Para cada una de las 400 tiendas se han registrado 11 variables. Se pretende generar un modelo de clasificación que permita predecir si una tienda tiene ventas altas (Sales > 8) o bajas (Sales <= 8) en función de todas las variables disponibles.\n",
        "\n",
        "Nota: listado de todos los set de datos disponibles en [Rdatasets](https://vincentarelbundock.github.io/Rdatasets/articles/data.html)"
      ],
      "metadata": {
        "id": "E8rwC9jUdnlD"
      }
    },
    {
      "cell_type": "code",
      "source": [
        "carseats = sm.datasets.get_rdataset(\"Carseats\", \"ISLR\")\n",
        "datos = carseats.data\n",
        "print(carseats.__doc__)"
      ],
      "metadata": {
        "id": "fd820Z1geE6_"
      },
      "execution_count": null,
      "outputs": []
    },
    {
      "cell_type": "code",
      "source": [
        "datos.head(3)"
      ],
      "metadata": {
        "id": "e2LrNVnld-9T"
      },
      "execution_count": null,
      "outputs": []
    },
    {
      "cell_type": "markdown",
      "source": [
        "Como `Sales` es una variable continua y el objetivo del estudio es clasificar las tiendas según si venden mucho o poco, se crea una nueva variable binaria (0, 1) llamada `ventas_altas`."
      ],
      "metadata": {
        "id": "cBlZ74d7eRA8"
      }
    },
    {
      "cell_type": "code",
      "source": [
        "datos['ventas_altas'] = np.where(datos.Sales > 8, 0, 1)\n",
        "# Una vez creada la nueva variable respuesta se descarta la original\n",
        "datos = datos.drop(columns = 'Sales')"
      ],
      "metadata": {
        "id": "1wuexPjgeXgk"
      },
      "execution_count": null,
      "outputs": []
    },
    {
      "cell_type": "markdown",
      "source": [
        "# Ajuste del modelo y optimización de hiperparámetros\n",
        "\n",
        "\n",
        "Se ajusta un árbol de clasificación empleando como variable respuesta `ventas_altas` y como predictores todas las variables disponibles. Se utilizan en primer lugar los hiperparámetros `max_depth=5 `y `criterion='gini'`, el resto se dejan por defecto. Después, se aplica el proceso de pruning y se comparan los resultados frente al modelo inicial.\n",
        "\n",
        "A diferencia del ejemplo anterior, en estos datos hay variables categóricas por lo que, antes de entrenar el modelo, es necesario aplicar one-hot-encoding. Puede encontrarse una descripción más detallada de este proceso en Machine learning con Python y Scikit-learn."
      ],
      "metadata": {
        "id": "q-c1C22Qecp_"
      }
    },
    {
      "cell_type": "code",
      "source": [
        "# División de los datos en train y test\n",
        "# ==============================================================================\n",
        "X_train, X_test, y_train, y_test = train_test_split(\n",
        "                                        datos.drop(columns = 'ventas_altas'),\n",
        "                                        datos['ventas_altas'],\n",
        "                                        random_state = 123\n",
        "                                    )\n",
        "\n",
        "# One-hot-encoding de las variables categóricas\n",
        "# ==============================================================================\n",
        "# Se identifica el nobre de las columnas numéricas y categóricas\n",
        "cat_cols = X_train.select_dtypes(include=['object', 'category']).columns.to_list()\n",
        "numeric_cols = X_train.select_dtypes(include=['float64', 'int']).columns.to_list()\n",
        "\n",
        "# Se aplica one-hot-encoding solo a las columnas categóricas\n",
        "preprocessor = ColumnTransformer(\n",
        "                    [('onehot', OneHotEncoder(handle_unknown='ignore'), cat_cols)],\n",
        "                    remainder='passthrough'\n",
        "               )\n",
        "\n",
        "# Una vez que se ha definido el objeto ColumnTransformer, con el método fit()\n",
        "# se aprenden las transformaciones con los datos de entrenamiento y se aplican a\n",
        "# los dos conjuntos con transform(). Ambas operaciones a la vez con fit_transform().\n",
        "X_train_prep = preprocessor.fit_transform(X_train)\n",
        "X_test_prep  = preprocessor.transform(X_test)"
      ],
      "metadata": {
        "id": "2dHVKS5PemVI"
      },
      "execution_count": null,
      "outputs": []
    },
    {
      "cell_type": "markdown",
      "source": [
        "El resultado devuelto por `ColumnTransformer` es un `numpy array`, por lo que se pierden los nombres de las columnas. Es interesante poder inspeccionar cómo queda el set de datos tras el preprocesado en formato `dataframe`. Por defecto, `OneHotEncoder` ordena las nuevas columnas de izquierda a derecha por orden alfabético."
      ],
      "metadata": {
        "id": "McfLp4raeqwk"
      }
    },
    {
      "cell_type": "code",
      "source": [
        "# Convertir el output del ColumnTransformer en dataframe y añadir nombre columnas\n",
        "# ==============================================================================\n",
        "# Nombre de todas las columnas\n",
        "encoded_cat = preprocessor.named_transformers_['onehot'].get_feature_names(cat_cols)\n",
        "labels = np.concatenate([numeric_cols, encoded_cat])\n",
        "\n",
        "# Conversión a dataframe\n",
        "X_train_prep = pd.DataFrame(X_train_prep, columns=labels)\n",
        "X_test_prep  = pd.DataFrame(X_test_prep, columns=labels)\n",
        "X_train_prep.info()"
      ],
      "metadata": {
        "id": "POTGm2G6eXmk"
      },
      "execution_count": null,
      "outputs": []
    },
    {
      "cell_type": "markdown",
      "source": [
        "Si bien `RandomForestClassifier` tiene valores por defecto para sus hiperparámetros, no se puede saber de antemano si estos son los más adecuados, la forma de identificarlos es mediante el uso de estrategias de validación, por ejemplo validación cruzada.\n",
        "\n",
        "Los modelos Random Forest tienen la ventaja de disponer del Out-of-Bag error, lo que permite obtener una estimación del error de test sin recurrir a la validación cruzada, que es computacionalmente costosa. En la implementación de `RandomForestClassifier`, la métrica devuelta como oob_score es el accuracy, si se desea otra, se tiene que recurrir al método `oob_decision_function_()` para obtener las predicciones y con ellas calcular la métrica de interés. Para una explicación más detallada consultar: Grid search de modelos Random Forest con out-of-bag error y early stopping. Cabe tener en cuenta que, cuando se busca el valor óptimo de un hiperparámetro con dos métricas distintas, el resultado obtenido raramente es el mismo. Lo importante es que ambas métricas identifiquen las mismas regiones de interés.\n",
        "\n",
        "Aunque el análisis individual de los hiperparámetros es útil para entender su impacto en el modelo e identificar rangos de interés, la búsqueda final no debe hacerse de forma secuencial, ya que cada hiperparámetro interacciona con los demás. Es preferible recurrir a grid search o random search para analizar varias combinaciones de hiperparámetros. Puede encontrarse más información sobre las estrategias de búsqueda en Machine learning con Python y Scikit-learn.\n",
        "\n",
        "# Grid Search basado en out-of-bag score"
      ],
      "metadata": {
        "id": "ro1YYFE5e4zC"
      }
    },
    {
      "cell_type": "code",
      "source": [
        "# Grid de hiperparámetros evaluados\n",
        "# ==============================================================================\n",
        "param_grid = ParameterGrid(\n",
        "                {'n_estimators': [150],\n",
        "                 'max_features': [5, 7, 9],\n",
        "                 'max_depth'   : [None, 3, 10, 20],\n",
        "                 'criterion'   : ['gini', 'entropy']\n",
        "                }\n",
        "            )\n",
        "\n",
        "# Loop para ajustar un modelo con cada combinación de hiperparámetros\n",
        "# ==============================================================================\n",
        "resultados = {'params': [], 'oob_accuracy': []}\n",
        "\n",
        "for params in param_grid:\n",
        "\n",
        "    modelo = RandomForestClassifier(\n",
        "                oob_score    = True,\n",
        "                n_jobs       = -1,\n",
        "                random_state = 123,\n",
        "                ** params\n",
        "             )\n",
        "\n",
        "    modelo.fit(X_train_prep, y_train)\n",
        "\n",
        "    resultados['params'].append(params)\n",
        "    resultados['oob_accuracy'].append(modelo.oob_score_)\n",
        "    print(f\"Modelo: {params} \\u2713\")\n",
        "\n",
        "# Resultados\n",
        "# ==============================================================================\n",
        "resultados = pd.DataFrame(resultados)\n",
        "resultados = pd.concat([resultados, resultados['params'].apply(pd.Series)], axis=1)\n",
        "resultados = resultados.sort_values('oob_accuracy', ascending=False)\n",
        "resultados = resultados.drop(columns = 'params')\n",
        "resultados.head(4)"
      ],
      "metadata": {
        "id": "pu8evdU9fD25"
      },
      "execution_count": null,
      "outputs": []
    },
    {
      "cell_type": "code",
      "source": [
        "# VERSIÓN PARALELIZADA\n",
        "# ==============================================================================\n",
        "\n",
        "# Loop para ajustar un modelo con cada combinación de hiperparámetros\n",
        "# ==============================================================================\n",
        "param_grid = ParameterGrid(\n",
        "                {'n_estimators': [150],\n",
        "                 'max_features': [5, 7, 9],\n",
        "                 'max_depth'   : [None, 3, 10, 20],\n",
        "                 'criterion'   : ['gini', 'entropy']\n",
        "                }\n",
        "            )\n",
        "\n",
        "# Loop paralelizado para ajustar un modelo con cada combinación de hiperparámetros\n",
        "# ==============================================================================\n",
        "def eval_oob_error(X, y, modelo, params, verbose=True):\n",
        "    \"\"\"\n",
        "    Función para entrenar un modelo utilizando unos parámetros determinados\n",
        "    y que devuelve el out-of-bag error\n",
        "    \"\"\"\n",
        "    modelo.set_params(\n",
        "        oob_score    = True,\n",
        "        n_jobs       = -1,\n",
        "        random_state = 123,\n",
        "        ** params\n",
        "    )\n",
        "\n",
        "    modelo.fit(X, y)\n",
        "\n",
        "    if verbose:\n",
        "        print(f\"Modelo: {params} \\u2713\")\n",
        "\n",
        "    return{'params': params, 'oob_accuracy': modelo.oob_score_}\n",
        "\n",
        "\n",
        "n_jobs     = multiprocessing.cpu_count() -1\n",
        "pool       = multiprocessing.Pool(processes=n_jobs)\n",
        "resultados = pool.starmap(\n",
        "                eval_oob_error,\n",
        "                [(X_train_prep, y_train, RandomForestClassifier(), params) for params in param_grid]\n",
        "             )\n",
        "\n",
        "# Resultados\n",
        "# ==============================================================================\n",
        "resultados = pd.DataFrame(resultados)\n",
        "resultados = pd.concat([resultados, resultados['params'].apply(pd.Series)], axis=1)\n",
        "resultados = resultados.drop(columns = 'params')\n",
        "resultados = resultados.sort_values('oob_accuracy', ascending=False)\n",
        "resultados.head(4)"
      ],
      "metadata": {
        "id": "hhm4rjXffKS6"
      },
      "execution_count": null,
      "outputs": []
    },
    {
      "cell_type": "code",
      "source": [
        "# Mejores hiperparámetros por out-of-bag error\n",
        "# ==============================================================================\n",
        "print(\"--------------------------------------------------\")\n",
        "print(\"Mejores hiperparámetros encontrados (oob-accuracy)\")\n",
        "print(\"--------------------------------------------------\")\n",
        "print(resultados.iloc[0,0], \":\", resultados.iloc[0,:]['oob_accuracy'], \"accuracy\")"
      ],
      "metadata": {
        "id": "pcfOeOQjfPmj"
      },
      "execution_count": null,
      "outputs": []
    },
    {
      "cell_type": "markdown",
      "source": [
        "# Grid Search basado en validación cruzada"
      ],
      "metadata": {
        "id": "k9DsB-eAfRmn"
      }
    },
    {
      "cell_type": "code",
      "source": [
        "# Grid de hiperparámetros evaluados\n",
        "# ==============================================================================\n",
        "param_grid = {'n_estimators': [150],\n",
        "              'max_features': [5, 7, 9],\n",
        "              'max_depth'   : [None, 3, 10, 20],\n",
        "              'criterion'   : ['gini', 'entropy']\n",
        "             }\n",
        "\n",
        "# Búsqueda por grid search con validación cruzada\n",
        "# ==============================================================================\n",
        "grid = GridSearchCV(\n",
        "        estimator  = RandomForestClassifier(random_state = 123),\n",
        "        param_grid = param_grid,\n",
        "        scoring    = 'accuracy',\n",
        "        n_jobs     = multiprocessing.cpu_count() - 1,\n",
        "        cv         = RepeatedKFold(n_splits=5, n_repeats=3, random_state=123),\n",
        "        refit      = True,\n",
        "        verbose    = 0,\n",
        "        return_train_score = True\n",
        "       )\n",
        "\n",
        "grid.fit(X = X_train_prep, y = y_train)\n",
        "\n",
        "# Resultados\n",
        "# ==============================================================================\n",
        "resultados = pd.DataFrame(grid.cv_results_)\n",
        "resultados.filter(regex = '(param*|mean_t|std_t)') \\\n",
        "    .drop(columns = 'params') \\\n",
        "    .sort_values('mean_test_score', ascending = False) \\\n",
        "    .head(4)"
      ],
      "metadata": {
        "id": "j_tQwwp7fScE"
      },
      "execution_count": null,
      "outputs": []
    },
    {
      "cell_type": "code",
      "source": [
        "# Mejores hiperparámetros por validación cruzada\n",
        "# ==============================================================================\n",
        "print(\"----------------------------------------\")\n",
        "print(\"Mejores hiperparámetros encontrados (cv)\")\n",
        "print(\"----------------------------------------\")\n",
        "print(grid.best_params_, \":\", grid.best_score_, grid.scoring)"
      ],
      "metadata": {
        "id": "IAS8Jb8efVx5"
      },
      "execution_count": null,
      "outputs": []
    },
    {
      "cell_type": "code",
      "source": [
        "modelo_final = grid.best_estimator_"
      ],
      "metadata": {
        "id": "lGfx9PnvfYb6"
      },
      "execution_count": null,
      "outputs": []
    },
    {
      "cell_type": "markdown",
      "source": [
        "# Predicción y evaluación del modelo\n",
        "\n",
        "\n",
        "Por último, se evalúa la capacidad predictiva del modelo final empleando el conjunto de test."
      ],
      "metadata": {
        "id": "UjyUYmPrfano"
      }
    },
    {
      "cell_type": "code",
      "source": [
        "# Error de test del modelo final\n",
        "# ==============================================================================\n",
        "predicciones = modelo_final.predict(X = X_test_prep)\n",
        "predicciones[:10]"
      ],
      "metadata": {
        "id": "olmTCix1fb04"
      },
      "execution_count": null,
      "outputs": []
    },
    {
      "cell_type": "code",
      "source": [
        "mat_confusion = confusion_matrix(\n",
        "                    y_true    = y_test,\n",
        "                    y_pred    = predicciones\n",
        "                )\n",
        "\n",
        "accuracy = accuracy_score(\n",
        "            y_true    = y_test,\n",
        "            y_pred    = predicciones,\n",
        "            normalize = True\n",
        "           )\n",
        "\n",
        "print(\"Matriz de confusión\")\n",
        "print(\"-------------------\")\n",
        "print(mat_confusion)\n",
        "print(\"\")\n",
        "print(f\"El accuracy de test es: {100 * accuracy} %\")"
      ],
      "metadata": {
        "id": "2lxBBzWqfgd5"
      },
      "execution_count": null,
      "outputs": []
    },
    {
      "cell_type": "code",
      "source": [
        "print(\n",
        "    classification_report(\n",
        "        y_true = y_test,\n",
        "        y_pred = predicciones\n",
        "    )\n",
        ")"
      ],
      "metadata": {
        "id": "NooDXbUsfir4"
      },
      "execution_count": null,
      "outputs": []
    },
    {
      "cell_type": "markdown",
      "source": [
        "Tras optimizar los hiperparámetros, se consigue un porcentaje de acierto del 78%.\n",
        "\n",
        "# Predicción de probabilidades\n",
        "\n",
        "\n",
        "La mayoría de implementaciones de Random Forest, entre ellas la de scikit-learn, permiten predecir probabilidades cuando se trata de problemas de clasificación. Es importante entender cómo se calculan estos valores para interpretarlos y utilizarlos correctamente.\n",
        "\n",
        "En el ejemplo anterior, al aplicar `.predict()` se devuelve  1  (ventas elevadas) o  0  (ventas bajas) para cada observación de test. Sin embargo, no se dispone de ningún tipo de información sobre la seguridad con la que el modelo realiza esta asignación. Con `.predict_proba()`, en lugar de una clasificación, se obtiene la probabilidad con la que el modelo considera que cada observación puede pertenecer a cada una de las clases."
      ],
      "metadata": {
        "id": "7V9Es0QQflqT"
      }
    },
    {
      "cell_type": "code",
      "source": [
        "# Predicción de probabilidades\n",
        "# ==============================================================================\n",
        "predicciones = modelo_final.predict_proba(X = X_test_prep)\n",
        "predicciones[:5, :]"
      ],
      "metadata": {
        "id": "FX4pz22LftN6"
      },
      "execution_count": null,
      "outputs": []
    },
    {
      "cell_type": "markdown",
      "source": [
        "El resultado de `.predict_proba()` es un array con una fila por observación y tantas columnas como clases tenga la variable respuesta. El valor de la primera columna se corresponde con la probabilidad, acorde al modelo, de que la observación pertenezca a la clase 0, y así sucesivamente. El valor de probabilidad mostrado para cada predicción se corresponde con la fracción de observaciones de cada clase en los nodos terminales a los que ha llegado la observación predicha en el conjunto de los árboles.\n",
        "\n",
        "Por defecto, `.predict()` asigna cada nueva observación a la clase con mayor probabilidad (en caso de empate se asigna de forma aleatoria). Sin embargo, este no tiene por qué ser el comportamiento deseado en todos los casos."
      ],
      "metadata": {
        "id": "rqVjtlTDfxR1"
      }
    },
    {
      "cell_type": "code",
      "source": [
        "# Clasificación empleando la clase de mayor probabilidad\n",
        "# ==============================================================================\n",
        "df_predicciones = pd.DataFrame(data=predicciones, columns=['0', '1'])\n",
        "df_predicciones['clasificacion_default_0.5'] = np.where(df_predicciones['0'] > df_predicciones['1'], 0, 1)\n",
        "df_predicciones.head(3)"
      ],
      "metadata": {
        "id": "YnP7AEIHf4I4"
      },
      "execution_count": null,
      "outputs": []
    },
    {
      "cell_type": "markdown",
      "source": [
        "Supóngase el siguiente escenario: la campaña de navidad se aproxima y los propietarios de la cadena quieren duplicar el stock de artículos en aquellas tiendas de las que se preve que tengan ventas elevadas. Como el transporte de este material hasta las tiendas supone un coste elevado, el director quiere limitar esta estrategia únicamente a tiendas para las que se tenga mucha seguridad de que van conseguir muchas ventas.\n",
        "\n",
        "Si se dispone de las probabilidades, se puede establecer un punto de corte concreto, por ejemplo, considerando únicamente como clase  1  (ventas altas) aquellas tiendas cuya predicción para esta clase sea superior al 0.9 (90%). De esta forma, la clasificación final se ajusta mejor a las necesidades del caso de uso."
      ],
      "metadata": {
        "id": "ZU24wZVqf7og"
      }
    },
    {
      "cell_type": "code",
      "source": [
        "# Clasificación final empleando un threshold de 0.8 para la clase 1.\n",
        "# ==============================================================================\n",
        "df_predicciones['clasificacion_custom_0.8'] = np.where(df_predicciones['1'] > 0.9, 1, 0)\n",
        "df_predicciones.iloc[4:10, :]"
      ],
      "metadata": {
        "id": "phJMPhUQf8MZ"
      },
      "execution_count": null,
      "outputs": []
    },
    {
      "cell_type": "markdown",
      "source": [
        "# ¿Hasta que punto se debe de confiar en estas probabilidades?\n",
        "\n",
        "Es muy importante tener en cuenta la diferencia entre la \"visión\" que tiene el modelo del mundo y el mundo real. Todo lo que sabe un modelo sobre el mundo real es lo que ha podido aprender de los datos de entrenamiento y, por lo tanto, tiene una \"visión\" limitada. Por ejemplo, supóngase que, en los datos de entrenamiento, todas las tiendas que están en zona urbana Urban='Yes' tienen ventas altas independientemente del valor que tomen el resto de predictores. Cuando el modelo trate de predecir una nueva observación, si esta está en zona urbana, clasificará a la tienda como ventas elevadas con un 100% de seguridad. Sin embargo, esto no significa que sea inequivocamente cierto, podría haber tiendas en zonas úrbanas que no tienen ventas elevadas pero, al no estar presentes en los datos de entrenamiento, el modelo no contempla esta posibilidad.\n",
        "\n",
        "Teniendo en cuenta todo esto, hay que considerar las probabilidades generadas por el modelo como la seguridad que tiene este, desde su visión limitada, al realizar las predicciones. Puede encontrase más información sobre cómo sacar máximo partido de las probabilidades predichas por un modelo en Calibrar modelos de machine learning .\n",
        "\n",
        "# Importancia de predictores\n",
        "\n",
        "\n",
        "## Importancia por pureza de nodos"
      ],
      "metadata": {
        "id": "JgiLYrijgA4R"
      }
    },
    {
      "cell_type": "code",
      "source": [
        "importancia_predictores = pd.DataFrame(\n",
        "                            {'predictor': X_train_prep.columns,\n",
        "                             'importancia': modelo_final.feature_importances_}\n",
        "                            )\n",
        "print(\"Importancia de los predictores en el modelo\")\n",
        "print(\"-------------------------------------------\")\n",
        "importancia_predictores.sort_values('importancia', ascending=False)"
      ],
      "metadata": {
        "id": "rLT7LHVEgElh"
      },
      "execution_count": null,
      "outputs": []
    },
    {
      "cell_type": "markdown",
      "source": [
        "## Importancia por permutación"
      ],
      "metadata": {
        "id": "fGOzncSwgIli"
      }
    },
    {
      "cell_type": "code",
      "source": [
        "importancia = permutation_importance(\n",
        "                estimator    = modelo_final,\n",
        "                X            = X_train_prep,\n",
        "                y            = y_train,\n",
        "                n_repeats    = 5,\n",
        "                scoring      = 'neg_root_mean_squared_error',\n",
        "                n_jobs       = multiprocessing.cpu_count() - 1,\n",
        "                random_state = 123\n",
        "             )\n",
        "\n",
        "# Se almacenan los resultados (media y desviación) en un dataframe\n",
        "df_importancia = pd.DataFrame(\n",
        "                    {k: importancia[k] for k in ['importances_mean', 'importances_std']}\n",
        "                 )\n",
        "df_importancia['feature'] = X_train_prep.columns\n",
        "df_importancia.sort_values('importances_mean', ascending=False)"
      ],
      "metadata": {
        "id": "aD1NmQCggJZB"
      },
      "execution_count": null,
      "outputs": []
    },
    {
      "cell_type": "code",
      "source": [
        "# Gráfico\n",
        "fig, ax = plt.subplots(figsize=(5, 6))\n",
        "df_importancia = df_importancia.sort_values('importances_mean', ascending=True)\n",
        "ax.barh(\n",
        "    df_importancia['feature'],\n",
        "    df_importancia['importances_mean'],\n",
        "    xerr=df_importancia['importances_std'],\n",
        "    align='center',\n",
        "    alpha=0\n",
        ")\n",
        "ax.plot(\n",
        "    df_importancia['importances_mean'],\n",
        "    df_importancia['feature'],\n",
        "    marker=\"D\",\n",
        "    linestyle=\"\",\n",
        "    alpha=0.8,\n",
        "    color=\"r\"\n",
        ")\n",
        "ax.set_title('Importancia de los predictores (train)')\n",
        "ax.set_xlabel('Incremento del error tras la permutación');"
      ],
      "metadata": {
        "id": "N_YrOyh9gNsT"
      },
      "execution_count": null,
      "outputs": []
    },
    {
      "cell_type": "markdown",
      "source": [
        "Ambas estrategias identifican `Urban`, `Income` y `ShelveLoc` como los predictores más influyentes, acorde a los datos de entrenamiento."
      ],
      "metadata": {
        "id": "Jd5G5jTkgQCK"
      }
    },
    {
      "cell_type": "markdown",
      "source": [
        "# Extrapolación con modelos Random Forest\n",
        "\n",
        "\n",
        "Una límitación importante de los árboles de regresióna, y por lo tanto de Random Forest es que no extrapolan fuera del rango de entrenamiento. Cuando se aplica el modelo a una nueva observación, cuyo valor o valores de los predictores son superiores o inferiores a los observados en el entrenamiento, la predicción siempre es la media del nodo más cercano, independientemente de cuanto se aleje el valor. Vease el siguiente ejemplo en el que se entrenan dos modelos, un modelo lineal y un arbol de regresión, y luego se predicen valores de  $X$  fuera del rango de entrenamiento."
      ],
      "metadata": {
        "id": "y6aCbFfCgb8i"
      }
    },
    {
      "cell_type": "code",
      "source": [
        "import matplotlib.pyplot as plt\n",
        "import numpy as np\n",
        "from sklearn.ensemble import RandomForestRegressor\n",
        "from sklearn.linear_model import LinearRegression\n",
        "# Datos simulados\n",
        "# ==============================================================================\n",
        "X = np.linspace(0, 150, 100)\n",
        "y = (X + 100) + np.random.normal(loc=0.0, scale=5.0, size=X.shape)\n",
        "X_train = X[(X>=50) & (X<100)]\n",
        "y_train = y[(X>=50) & (X<100)]\n",
        "X_test_inf = X[X < 50]\n",
        "y_test_inf = y[X < 50]\n",
        "X_test_sup = X[X >= 100]\n",
        "y_test_sup = y[X >= 100]\n",
        "\n",
        "fig, ax = plt.subplots(figsize=(7, 5))\n",
        "ax.plot(X_train, y_train, c='black', linestyle='dashed', label = \"Datos train\")\n",
        "ax.axvspan(50, 100, color='gray', alpha=0.2, lw=0)\n",
        "ax.plot(X_test_inf, y_test_inf, c='blue', linestyle='dashed', label = \"Datos test\")\n",
        "ax.plot(X_test_sup, y_test_sup, c='blue', linestyle='dashed')\n",
        "ax.set_title(\"Datos de entrenamiento y test\")\n",
        "plt.legend();"
      ],
      "metadata": {
        "id": "rqeV27AfgkJe"
      },
      "execution_count": null,
      "outputs": []
    },
    {
      "cell_type": "code",
      "source": [
        "# Modelo lineal\n",
        "modelo_lineal = LinearRegression()\n",
        "modelo_lineal.fit(X_train.reshape(-1, 1), y_train)\n",
        "\n",
        "# Modelo random forest\n",
        "modelo_rf = RandomForestRegressor()\n",
        "modelo_rf.fit(X_train.reshape(-1, 1), y_train)\n",
        "\n",
        "# Predicciones\n",
        "prediccion_lineal = modelo_lineal.predict(X.reshape(-1, 1))\n",
        "prediccion_rf  = modelo_rf.predict(X.reshape(-1, 1))\n",
        "\n",
        "fig, ax = plt.subplots(figsize=(7, 5))\n",
        "ax.plot(X_train, y_train, c='black', linestyle='dashed', label = \"Datos train\")\n",
        "ax.axvspan(50, 100, color='gray', alpha=0.2, lw=0)\n",
        "ax.plot(X_test_inf, y_test_inf, c='blue', linestyle='dashed', label = \"Datos test\")\n",
        "ax.plot(X_test_sup, y_test_sup, c='blue', linestyle='dashed')\n",
        "ax.plot(X, prediccion_lineal, c='firebrick',\n",
        "        label = \"Prediccion modelo lineal\")\n",
        "ax.plot(X, prediccion_rf, c='orange',\n",
        "        label = \"Prediccion modelo rf\")\n",
        "ax.set_title(\"Extrapolación de un modelo lineal y un modelo de random forest\")\n",
        "plt.legend();\n"
      ],
      "metadata": {
        "id": "rhyuAwsngnO_"
      },
      "execution_count": null,
      "outputs": []
    },
    {
      "cell_type": "markdown",
      "source": [
        "La gráfica muestra que, con el modelo Random Forest, el valor predicho fuera del rango de entrenamiento, es el mismo independientemente de cuanto se aleje X. Una estrategia que permite que los modelos basados en árboles extrapolen es ajustar un modelo lineal en cada nodo terminal, pero esto no está disponible en Scikit-learn.\n",
        "\n",
        "\n",
        "# Variables dummy (one-hot-encoding) en modelos Random Forest\n",
        "\n",
        "\n",
        "Los modelos basados en árboles de decisión, entre ellos Random Forest, son capaces de utilizar predictores categóricos en su forma natural sin necesidad de convertirlos en variables dummy mediante one-hot-encoding. Sin embargo, en la práctica, depende de la implementación que tenga la librería o software utilizado. Esto tiene impacto directo en la estructura de los árboles generados y, en consecuencia, en los resultados predictivos del modelo y en la importancia calculada para los predictores.\n",
        "\n",
        "El libro Feature Engineering and Selection A Practical Approach for Predictive Models By Max Kuhn, Kjell Johnson, los autores realizan un experimento en el que se comparan modelos entrenados con y sin one-hot-encoding en 5 sets de datos distintos, los resultados muestran que:\n",
        "\n",
        "- No hay una diferencia clara en términos de capacidad predictiva de los modelos. Solo en el caso de stocastic gradient boosting se apecian ligeras diferencias en contra de aplicar one-hot-encoding.\n",
        "\n",
        "- El entrenamiento de los modelos tarda en promedio 2.5 veces más cuando se aplica one-hot-encoding. Esto es debido al aumento de dimensionalidad al crear las nuevas variables dummy, obligando a que el algoritmo tenga que analizar muchos más puntos de división.\n",
        "\n",
        "En base a los resultados obtenidos, los autores recomiendan no aplicar one-hot-encoding. Solo si los resultados son buenos, probar entonces si se mejoran al crear las variables dummy.\n",
        "\n",
        "Otra comparación detallada puede encontrarse en Are categorical variables getting lost in your random forests? By Nick Dingwall, Chris Potts, donde los resultados muestran que:\n",
        "\n",
        "- Al convertir una variable categórica en múltiples variables dummy su importancia queda diluida, dificultando que el modelo pueda aprender de ella y perdiendo así capacidad predictiva. Este efecto es mayor cuantos más niveles tiene la variable original.\n",
        "\n",
        "- Al diluir la importancia de los predictores categóricos, estos tienen menos probabilidad de ser seleccionada por el modelo, lo que desvirtúa las métricas que miden la importancia de los predictores.\n",
        "\n",
        "Por el momento, en scikit-learn es necesario hacer one-hot-encoding para convertir las variables categóricas en variables dummy. La implementación de H2O sí permite utilizar directamente variables categóricas.\n",
        "\n",
        "\n",
        "# Extremely randomized trees\n",
        "\n",
        "\n",
        "El algoritmo extremely randomized trees lleva la decorrelación de los árboles un paso más allá que random forest. Al igual que en random forest, en cada división de los nodos, solo se evalúa un subconjunto aleatorio de los predictores disponibles. Además de esto, en extremely randomized trees, dentro de cada predictor seleccionado solo se evalúa un subconjunto aleatorio de los posibles puntos de corte. En determinados escenarios, este método consigue reducir un poco más la varianza mejorando la capacidad predictiva del modelo.\n",
        "\n",
        "Puede encontrase este algoritmo en la case ExtraTrees de scikit-learn o en H2ORandomForestEstimator de H2O (indicando el argumento histogram_type=\"Random\").\n",
        "\n",
        "\n",
        "# Comparación Random Forest y Gradient Boosting Trees\n",
        "\n",
        "\n",
        "Random Forest se compara con frecuencia con otro algoritmo basado en árboles, Gradient Boosting Trees. Ambos métodos son muy potentes y la superioridad de uno u otro depende del problema al que se apliquen. Algunos aspectos a tener en cuenta son:\n",
        "\n",
        "- Gracias al out-of-bag error, el método de Random Forest no necesita recurrir a validación cruzada para la optimización de sus hiperparámetros. Esto puede ser una ventaja muy importante cuando los requerimientos computacionales son limitantes. Esta característica también está presente en Stochastic Gradient Boosting pero no en AdaBoost y Gradient Boosting.\n",
        "\n",
        "- Random forest tiene menos hiperparámetros, lo que hace más sencillo su correcta implementación.\n",
        "\n",
        "- Si existe una proporción alta de predictores irrelevantes, Random Forest puede verse perjudicado, sobre todo a medida que se reduce el número de predictores ( m ) evaluados. Supóngase que, de 100 predictores, 90 de ellos no aportan información (son ruidos). Si el hiperparámetro  m  es igual a 3 (en cada división se evalúan 3 predictores aleatorios), es muy probable que los 3 predictores seleccionados sean de los que no aportan nada. Aun así, el algoritmo seleccionará el mejor de ellos, incorporándolo al modelo. Cuanto mayor sea el porcentaje de predictores no relevantes, mayor la frecuencia con la que esto ocurre, por lo que los árboles que forman el Random Forest contendrán predictores irrelevantes. Como consecuencia, se reduce su capacidad predictiva. En el caso de Gradient Boosting Trees, siempre se evalúan todos los predictores, por lo que los no relevantes se ignoran.\n",
        "\n",
        "- En Random Forest, cada modelo que forma el ensemble es independiente del resto, esto permite que el entrenamiento sea paralelizable.\n",
        "\n",
        "- Random Forest no sufre problemas de overfitting por muchos árboles que se agreguen.\n",
        "\n",
        "- Si se realiza una buena optimización de hiperparámetros, Gradient Boosting Trees suele obtener resultados ligeramente superiores.\n"
      ],
      "metadata": {
        "id": "Wpe5-Xl_gskx"
      }
    },
    {
      "cell_type": "code",
      "source": [],
      "metadata": {
        "id": "sSHUMDeegbIj"
      },
      "execution_count": null,
      "outputs": []
    }
  ]
}