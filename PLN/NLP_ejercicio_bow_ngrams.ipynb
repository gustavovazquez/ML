{
  "cells": [
    {
      "cell_type": "markdown",
      "metadata": {
        "id": "view-in-github",
        "colab_type": "text"
      },
      "source": [
        "<a href=\"https://colab.research.google.com/github/gustavovazquez/ML/blob/main/NLP_ejercicio_bow_ngrams.ipynb\" target=\"_parent\"><img src=\"https://colab.research.google.com/assets/colab-badge.svg\" alt=\"Open In Colab\"/></a>"
      ]
    },
    {
      "cell_type": "markdown",
      "id": "98b32406",
      "metadata": {
        "id": "98b32406"
      },
      "source": [
        "## Bag of Words y Bag of N-grams\n",
        "\n",
        "En este ejercicio aprenderás a construir representaciones de texto utilizando:\n",
        "- Bag of Words (BoW): considerando palabras individuales\n",
        "- Bag of N-grams: considerando secuencias de palabras\n",
        "\n",
        "**Objetivo**: comparar cómo cambian las representaciones al usar n-gramas en lugar de palabras aisladas."
      ]
    },
    {
      "cell_type": "code",
      "execution_count": null,
      "id": "0efed9ef",
      "metadata": {
        "colab": {
          "base_uri": "https://localhost:8080/"
        },
        "id": "0efed9ef",
        "outputId": "ad5e7b2d-b03b-4015-dfa4-0e10fffa4bb9"
      },
      "outputs": [
        {
          "output_type": "stream",
          "name": "stdout",
          "text": [
            "Documento 1: El ciudadano responsable siempre cumple con su deber cívico, incluso en tiempos difíciles.\n",
            "Documento 2: No todos los ciudadanos comprenden la importancia de participar en las elecciones.\n",
            "Documento 3: El deber de cada ciudadano es velar por el bien común, no solo por su beneficio personal.\n",
            "Documento 4: Cumplir con las normas es parte esencial del rol de un ciudadano consciente.\n",
            "Documento 5: Un no ciudadano que reside legalmente también puede aportar positivamente a la sociedad.\n",
            "Documento 6: Algunos ciudadanos se niegan a cumplir con su deber fiscal, lo cual afecta al resto.\n",
            "Documento 7: Cumplir con las leyes no debería depender de si uno es ciudadano o no.\n",
            "Documento 8: La educación cívica es fundamental para formar ciudadanos informados y responsables.\n",
            "Documento 9: Ser un buen ciudadano implica actuar con ética en todas las esferas de la vida.\n",
            "Documento 10: Los ciudadanos comprometidos participan activamente en su comunidad.\n"
          ]
        }
      ],
      "source": [
        "import requests\n",
        "\n",
        "# Conjunto de documentos\n",
        "ruta = \"https://raw.githubusercontent.com/gustavovazquez/datasets/refs/heads/main/documentos_ciudadania.txt\"\n",
        "response = requests.get(ruta)\n",
        "\n",
        "documentos = [linea.strip() for linea in response.text.splitlines() if linea.strip()]\n",
        "\n",
        "# Mostrar los documentos\n",
        "for i, doc in enumerate(documentos):\n",
        "    print(f\"Documento {i+1}: {doc}\")"
      ]
    },
    {
      "cell_type": "markdown",
      "id": "b77a9b96",
      "metadata": {
        "id": "b77a9b96"
      },
      "source": [
        "## Instrucciones\n",
        "\n",
        "1. Construye una matriz Bag of Words (BoW) a partir del conjunto de documentos.\n",
        "2. Construye una matriz Bag of N-grams utilizando bigramas (n=2).\n"
      ]
    }
  ],
  "metadata": {
    "colab": {
      "provenance": [],
      "include_colab_link": true
    },
    "language_info": {
      "name": "python"
    },
    "kernelspec": {
      "name": "python3",
      "display_name": "Python 3"
    }
  },
  "nbformat": 4,
  "nbformat_minor": 5
}
