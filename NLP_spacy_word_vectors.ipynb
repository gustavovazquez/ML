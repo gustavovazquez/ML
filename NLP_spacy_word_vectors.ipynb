{
  "cells": [
    {
      "cell_type": "markdown",
      "metadata": {
        "id": "view-in-github",
        "colab_type": "text"
      },
      "source": [
        "<a href=\"https://colab.research.google.com/github/gustavovazquez/ML/blob/main/NLP_spacy_word_vectors.ipynb\" target=\"_parent\"><img src=\"https://colab.research.google.com/assets/colab-badge.svg\" alt=\"Open In Colab\"/></a>"
      ]
    },
    {
      "cell_type": "code",
      "metadata": {
        "id": "81c38fd0",
        "colab": {
          "base_uri": "https://localhost:8080/"
        },
        "outputId": "295e2de5-e0a8-4e44-b83f-59c9425dea94"
      },
      "source": [
        "!python -m spacy download en_core_web_lg"
      ],
      "id": "81c38fd0",
      "execution_count": null,
      "outputs": [
        {
          "output_type": "stream",
          "name": "stdout",
          "text": [
            "Collecting en-core-web-lg==3.8.0\n",
            "  Downloading https://github.com/explosion/spacy-models/releases/download/en_core_web_lg-3.8.0/en_core_web_lg-3.8.0-py3-none-any.whl (400.7 MB)\n",
            "\u001b[2K     \u001b[90m━━━━━━━━━━━━━━━━━━━━━━━━━━━━━━━━━━━━━━━\u001b[0m \u001b[32m400.7/400.7 MB\u001b[0m \u001b[31m3.9 MB/s\u001b[0m eta \u001b[36m0:00:00\u001b[0m\n",
            "\u001b[?25hInstalling collected packages: en-core-web-lg\n",
            "Successfully installed en-core-web-lg-3.8.0\n",
            "\u001b[38;5;2m✔ Download and installation successful\u001b[0m\n",
            "You can now load the package via spacy.load('en_core_web_lg')\n",
            "\u001b[38;5;3m⚠ Restart to reload dependencies\u001b[0m\n",
            "If you are in a Jupyter or Colab notebook, you may need to restart Python in\n",
            "order to load all the package's dependencies. You can do this by selecting the\n",
            "'Restart kernel' or 'Restart runtime' option.\n"
          ]
        }
      ]
    },
    {
      "cell_type": "code",
      "execution_count": null,
      "id": "e0a80da8",
      "metadata": {
        "id": "e0a80da8"
      },
      "outputs": [],
      "source": [
        "import spacy\n",
        "\n",
        "# Los vectores de palabras ocupan mucho espacio... por eso, el modelo en_core_web_sm no los incluye.\n",
        "# Para obtener vectores de palabras, es necesario instalar un modelo de inglés de tamaño mediano o grande.\n",
        "# python -m spacy download en_core_web_lg\" para instalar el modelo grande de inglés.\n",
        "\n",
        "nlp = spacy.load(\"en_core_web_lg\")\n",
        "#nlp = spacy.load(\"es_core_news_sm\")\n",
        "#"
      ]
    },
    {
      "cell_type": "code",
      "execution_count": null,
      "id": "f7b0ef24",
      "metadata": {
        "colab": {
          "base_uri": "https://localhost:8080/"
        },
        "id": "f7b0ef24",
        "outputId": "3efb4be3-974a-41d0-ee67-8cf5a550cb2a"
      },
      "outputs": [
        {
          "output_type": "stream",
          "name": "stdout",
          "text": [
            "dog Vector: True OOV: False\n",
            "cat Vector: True OOV: False\n",
            "banana Vector: True OOV: False\n",
            "kem Vector: True OOV: False\n"
          ]
        }
      ],
      "source": [
        "doc = nlp(\"dog cat banana kem\")\n",
        "# OOV: out of vocabulary\n",
        "for token in doc:\n",
        "    print(token.text, \"Vector:\", token.has_vector, \"OOV:\", token.is_oov)"
      ]
    },
    {
      "cell_type": "code",
      "execution_count": null,
      "id": "c1213a20",
      "metadata": {
        "colab": {
          "base_uri": "https://localhost:8080/"
        },
        "id": "c1213a20",
        "outputId": "5b35da6f-6376-4c70-cb37-3a29777086e7"
      },
      "outputs": [
        {
          "output_type": "execute_result",
          "data": {
            "text/plain": [
              "(300,)"
            ]
          },
          "metadata": {},
          "execution_count": 4
        }
      ],
      "source": [
        "doc[0].vector.shape"
      ]
    },
    {
      "cell_type": "code",
      "execution_count": null,
      "id": "e62cde6f",
      "metadata": {
        "colab": {
          "base_uri": "https://localhost:8080/"
        },
        "id": "e62cde6f",
        "outputId": "2f13ea15-928e-4ed4-d9ef-d7184ff29de1"
      },
      "outputs": [
        {
          "output_type": "execute_result",
          "data": {
            "text/plain": [
              "(300,)"
            ]
          },
          "metadata": {},
          "execution_count": 5
        }
      ],
      "source": [
        "base_token = nlp(\"bread\")\n",
        "base_token.vector.shape"
      ]
    },
    {
      "cell_type": "code",
      "execution_count": null,
      "id": "443e1130",
      "metadata": {
        "colab": {
          "base_uri": "https://localhost:8080/"
        },
        "id": "443e1130",
        "outputId": "734dfd63-ac47-4ca6-f6a9-440471399208"
      },
      "outputs": [
        {
          "output_type": "stream",
          "name": "stdout",
          "text": [
            "bread <-> bread: 1.0\n",
            "sandwich <-> bread: 0.6874560117721558\n",
            "burger <-> bread: 0.544037401676178\n",
            "car <-> bread: 0.16441147029399872\n",
            "tiger <-> bread: 0.14492356777191162\n",
            "human <-> bread: 0.21103660762310028\n",
            "wheat <-> bread: 0.6572456359863281\n"
          ]
        }
      ],
      "source": [
        "doc = nlp(\"bread sandwich burger car tiger human wheat\")\n",
        "\n",
        "for token in doc:\n",
        "    print(f\"{token.text} <-> {base_token.text}:\", token.similarity(base_token))"
      ]
    },
    {
      "cell_type": "code",
      "execution_count": null,
      "id": "e9c35619",
      "metadata": {
        "id": "e9c35619"
      },
      "outputs": [],
      "source": [
        "def print_similarity(base_word, words_to_compare):\n",
        "    base_token = nlp(base_word)\n",
        "    doc = nlp(words_to_compare)\n",
        "    for token in doc:\n",
        "        print(f\"{token.text} <-> {base_token.text}: \", token.similarity(base_token))"
      ]
    },
    {
      "cell_type": "code",
      "execution_count": null,
      "id": "4071a3c7",
      "metadata": {
        "colab": {
          "base_uri": "https://localhost:8080/"
        },
        "id": "4071a3c7",
        "outputId": "64bdc6bc-162a-4f57-8ad6-566aefd6abd3"
      },
      "outputs": [
        {
          "output_type": "stream",
          "name": "stdout",
          "text": [
            "apple <-> Apple:  1.0\n",
            "samsung <-> Apple:  0.4560531675815582\n",
            "iphone <-> Apple:  0.6339781284332275\n",
            "dog <-> Apple:  0.2633902430534363\n",
            "kitten <-> Apple:  0.23090186715126038\n"
          ]
        }
      ],
      "source": [
        "print_similarity(\"apple\", \"apple samsung iphone dog kitten\")"
      ]
    },
    {
      "cell_type": "code",
      "execution_count": null,
      "id": "daffd61f",
      "metadata": {
        "id": "daffd61f"
      },
      "outputs": [],
      "source": [
        "king = nlp.vocab[\"king\"].vector\n",
        "man = nlp.vocab[\"man\"].vector\n",
        "woman = nlp.vocab[\"woman\"].vector\n",
        "queen = nlp.vocab[\"queen\"].vector\n",
        "\n",
        "result = king - man + woman"
      ]
    },
    {
      "cell_type": "code",
      "execution_count": null,
      "id": "ab939b13",
      "metadata": {
        "colab": {
          "base_uri": "https://localhost:8080/"
        },
        "id": "ab939b13",
        "outputId": "6310c641-72d3-483a-8c90-6845c0401a40"
      },
      "outputs": [
        {
          "output_type": "execute_result",
          "data": {
            "text/plain": [
              "array([[0.78808445]], dtype=float32)"
            ]
          },
          "metadata": {},
          "execution_count": 10
        }
      ],
      "source": [
        "from sklearn.metrics.pairwise import cosine_similarity\n",
        "\n",
        "cosine_similarity([result], [queen])"
      ]
    }
  ],
  "metadata": {
    "kernelspec": {
      "display_name": "Python 3",
      "language": "python",
      "name": "python3"
    },
    "language_info": {
      "codemirror_mode": {
        "name": "ipython",
        "version": 3
      },
      "file_extension": ".py",
      "mimetype": "text/x-python",
      "name": "python",
      "nbconvert_exporter": "python",
      "pygments_lexer": "ipython3",
      "version": "3.8.10"
    },
    "colab": {
      "provenance": [],
      "include_colab_link": true
    }
  },
  "nbformat": 4,
  "nbformat_minor": 5
}