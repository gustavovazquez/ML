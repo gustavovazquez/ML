{
  "nbformat": 4,
  "nbformat_minor": 0,
  "metadata": {
    "colab": {
      "provenance": [],
      "authorship_tag": "ABX9TyNHbzRKzCoI75JVgoT7kRe8",
      "include_colab_link": true
    },
    "kernelspec": {
      "name": "python3",
      "display_name": "Python 3"
    },
    "language_info": {
      "name": "python"
    }
  },
  "cells": [
    {
      "cell_type": "markdown",
      "metadata": {
        "id": "view-in-github",
        "colab_type": "text"
      },
      "source": [
        "<a href=\"https://colab.research.google.com/github/gustavovazquez/ML/blob/main/ML_Datasets_no_balanceados.ipynb\" target=\"_parent\"><img src=\"https://colab.research.google.com/assets/colab-badge.svg\" alt=\"Open In Colab\"/></a>"
      ]
    },
    {
      "cell_type": "markdown",
      "source": [
        "# UCU - Datasets no balanceados"
      ],
      "metadata": {
        "id": "nTBBhoo-NADm"
      }
    },
    {
      "cell_type": "markdown",
      "source": [
        "# ¿Qué es un dataset no balanceado en el aprendizaje automático?\n",
        "\n",
        "Dado un conjunto de datos con etiquetas/clases conocidas, modelamos para predecir a qué clase pertenece una nueva observación (problema de clasificación). Tenemos datos no balanceados cuando el número de observaciones entre las clases es notoriamente diferente.\n",
        "\n",
        "Por ejemplo, en un conjunto de datos de transacciones con tarjeta de crédito, podría haber un 99.9% de transacciones legítimas y solo un 0.1% de fraudes. Este es un conjunto de datos altamente no balanceado.\n",
        "\n",
        "Entonces, ¿cuál es el problema con los datos no balanceados en el aprendizaje automático?\n",
        "\n",
        "Si bien un dataset con un debalance leve no sería un problema, un conjunto de datos altamente desbalanceados podría causar problemas en nuestras predicciones de clasificación. Esto se debe a que la mayoría de los algoritmos de aprendizaje automático dependen de tener datos suficientes. Cuando algunas de las clases tienen pocos datos, el algoritmo no puede predecir correctamente su resultado.\n",
        "\n",
        "Volviendo al ejemplo de detección de fraude con tarjetas de crédito. Dado que los datos fraudulentos están subrepresentados, un algoritmo de aprendizaje automático a menudo ofrece malas predicciones para tales clases. Esto es problemático porque queremos detectar transacciones fraudulentas e identificarlas (es lo que definimos como clase de interés).\n",
        "\n",
        "Además de la detección de fraudes con tarjetas de crédito, otras áreas también tienden a tener conjuntos de datos altamente no balanceados. Por ejemplo:\n",
        "\n",
        "- Predicción de reclamaciones/detección de fraudes en compañías de seguros.\n",
        "- Detección de correo no deseado (spam).\n",
        "- Predicción de la rotación/conversión de clientes.\n",
        "\n",
        "Dado que la clasificación del aprendizaje automático puede ser binaria (2 clases) o multiclase, el problema de datos no balanceados puede aplicarse a ambos. Esta lectura se centrará en datos no balanceados en el aprendizaje automático para clases binarias, pero puedes extender el concepto a clases múltiples.\n",
        "\n",
        "## Métricas de evaluación: la trampa de accuracy\n",
        "Antes de sumergirnos en nuestro ejemplo, hablemos de las métricas de evaluación. Esta es una elección crítica para un conjunto de datos no balanceado.\n",
        "\n",
        "Para problemas de clasificación, a menudo usamos accuracy como métrica de evaluación. Es fácil de calcular y intuitiva:\n",
        "\n",
        "$$ Accuracy = # de predicciones correctas / # de predicciones totales $$\n",
        "\n",
        "Pero es engañoso para conjuntos de datos altamente desbalanceados. En el ejemplo de detección de fraude con tarjetas de crédito, podemos configurar un modelo para clasificar siempre las nuevas transacciones como legítimas. La precisión podría ser alta, un 99.9% si el 99.9% en el conjunto de datos es todo legítimo.\n",
        "\n",
        "En principio el modelo es increíblemente preciso, sin embargo nuestro objetivo es detectar el fraude (nuestra clase de interés), por lo que un modelo así es inútil.\n",
        "\n",
        "Por lo tanto, para el conjunto de datos no balanceado, debemos observar una imagen más amplia de los resultados de predicción. Podríamos usar otras métricas de evaluación como el Área Bajo la Curva ROC (AUC), f1-score.\n",
        "\n",
        "En este tutorial, utilizaremos el AUC como métrica de evaluación. Es una métrica única y fácil de usar. El AUC tiene el valor de 1 cuando el clasificador puede predecir el 100% correctamente.\n",
        "\n",
        "Calcularemos el AUC utilizando el conjunto de datos no balanceado original, frente a los conjuntos de datos rebalanceados. Sin embargo, ten en cuenta que la mejora varía según los diferentes conjuntos de datos o algoritmos de aprendizaje automático.\n"
      ],
      "metadata": {
        "id": "_bY0QHF9NGbP"
      }
    },
    {
      "cell_type": "markdown",
      "source": [
        "# Ejemplo de un dataset desbalanceado\n",
        "\n",
        "El conjunto de datos trata sobre abalones (molusco marino con caparazón en forma de oído o caracol). Nuestro objetivo es identificar si un abalón pertenece a una clase específica de 19. Así que se trata de un problema de clasificación binaria, ya sea positiva (clase 19) o negativa (resto)."
      ],
      "metadata": {
        "id": "JnWlQVNTTvQR"
      }
    },
    {
      "cell_type": "code",
      "source": [
        "import pandas as pd\n",
        "\n",
        "df=pd.read_csv('https://raw.githubusercontent.com/gustavovazquez/datasets/main/abalone19.dat', header=0)\n",
        "df.info()"
      ],
      "metadata": {
        "colab": {
          "base_uri": "https://localhost:8080/"
        },
        "id": "C0_CCbfgPGkJ",
        "outputId": "375a7364-5210-4ec3-d914-4809428c63c0"
      },
      "execution_count": 136,
      "outputs": [
        {
          "output_type": "stream",
          "name": "stdout",
          "text": [
            "<class 'pandas.core.frame.DataFrame'>\n",
            "RangeIndex: 4174 entries, 0 to 4173\n",
            "Data columns (total 9 columns):\n",
            " #   Column          Non-Null Count  Dtype  \n",
            "---  ------          --------------  -----  \n",
            " 0   Sex             4174 non-null   object \n",
            " 1   Length          4174 non-null   float64\n",
            " 2   Diameter        4174 non-null   float64\n",
            " 3   Height          4174 non-null   float64\n",
            " 4   Whole_weight    4174 non-null   float64\n",
            " 5   Shucked_weight  4174 non-null   float64\n",
            " 6   Viscera_weight  4174 non-null   float64\n",
            " 7   Shell_weight    4174 non-null   float64\n",
            " 8   Class           4174 non-null   object \n",
            "dtypes: float64(7), object(2)\n",
            "memory usage: 293.6+ KB\n"
          ]
        }
      ]
    },
    {
      "cell_type": "code",
      "source": [
        "df['Class'].value_counts()\n"
      ],
      "metadata": {
        "colab": {
          "base_uri": "https://localhost:8080/",
          "height": 178
        },
        "id": "kbOxFhj9RzNg",
        "outputId": "1a215ee9-da1c-4656-d0b4-e96051edd119"
      },
      "execution_count": 137,
      "outputs": [
        {
          "output_type": "execute_result",
          "data": {
            "text/plain": [
              "Class\n",
              "negative    4142\n",
              "positive      32\n",
              "Name: count, dtype: int64"
            ],
            "text/html": [
              "<div>\n",
              "<style scoped>\n",
              "    .dataframe tbody tr th:only-of-type {\n",
              "        vertical-align: middle;\n",
              "    }\n",
              "\n",
              "    .dataframe tbody tr th {\n",
              "        vertical-align: top;\n",
              "    }\n",
              "\n",
              "    .dataframe thead th {\n",
              "        text-align: right;\n",
              "    }\n",
              "</style>\n",
              "<table border=\"1\" class=\"dataframe\">\n",
              "  <thead>\n",
              "    <tr style=\"text-align: right;\">\n",
              "      <th></th>\n",
              "      <th>count</th>\n",
              "    </tr>\n",
              "    <tr>\n",
              "      <th>Class</th>\n",
              "      <th></th>\n",
              "    </tr>\n",
              "  </thead>\n",
              "  <tbody>\n",
              "    <tr>\n",
              "      <th>negative</th>\n",
              "      <td>4142</td>\n",
              "    </tr>\n",
              "    <tr>\n",
              "      <th>positive</th>\n",
              "      <td>32</td>\n",
              "    </tr>\n",
              "  </tbody>\n",
              "</table>\n",
              "</div><br><label><b>dtype:</b> int64</label>"
            ]
          },
          "metadata": {},
          "execution_count": 137
        }
      ]
    },
    {
      "cell_type": "code",
      "source": [
        "df['Sex'].value_counts()"
      ],
      "metadata": {
        "colab": {
          "base_uri": "https://localhost:8080/",
          "height": 209
        },
        "id": "peLchVgdTEcd",
        "outputId": "a89f4fc2-9a0f-4911-def1-2b2705e51032"
      },
      "execution_count": 138,
      "outputs": [
        {
          "output_type": "execute_result",
          "data": {
            "text/plain": [
              "Sex\n",
              "M    1526\n",
              "I    1341\n",
              "F    1307\n",
              "Name: count, dtype: int64"
            ],
            "text/html": [
              "<div>\n",
              "<style scoped>\n",
              "    .dataframe tbody tr th:only-of-type {\n",
              "        vertical-align: middle;\n",
              "    }\n",
              "\n",
              "    .dataframe tbody tr th {\n",
              "        vertical-align: top;\n",
              "    }\n",
              "\n",
              "    .dataframe thead th {\n",
              "        text-align: right;\n",
              "    }\n",
              "</style>\n",
              "<table border=\"1\" class=\"dataframe\">\n",
              "  <thead>\n",
              "    <tr style=\"text-align: right;\">\n",
              "      <th></th>\n",
              "      <th>count</th>\n",
              "    </tr>\n",
              "    <tr>\n",
              "      <th>Sex</th>\n",
              "      <th></th>\n",
              "    </tr>\n",
              "  </thead>\n",
              "  <tbody>\n",
              "    <tr>\n",
              "      <th>M</th>\n",
              "      <td>1526</td>\n",
              "    </tr>\n",
              "    <tr>\n",
              "      <th>I</th>\n",
              "      <td>1341</td>\n",
              "    </tr>\n",
              "    <tr>\n",
              "      <th>F</th>\n",
              "      <td>1307</td>\n",
              "    </tr>\n",
              "  </tbody>\n",
              "</table>\n",
              "</div><br><label><b>dtype:</b> int64</label>"
            ]
          },
          "metadata": {},
          "execution_count": 138
        }
      ]
    },
    {
      "cell_type": "code",
      "source": [
        "# mapeamos la columna \"Class\" \"negative\" a 0 y \"positive\" a 1\n",
        "df['Class'] = df['Class'].map({'negative': 0, 'positive': 1})"
      ],
      "metadata": {
        "id": "9RptRsZnYNk1"
      },
      "execution_count": 139,
      "outputs": []
    },
    {
      "cell_type": "code",
      "source": [
        "df"
      ],
      "metadata": {
        "colab": {
          "base_uri": "https://localhost:8080/",
          "height": 423
        },
        "id": "dVQjvANXYaIC",
        "outputId": "a5e787e4-61d7-46cc-b148-4182e6a7e2bb"
      },
      "execution_count": 140,
      "outputs": [
        {
          "output_type": "execute_result",
          "data": {
            "text/plain": [
              "     Sex  Length  Diameter  Height  Whole_weight  Shucked_weight  \\\n",
              "0      M   0.455     0.365   0.095        0.5140          0.2245   \n",
              "1      M   0.350     0.265   0.090        0.2255          0.0995   \n",
              "2      F   0.530     0.420   0.135        0.6770          0.2565   \n",
              "3      M   0.440     0.365   0.125        0.5160          0.2155   \n",
              "4      I   0.330     0.255   0.080        0.2050          0.0895   \n",
              "...   ..     ...       ...     ...           ...             ...   \n",
              "4169   M   0.560     0.430   0.155        0.8675          0.4000   \n",
              "4170   F   0.565     0.450   0.165        0.8870          0.3700   \n",
              "4171   M   0.590     0.440   0.135        0.9660          0.4390   \n",
              "4172   M   0.600     0.475   0.205        1.1760          0.5255   \n",
              "4173   F   0.625     0.485   0.150        1.0945          0.5310   \n",
              "\n",
              "      Viscera_weight  Shell_weight  Class  \n",
              "0             0.1010        0.1500      0  \n",
              "1             0.0485        0.0700      0  \n",
              "2             0.1415        0.2100      0  \n",
              "3             0.1140        0.1550      0  \n",
              "4             0.0395        0.0550      0  \n",
              "...              ...           ...    ...  \n",
              "4169          0.1720        0.2290      0  \n",
              "4170          0.2390        0.2490      0  \n",
              "4171          0.2145        0.2605      0  \n",
              "4172          0.2875        0.3080      0  \n",
              "4173          0.2610        0.2960      0  \n",
              "\n",
              "[4174 rows x 9 columns]"
            ],
            "text/html": [
              "\n",
              "  <div id=\"df-a5dae6f5-fd8d-4065-b99a-2401add8a9c0\" class=\"colab-df-container\">\n",
              "    <div>\n",
              "<style scoped>\n",
              "    .dataframe tbody tr th:only-of-type {\n",
              "        vertical-align: middle;\n",
              "    }\n",
              "\n",
              "    .dataframe tbody tr th {\n",
              "        vertical-align: top;\n",
              "    }\n",
              "\n",
              "    .dataframe thead th {\n",
              "        text-align: right;\n",
              "    }\n",
              "</style>\n",
              "<table border=\"1\" class=\"dataframe\">\n",
              "  <thead>\n",
              "    <tr style=\"text-align: right;\">\n",
              "      <th></th>\n",
              "      <th>Sex</th>\n",
              "      <th>Length</th>\n",
              "      <th>Diameter</th>\n",
              "      <th>Height</th>\n",
              "      <th>Whole_weight</th>\n",
              "      <th>Shucked_weight</th>\n",
              "      <th>Viscera_weight</th>\n",
              "      <th>Shell_weight</th>\n",
              "      <th>Class</th>\n",
              "    </tr>\n",
              "  </thead>\n",
              "  <tbody>\n",
              "    <tr>\n",
              "      <th>0</th>\n",
              "      <td>M</td>\n",
              "      <td>0.455</td>\n",
              "      <td>0.365</td>\n",
              "      <td>0.095</td>\n",
              "      <td>0.5140</td>\n",
              "      <td>0.2245</td>\n",
              "      <td>0.1010</td>\n",
              "      <td>0.1500</td>\n",
              "      <td>0</td>\n",
              "    </tr>\n",
              "    <tr>\n",
              "      <th>1</th>\n",
              "      <td>M</td>\n",
              "      <td>0.350</td>\n",
              "      <td>0.265</td>\n",
              "      <td>0.090</td>\n",
              "      <td>0.2255</td>\n",
              "      <td>0.0995</td>\n",
              "      <td>0.0485</td>\n",
              "      <td>0.0700</td>\n",
              "      <td>0</td>\n",
              "    </tr>\n",
              "    <tr>\n",
              "      <th>2</th>\n",
              "      <td>F</td>\n",
              "      <td>0.530</td>\n",
              "      <td>0.420</td>\n",
              "      <td>0.135</td>\n",
              "      <td>0.6770</td>\n",
              "      <td>0.2565</td>\n",
              "      <td>0.1415</td>\n",
              "      <td>0.2100</td>\n",
              "      <td>0</td>\n",
              "    </tr>\n",
              "    <tr>\n",
              "      <th>3</th>\n",
              "      <td>M</td>\n",
              "      <td>0.440</td>\n",
              "      <td>0.365</td>\n",
              "      <td>0.125</td>\n",
              "      <td>0.5160</td>\n",
              "      <td>0.2155</td>\n",
              "      <td>0.1140</td>\n",
              "      <td>0.1550</td>\n",
              "      <td>0</td>\n",
              "    </tr>\n",
              "    <tr>\n",
              "      <th>4</th>\n",
              "      <td>I</td>\n",
              "      <td>0.330</td>\n",
              "      <td>0.255</td>\n",
              "      <td>0.080</td>\n",
              "      <td>0.2050</td>\n",
              "      <td>0.0895</td>\n",
              "      <td>0.0395</td>\n",
              "      <td>0.0550</td>\n",
              "      <td>0</td>\n",
              "    </tr>\n",
              "    <tr>\n",
              "      <th>...</th>\n",
              "      <td>...</td>\n",
              "      <td>...</td>\n",
              "      <td>...</td>\n",
              "      <td>...</td>\n",
              "      <td>...</td>\n",
              "      <td>...</td>\n",
              "      <td>...</td>\n",
              "      <td>...</td>\n",
              "      <td>...</td>\n",
              "    </tr>\n",
              "    <tr>\n",
              "      <th>4169</th>\n",
              "      <td>M</td>\n",
              "      <td>0.560</td>\n",
              "      <td>0.430</td>\n",
              "      <td>0.155</td>\n",
              "      <td>0.8675</td>\n",
              "      <td>0.4000</td>\n",
              "      <td>0.1720</td>\n",
              "      <td>0.2290</td>\n",
              "      <td>0</td>\n",
              "    </tr>\n",
              "    <tr>\n",
              "      <th>4170</th>\n",
              "      <td>F</td>\n",
              "      <td>0.565</td>\n",
              "      <td>0.450</td>\n",
              "      <td>0.165</td>\n",
              "      <td>0.8870</td>\n",
              "      <td>0.3700</td>\n",
              "      <td>0.2390</td>\n",
              "      <td>0.2490</td>\n",
              "      <td>0</td>\n",
              "    </tr>\n",
              "    <tr>\n",
              "      <th>4171</th>\n",
              "      <td>M</td>\n",
              "      <td>0.590</td>\n",
              "      <td>0.440</td>\n",
              "      <td>0.135</td>\n",
              "      <td>0.9660</td>\n",
              "      <td>0.4390</td>\n",
              "      <td>0.2145</td>\n",
              "      <td>0.2605</td>\n",
              "      <td>0</td>\n",
              "    </tr>\n",
              "    <tr>\n",
              "      <th>4172</th>\n",
              "      <td>M</td>\n",
              "      <td>0.600</td>\n",
              "      <td>0.475</td>\n",
              "      <td>0.205</td>\n",
              "      <td>1.1760</td>\n",
              "      <td>0.5255</td>\n",
              "      <td>0.2875</td>\n",
              "      <td>0.3080</td>\n",
              "      <td>0</td>\n",
              "    </tr>\n",
              "    <tr>\n",
              "      <th>4173</th>\n",
              "      <td>F</td>\n",
              "      <td>0.625</td>\n",
              "      <td>0.485</td>\n",
              "      <td>0.150</td>\n",
              "      <td>1.0945</td>\n",
              "      <td>0.5310</td>\n",
              "      <td>0.2610</td>\n",
              "      <td>0.2960</td>\n",
              "      <td>0</td>\n",
              "    </tr>\n",
              "  </tbody>\n",
              "</table>\n",
              "<p>4174 rows × 9 columns</p>\n",
              "</div>\n",
              "    <div class=\"colab-df-buttons\">\n",
              "\n",
              "  <div class=\"colab-df-container\">\n",
              "    <button class=\"colab-df-convert\" onclick=\"convertToInteractive('df-a5dae6f5-fd8d-4065-b99a-2401add8a9c0')\"\n",
              "            title=\"Convert this dataframe to an interactive table.\"\n",
              "            style=\"display:none;\">\n",
              "\n",
              "  <svg xmlns=\"http://www.w3.org/2000/svg\" height=\"24px\" viewBox=\"0 -960 960 960\">\n",
              "    <path d=\"M120-120v-720h720v720H120Zm60-500h600v-160H180v160Zm220 220h160v-160H400v160Zm0 220h160v-160H400v160ZM180-400h160v-160H180v160Zm440 0h160v-160H620v160ZM180-180h160v-160H180v160Zm440 0h160v-160H620v160Z\"/>\n",
              "  </svg>\n",
              "    </button>\n",
              "\n",
              "  <style>\n",
              "    .colab-df-container {\n",
              "      display:flex;\n",
              "      gap: 12px;\n",
              "    }\n",
              "\n",
              "    .colab-df-convert {\n",
              "      background-color: #E8F0FE;\n",
              "      border: none;\n",
              "      border-radius: 50%;\n",
              "      cursor: pointer;\n",
              "      display: none;\n",
              "      fill: #1967D2;\n",
              "      height: 32px;\n",
              "      padding: 0 0 0 0;\n",
              "      width: 32px;\n",
              "    }\n",
              "\n",
              "    .colab-df-convert:hover {\n",
              "      background-color: #E2EBFA;\n",
              "      box-shadow: 0px 1px 2px rgba(60, 64, 67, 0.3), 0px 1px 3px 1px rgba(60, 64, 67, 0.15);\n",
              "      fill: #174EA6;\n",
              "    }\n",
              "\n",
              "    .colab-df-buttons div {\n",
              "      margin-bottom: 4px;\n",
              "    }\n",
              "\n",
              "    [theme=dark] .colab-df-convert {\n",
              "      background-color: #3B4455;\n",
              "      fill: #D2E3FC;\n",
              "    }\n",
              "\n",
              "    [theme=dark] .colab-df-convert:hover {\n",
              "      background-color: #434B5C;\n",
              "      box-shadow: 0px 1px 3px 1px rgba(0, 0, 0, 0.15);\n",
              "      filter: drop-shadow(0px 1px 2px rgba(0, 0, 0, 0.3));\n",
              "      fill: #FFFFFF;\n",
              "    }\n",
              "  </style>\n",
              "\n",
              "    <script>\n",
              "      const buttonEl =\n",
              "        document.querySelector('#df-a5dae6f5-fd8d-4065-b99a-2401add8a9c0 button.colab-df-convert');\n",
              "      buttonEl.style.display =\n",
              "        google.colab.kernel.accessAllowed ? 'block' : 'none';\n",
              "\n",
              "      async function convertToInteractive(key) {\n",
              "        const element = document.querySelector('#df-a5dae6f5-fd8d-4065-b99a-2401add8a9c0');\n",
              "        const dataTable =\n",
              "          await google.colab.kernel.invokeFunction('convertToInteractive',\n",
              "                                                    [key], {});\n",
              "        if (!dataTable) return;\n",
              "\n",
              "        const docLinkHtml = 'Like what you see? Visit the ' +\n",
              "          '<a target=\"_blank\" href=https://colab.research.google.com/notebooks/data_table.ipynb>data table notebook</a>'\n",
              "          + ' to learn more about interactive tables.';\n",
              "        element.innerHTML = '';\n",
              "        dataTable['output_type'] = 'display_data';\n",
              "        await google.colab.output.renderOutput(dataTable, element);\n",
              "        const docLink = document.createElement('div');\n",
              "        docLink.innerHTML = docLinkHtml;\n",
              "        element.appendChild(docLink);\n",
              "      }\n",
              "    </script>\n",
              "  </div>\n",
              "\n",
              "\n",
              "    <div id=\"df-f69a18e1-0c87-4564-b902-64149bd30d4e\">\n",
              "      <button class=\"colab-df-quickchart\" onclick=\"quickchart('df-f69a18e1-0c87-4564-b902-64149bd30d4e')\"\n",
              "                title=\"Suggest charts\"\n",
              "                style=\"display:none;\">\n",
              "\n",
              "<svg xmlns=\"http://www.w3.org/2000/svg\" height=\"24px\"viewBox=\"0 0 24 24\"\n",
              "     width=\"24px\">\n",
              "    <g>\n",
              "        <path d=\"M19 3H5c-1.1 0-2 .9-2 2v14c0 1.1.9 2 2 2h14c1.1 0 2-.9 2-2V5c0-1.1-.9-2-2-2zM9 17H7v-7h2v7zm4 0h-2V7h2v10zm4 0h-2v-4h2v4z\"/>\n",
              "    </g>\n",
              "</svg>\n",
              "      </button>\n",
              "\n",
              "<style>\n",
              "  .colab-df-quickchart {\n",
              "      --bg-color: #E8F0FE;\n",
              "      --fill-color: #1967D2;\n",
              "      --hover-bg-color: #E2EBFA;\n",
              "      --hover-fill-color: #174EA6;\n",
              "      --disabled-fill-color: #AAA;\n",
              "      --disabled-bg-color: #DDD;\n",
              "  }\n",
              "\n",
              "  [theme=dark] .colab-df-quickchart {\n",
              "      --bg-color: #3B4455;\n",
              "      --fill-color: #D2E3FC;\n",
              "      --hover-bg-color: #434B5C;\n",
              "      --hover-fill-color: #FFFFFF;\n",
              "      --disabled-bg-color: #3B4455;\n",
              "      --disabled-fill-color: #666;\n",
              "  }\n",
              "\n",
              "  .colab-df-quickchart {\n",
              "    background-color: var(--bg-color);\n",
              "    border: none;\n",
              "    border-radius: 50%;\n",
              "    cursor: pointer;\n",
              "    display: none;\n",
              "    fill: var(--fill-color);\n",
              "    height: 32px;\n",
              "    padding: 0;\n",
              "    width: 32px;\n",
              "  }\n",
              "\n",
              "  .colab-df-quickchart:hover {\n",
              "    background-color: var(--hover-bg-color);\n",
              "    box-shadow: 0 1px 2px rgba(60, 64, 67, 0.3), 0 1px 3px 1px rgba(60, 64, 67, 0.15);\n",
              "    fill: var(--button-hover-fill-color);\n",
              "  }\n",
              "\n",
              "  .colab-df-quickchart-complete:disabled,\n",
              "  .colab-df-quickchart-complete:disabled:hover {\n",
              "    background-color: var(--disabled-bg-color);\n",
              "    fill: var(--disabled-fill-color);\n",
              "    box-shadow: none;\n",
              "  }\n",
              "\n",
              "  .colab-df-spinner {\n",
              "    border: 2px solid var(--fill-color);\n",
              "    border-color: transparent;\n",
              "    border-bottom-color: var(--fill-color);\n",
              "    animation:\n",
              "      spin 1s steps(1) infinite;\n",
              "  }\n",
              "\n",
              "  @keyframes spin {\n",
              "    0% {\n",
              "      border-color: transparent;\n",
              "      border-bottom-color: var(--fill-color);\n",
              "      border-left-color: var(--fill-color);\n",
              "    }\n",
              "    20% {\n",
              "      border-color: transparent;\n",
              "      border-left-color: var(--fill-color);\n",
              "      border-top-color: var(--fill-color);\n",
              "    }\n",
              "    30% {\n",
              "      border-color: transparent;\n",
              "      border-left-color: var(--fill-color);\n",
              "      border-top-color: var(--fill-color);\n",
              "      border-right-color: var(--fill-color);\n",
              "    }\n",
              "    40% {\n",
              "      border-color: transparent;\n",
              "      border-right-color: var(--fill-color);\n",
              "      border-top-color: var(--fill-color);\n",
              "    }\n",
              "    60% {\n",
              "      border-color: transparent;\n",
              "      border-right-color: var(--fill-color);\n",
              "    }\n",
              "    80% {\n",
              "      border-color: transparent;\n",
              "      border-right-color: var(--fill-color);\n",
              "      border-bottom-color: var(--fill-color);\n",
              "    }\n",
              "    90% {\n",
              "      border-color: transparent;\n",
              "      border-bottom-color: var(--fill-color);\n",
              "    }\n",
              "  }\n",
              "</style>\n",
              "\n",
              "      <script>\n",
              "        async function quickchart(key) {\n",
              "          const quickchartButtonEl =\n",
              "            document.querySelector('#' + key + ' button');\n",
              "          quickchartButtonEl.disabled = true;  // To prevent multiple clicks.\n",
              "          quickchartButtonEl.classList.add('colab-df-spinner');\n",
              "          try {\n",
              "            const charts = await google.colab.kernel.invokeFunction(\n",
              "                'suggestCharts', [key], {});\n",
              "          } catch (error) {\n",
              "            console.error('Error during call to suggestCharts:', error);\n",
              "          }\n",
              "          quickchartButtonEl.classList.remove('colab-df-spinner');\n",
              "          quickchartButtonEl.classList.add('colab-df-quickchart-complete');\n",
              "        }\n",
              "        (() => {\n",
              "          let quickchartButtonEl =\n",
              "            document.querySelector('#df-f69a18e1-0c87-4564-b902-64149bd30d4e button');\n",
              "          quickchartButtonEl.style.display =\n",
              "            google.colab.kernel.accessAllowed ? 'block' : 'none';\n",
              "        })();\n",
              "      </script>\n",
              "    </div>\n",
              "\n",
              "  <div id=\"id_80eabf8e-70c7-419c-9f47-ebc964886673\">\n",
              "    <style>\n",
              "      .colab-df-generate {\n",
              "        background-color: #E8F0FE;\n",
              "        border: none;\n",
              "        border-radius: 50%;\n",
              "        cursor: pointer;\n",
              "        display: none;\n",
              "        fill: #1967D2;\n",
              "        height: 32px;\n",
              "        padding: 0 0 0 0;\n",
              "        width: 32px;\n",
              "      }\n",
              "\n",
              "      .colab-df-generate:hover {\n",
              "        background-color: #E2EBFA;\n",
              "        box-shadow: 0px 1px 2px rgba(60, 64, 67, 0.3), 0px 1px 3px 1px rgba(60, 64, 67, 0.15);\n",
              "        fill: #174EA6;\n",
              "      }\n",
              "\n",
              "      [theme=dark] .colab-df-generate {\n",
              "        background-color: #3B4455;\n",
              "        fill: #D2E3FC;\n",
              "      }\n",
              "\n",
              "      [theme=dark] .colab-df-generate:hover {\n",
              "        background-color: #434B5C;\n",
              "        box-shadow: 0px 1px 3px 1px rgba(0, 0, 0, 0.15);\n",
              "        filter: drop-shadow(0px 1px 2px rgba(0, 0, 0, 0.3));\n",
              "        fill: #FFFFFF;\n",
              "      }\n",
              "    </style>\n",
              "    <button class=\"colab-df-generate\" onclick=\"generateWithVariable('df')\"\n",
              "            title=\"Generate code using this dataframe.\"\n",
              "            style=\"display:none;\">\n",
              "\n",
              "  <svg xmlns=\"http://www.w3.org/2000/svg\" height=\"24px\"viewBox=\"0 0 24 24\"\n",
              "       width=\"24px\">\n",
              "    <path d=\"M7,19H8.4L18.45,9,17,7.55,7,17.6ZM5,21V16.75L18.45,3.32a2,2,0,0,1,2.83,0l1.4,1.43a1.91,1.91,0,0,1,.58,1.4,1.91,1.91,0,0,1-.58,1.4L9.25,21ZM18.45,9,17,7.55Zm-12,3A5.31,5.31,0,0,0,4.9,8.1,5.31,5.31,0,0,0,1,6.5,5.31,5.31,0,0,0,4.9,4.9,5.31,5.31,0,0,0,6.5,1,5.31,5.31,0,0,0,8.1,4.9,5.31,5.31,0,0,0,12,6.5,5.46,5.46,0,0,0,6.5,12Z\"/>\n",
              "  </svg>\n",
              "    </button>\n",
              "    <script>\n",
              "      (() => {\n",
              "      const buttonEl =\n",
              "        document.querySelector('#id_80eabf8e-70c7-419c-9f47-ebc964886673 button.colab-df-generate');\n",
              "      buttonEl.style.display =\n",
              "        google.colab.kernel.accessAllowed ? 'block' : 'none';\n",
              "\n",
              "      buttonEl.onclick = () => {\n",
              "        google.colab.notebook.generateWithVariable('df');\n",
              "      }\n",
              "      })();\n",
              "    </script>\n",
              "  </div>\n",
              "\n",
              "    </div>\n",
              "  </div>\n"
            ],
            "application/vnd.google.colaboratory.intrinsic+json": {
              "type": "dataframe",
              "variable_name": "df",
              "summary": "{\n  \"name\": \"df\",\n  \"rows\": 4174,\n  \"fields\": [\n    {\n      \"column\": \"Sex\",\n      \"properties\": {\n        \"dtype\": \"category\",\n        \"num_unique_values\": 3,\n        \"samples\": [\n          \"M\",\n          \"F\",\n          \"I\"\n        ],\n        \"semantic_type\": \"\",\n        \"description\": \"\"\n      }\n    },\n    {\n      \"column\": \"Length\",\n      \"properties\": {\n        \"dtype\": \"number\",\n        \"std\": 0.12003278537887613,\n        \"min\": 0.075,\n        \"max\": 0.815,\n        \"num_unique_values\": 134,\n        \"samples\": [\n          0.815,\n          0.65,\n          0.29\n        ],\n        \"semantic_type\": \"\",\n        \"description\": \"\"\n      }\n    },\n    {\n      \"column\": \"Diameter\",\n      \"properties\": {\n        \"dtype\": \"number\",\n        \"std\": 0.099186909844143,\n        \"min\": 0.055,\n        \"max\": 0.65,\n        \"num_unique_values\": 111,\n        \"samples\": [\n          0.09,\n          0.35,\n          0.3\n        ],\n        \"semantic_type\": \"\",\n        \"description\": \"\"\n      }\n    },\n    {\n      \"column\": \"Height\",\n      \"properties\": {\n        \"dtype\": \"number\",\n        \"std\": 0.041818336963069296,\n        \"min\": 0.0,\n        \"max\": 1.13,\n        \"num_unique_values\": 51,\n        \"samples\": [\n          0.235,\n          0.035,\n          0.015\n        ],\n        \"semantic_type\": \"\",\n        \"description\": \"\"\n      }\n    },\n    {\n      \"column\": \"Whole_weight\",\n      \"properties\": {\n        \"dtype\": \"number\",\n        \"std\": 0.49006456486099714,\n        \"min\": 0.002,\n        \"max\": 2.8255,\n        \"num_unique_values\": 2428,\n        \"samples\": [\n          0.5445,\n          0.4315,\n          0.173\n        ],\n        \"semantic_type\": \"\",\n        \"description\": \"\"\n      }\n    },\n    {\n      \"column\": \"Shucked_weight\",\n      \"properties\": {\n        \"dtype\": \"number\",\n        \"std\": 0.22177072095598985,\n        \"min\": 0.001,\n        \"max\": 1.488,\n        \"num_unique_values\": 1514,\n        \"samples\": [\n          0.2105,\n          0.0645,\n          0.914\n        ],\n        \"semantic_type\": \"\",\n        \"description\": \"\"\n      }\n    },\n    {\n      \"column\": \"Viscera_weight\",\n      \"properties\": {\n        \"dtype\": \"number\",\n        \"std\": 0.10957427582961947,\n        \"min\": 0.0005,\n        \"max\": 0.76,\n        \"num_unique_values\": 880,\n        \"samples\": [\n          0.0645,\n          0.0095,\n          0.1115\n        ],\n        \"semantic_type\": \"\",\n        \"description\": \"\"\n      }\n    },\n    {\n      \"column\": \"Shell_weight\",\n      \"properties\": {\n        \"dtype\": \"number\",\n        \"std\": 0.13914263962975168,\n        \"min\": 0.0015,\n        \"max\": 1.005,\n        \"num_unique_values\": 926,\n        \"samples\": [\n          0.3745,\n          0.2825,\n          0.49\n        ],\n        \"semantic_type\": \"\",\n        \"description\": \"\"\n      }\n    },\n    {\n      \"column\": \"Class\",\n      \"properties\": {\n        \"dtype\": \"number\",\n        \"std\": 0,\n        \"min\": 0,\n        \"max\": 1,\n        \"num_unique_values\": 2,\n        \"samples\": [\n          1,\n          0\n        ],\n        \"semantic_type\": \"\",\n        \"description\": \"\"\n      }\n    }\n  ]\n}"
            }
          },
          "metadata": {},
          "execution_count": 140
        }
      ]
    },
    {
      "cell_type": "code",
      "source": [
        "df = pd.get_dummies(df, columns=['Sex'], drop_first=True)"
      ],
      "metadata": {
        "id": "gTANS5u3TGge"
      },
      "execution_count": 141,
      "outputs": []
    },
    {
      "cell_type": "code",
      "source": [
        "# Qué porcentaje hay de cada clase?\n",
        "df['Class'].value_counts(normalize=True)\n",
        "# Hacemos un histograma para que quede bien claro\n",
        "df['Class'].value_counts().plot(kind='bar')"
      ],
      "metadata": {
        "colab": {
          "base_uri": "https://localhost:8080/",
          "height": 462
        },
        "id": "AneRYFJ5TRhS",
        "outputId": "6b22a4f1-bfc5-4a69-f07d-8477cf2861bb"
      },
      "execution_count": 142,
      "outputs": [
        {
          "output_type": "execute_result",
          "data": {
            "text/plain": [
              "<Axes: xlabel='Class'>"
            ]
          },
          "metadata": {},
          "execution_count": 142
        },
        {
          "output_type": "display_data",
          "data": {
            "text/plain": [
              "<Figure size 640x480 with 1 Axes>"
            ],
            "image/png": "[encoded data removed]"
          },
          "metadata": {}
        }
      ]
    },
    {
      "cell_type": "markdown",
      "source": [
        "Vamos a dividir el conjunto de datos en conjuntos de entrenamiento (80%) y prueba (20%). Podemos utilizar la función ```train_test_split``` de ```sklearn``` con el argumento ```stratify``` basado en las categorías de ```Class```.\n",
        "El argumento ```stratify``` en ```train_test_split``` sirve para mantener la misma proporción de clases (u otra variable categórica) tanto en el conjunto de entrenamiento como en el de prueba. En problemas de clasificación desbalanceados esto es especialmente importante, porque:\n",
        "\n",
        "- Si no usás ```stratify```, el muestreo aleatorio puede generar conjuntos con distribuciones distintas (por ejemplo, que el test set tenga todavía menos ejemplos de la clase minoritaria, o incluso ninguno).\n",
        "\n",
        "- Con ```stratify=y``` (```y``` es la variable dependiente usada), la división preserva la proporción de clases que tenías en el dataset original, garantizando representatividad en ambos subconjuntos.\n"
      ],
      "metadata": {
        "id": "Wz_zz1j8U8IJ"
      }
    },
    {
      "cell_type": "code",
      "source": [
        "from sklearn.model_selection import train_test_split\n",
        "df_train, df_test = train_test_split(df, test_size=0.2, stratify=df['Class'], random_state=888)\n",
        "\n",
        "features = df_train.drop(columns=['Class']).columns"
      ],
      "metadata": {
        "id": "WvPss99STZHH"
      },
      "execution_count": 143,
      "outputs": []
    },
    {
      "cell_type": "code",
      "source": [
        "df_train['Class'].value_counts()"
      ],
      "metadata": {
        "colab": {
          "base_uri": "https://localhost:8080/",
          "height": 178
        },
        "id": "Hyb-8DoZTefU",
        "outputId": "09d56399-43d3-4eac-b119-ce1ad20501d9"
      },
      "execution_count": 144,
      "outputs": [
        {
          "output_type": "execute_result",
          "data": {
            "text/plain": [
              "Class\n",
              "0    3313\n",
              "1      26\n",
              "Name: count, dtype: int64"
            ],
            "text/html": [
              "<div>\n",
              "<style scoped>\n",
              "    .dataframe tbody tr th:only-of-type {\n",
              "        vertical-align: middle;\n",
              "    }\n",
              "\n",
              "    .dataframe tbody tr th {\n",
              "        vertical-align: top;\n",
              "    }\n",
              "\n",
              "    .dataframe thead th {\n",
              "        text-align: right;\n",
              "    }\n",
              "</style>\n",
              "<table border=\"1\" class=\"dataframe\">\n",
              "  <thead>\n",
              "    <tr style=\"text-align: right;\">\n",
              "      <th></th>\n",
              "      <th>count</th>\n",
              "    </tr>\n",
              "    <tr>\n",
              "      <th>Class</th>\n",
              "      <th></th>\n",
              "    </tr>\n",
              "  </thead>\n",
              "  <tbody>\n",
              "    <tr>\n",
              "      <th>0</th>\n",
              "      <td>3313</td>\n",
              "    </tr>\n",
              "    <tr>\n",
              "      <th>1</th>\n",
              "      <td>26</td>\n",
              "    </tr>\n",
              "  </tbody>\n",
              "</table>\n",
              "</div><br><label><b>dtype:</b> int64</label>"
            ]
          },
          "metadata": {},
          "execution_count": 144
        }
      ]
    },
    {
      "cell_type": "code",
      "source": [
        "df_test['Class'].value_counts()"
      ],
      "metadata": {
        "colab": {
          "base_uri": "https://localhost:8080/",
          "height": 178
        },
        "id": "S_ELqE2GTmy9",
        "outputId": "da7b6f61-10da-4e95-88cb-9e43021bde23"
      },
      "execution_count": 145,
      "outputs": [
        {
          "output_type": "execute_result",
          "data": {
            "text/plain": [
              "Class\n",
              "0    829\n",
              "1      6\n",
              "Name: count, dtype: int64"
            ],
            "text/html": [
              "<div>\n",
              "<style scoped>\n",
              "    .dataframe tbody tr th:only-of-type {\n",
              "        vertical-align: middle;\n",
              "    }\n",
              "\n",
              "    .dataframe tbody tr th {\n",
              "        vertical-align: top;\n",
              "    }\n",
              "\n",
              "    .dataframe thead th {\n",
              "        text-align: right;\n",
              "    }\n",
              "</style>\n",
              "<table border=\"1\" class=\"dataframe\">\n",
              "  <thead>\n",
              "    <tr style=\"text-align: right;\">\n",
              "      <th></th>\n",
              "      <th>count</th>\n",
              "    </tr>\n",
              "    <tr>\n",
              "      <th>Class</th>\n",
              "      <th></th>\n",
              "    </tr>\n",
              "  </thead>\n",
              "  <tbody>\n",
              "    <tr>\n",
              "      <th>0</th>\n",
              "      <td>829</td>\n",
              "    </tr>\n",
              "    <tr>\n",
              "      <th>1</th>\n",
              "      <td>6</td>\n",
              "    </tr>\n",
              "  </tbody>\n",
              "</table>\n",
              "</div><br><label><b>dtype:</b> int64</label>"
            ]
          },
          "metadata": {},
          "execution_count": 145
        }
      ]
    },
    {
      "cell_type": "markdown",
      "source": [
        "## ¿Cómo podemos tratar datasets no balanceados?\n",
        "\n",
        "## 1. Consiguiendo más datos!\n",
        "Esta es una técnica útil que a menudo se pasa por alto. Ampliar la muestra nos ayuda a obtener más información sobre la clase minoritaria.\n",
        "\n",
        "Sin embargo, esta técnica no siempre es factible. Para nuestro ejemplo de datos, no hay forma de que podamos recopilar medidas de más abalones.\n",
        "\n",
        "Pero supongamos que trabajas en una compañía de tarjetas de crédito; generalmente es fácil ampliar la muestra de datos de transacciones de un mes a dos o tres meses. En un período más largo, es posible que encuentres más transacciones fraudulentas. Aunque los datos sigan estando desequilibrados, tendrás más observaciones de la clase minoritaria para aplicar otras técnicas que se describen a continuación."
      ],
      "metadata": {
        "id": "4cDgumiiVqAO"
      }
    },
    {
      "cell_type": "markdown",
      "source": [
        "# 2. Sobremuestreo (Oversampling)\n",
        "Cuando los datos tienen categorías desequilibradas, un pensamiento natural es equilibrarlos. Podemos aumentar el número de la clase minoritaria o disminuir el número de la clase mayoritaria. Esto se puede hacer mediante el remuestreo.\n",
        "Comencemos con el sobremuestreo más popular, que agrega ejemplos de la clase minoritaria para equilibrar el conjunto de datos.\n",
        "\n",
        "![imb1.png](data:image/png;base64,iVBORw0KGgoAAAANSUhEUgAAAfEAAAEbBAMAAAA4w6CqAAAAElBMVEX///8AcMDAAAB1q9zS5PSkyOga5ZR5AAAEDUlEQVR42u2dTW7bMBQGmYraV+gFip6AAak9AZt7FRLvf5UuFMf6Ie0uiqDmfLPwKkA0kTl8oZ3YGCGEEEIIIYQQQgghhBBCCCGEEEIIIYQQQvxLhmEwb8Ojxy/l1xP+3XeKwzM2X/ztyWX9fCFz66jmPfaed4ZqntaKPeB7o+aBam4d1byfqOu8M1TzhDUPWHNHNe8nqnlnqOYJax6w5s4Y5gzXT1TzLlLNL4a6zhesuaOa9xPVvItU84uhmi9Yc0c1txPVfA0ccYZbA0c0z1jzNXDAdf4ROKD5R+CI5oZqnrHmjmp+CxzP/BY4oLmhmt8Cx5vhHNXcYs37SF3nn4HDmWeseaCa3wNHM78HjmZ+DxzNPGPNA9V8EzjYDNdPVPNN4GDmyVDXeaCabwPHMt8GjmW+DRzLPGHNA9bcUc13gUOZ7wKHmuEuWPMFa74LHGmd7wNHMu8i1XwfOJL5gjV3VPND4EDmh8CBzA+BA5kfAgea4RzV3E5U82PgOOv8GDiOecaaO6r5KXAY81PgOOaGap6x5o5qfg4cZYY7Bw5jbqjm58BR1nmgmltHNe8j1bwQOIh5xpoHqnkpcAzzUuAY5qXAMWa4hDUPVPNi4BDrvJ+o5sXAIcwT1jxgzR3VvBw4gnk5cATzcuAIk0zAmjuqeSVwgHVeCRzA/II1X7DmjmpeC1z75l2kmtcC1775gjWvBa75Ga4auObNq4Fr3rwauObXecaaO6q5najm1cDZqXHzauDm1u95LXCX5j8RuhI42/ynA9cCNzZfuErgLrH5Ga58+ti79qfXYuDsCJjbi4GbY/uTTPENMh3h04dK7wC0gTC9do+WftPmubKhtW9+fv24Z/zn+kLgRsZvqefAXSLDvHt4ENuyea5taM3PcOF0GgExPwbuMlHMD4GzAXMC2VU3tNbNU3VDa908nE8jGOa7wNkR9ErDbmyZI8i8K5xG3J8Dybdrnqobmk3e59iueaiMsWn2+fraz/YnF/5e2tDS7MerMcbY+ffrznB/e88+TyM+tY3Jfnlr1fzHsB/errMfb+8QS3556bn9L+/5Je61TfIhNr3OhzGu2/o1+3H5XOp2Hl/+lYZnV57m8Wp67/1d++7dtLkxaa9tbPJLCzPc03vufd6ub7P1bno/z9HYYOz84bv3bvzZvm5odvaLud4XOMH8NrzZ2fvY0O9qT6/8dhphZ79kv3DMb6cR6wK3R/eGZ7j1NGITtrzb4to1/zEZY/pd2GzyOQLu+W5iO7u3vM5nfy2d1fj1x9Gwua/92dLqTjiTKbu3PcM9cJ/foebGDP79fzL/QoZhyG/DMAym9iiEEEIIIYQQQgghhBBCCCGEEEIIIYQQQgghhBBCCCGEEEIIIYT4Kv4Ayz4OGj2s1YYAAAAASUVORK5CYII=)"
      ],
      "metadata": {
        "id": "QWi1l77xVsto"
      }
    },
    {
      "cell_type": "markdown",
      "source": [
        "Existen diferentes métodos de sobremuestreo. A continuación, cubriremos algunos de los más conocidos:\n",
        "\n",
        "- Sobremuestreo aleatorio simple: el enfoque básico de muestreo aleatorio con reemplazo de la clase minoritaria.\n",
        "- Sobremuestreo con reducción: basado en muestreo aleatorio, se agrega algo de ruido/reducción para dispersar las nuevas muestras.\n",
        "- Sobremuestreo utilizando SMOTE: sintetiza nuevas muestras basadas en la clase minoritaria.\n",
        "\n",
        "Aplicaremos cada una de estas técnicas de sobremuestreo a nuestro conjunto de datos de ejemplo.\n",
        "\n",
        "### Sobremuestreo aleatorio simple\n",
        "Comenzaremos con el sobremuestreo aleatorio simple. Este es un enfoque sencillo. Simplemente tomamos copias/muestras con reemplazo de la clase minoritaria hasta que tenga el mismo número de ejemplos que la clase mayoritaria.\n",
        "\n",
        "Usaremos dos formas de lograr esto en Python. Una utiliza la biblioteca pandas, que es más transparente para que puedas entender el proceso. La otra utiliza la biblioteca imbalanced-learn, que requiere menos código para implementar. Ambos producen los mismos resultados, por lo que puedes elegir cualquiera de ellos.\n",
        "\n",
        "Con el código a continuación, generamos un nuevo conjunto de datos de entrenamiento equilibrado:\n",
        "\n",
        "- Calcular num_to_oversample: cuántas copias adicionales de la clase minoritaria necesitamos para equilibrar los datos.\n",
        "- Generar muestras de datos de entrenamiento de la clase minoritaria, con reemplazo.\n",
        "- Concatenar la nueva muestra con el conjunto de datos de entrenamiento original."
      ],
      "metadata": {
        "id": "TKsw1BYxWZUs"
      }
    },
    {
      "cell_type": "code",
      "source": [
        "msk = df_train['Class'] == 1\n",
        "num_to_oversample = len(df_train) - 2*msk.sum()\n",
        "df_positive_oversample = df_train[msk].sample(n=num_to_oversample, replace=True, random_state=888)\n",
        "df_train_oversample = pd.concat([df_train, df_positive_oversample])\n",
        "df_train_oversample['Class'].value_counts()"
      ],
      "metadata": {
        "colab": {
          "base_uri": "https://localhost:8080/",
          "height": 178
        },
        "id": "8w21_bJlW3t9",
        "outputId": "96b405e3-a818-4f59-9d0e-277dac810e3c"
      },
      "execution_count": 146,
      "outputs": [
        {
          "output_type": "execute_result",
          "data": {
            "text/plain": [
              "Class\n",
              "0    3313\n",
              "1    3313\n",
              "Name: count, dtype: int64"
            ],
            "text/html": [
              "<div>\n",
              "<style scoped>\n",
              "    .dataframe tbody tr th:only-of-type {\n",
              "        vertical-align: middle;\n",
              "    }\n",
              "\n",
              "    .dataframe tbody tr th {\n",
              "        vertical-align: top;\n",
              "    }\n",
              "\n",
              "    .dataframe thead th {\n",
              "        text-align: right;\n",
              "    }\n",
              "</style>\n",
              "<table border=\"1\" class=\"dataframe\">\n",
              "  <thead>\n",
              "    <tr style=\"text-align: right;\">\n",
              "      <th></th>\n",
              "      <th>count</th>\n",
              "    </tr>\n",
              "    <tr>\n",
              "      <th>Class</th>\n",
              "      <th></th>\n",
              "    </tr>\n",
              "  </thead>\n",
              "  <tbody>\n",
              "    <tr>\n",
              "      <th>0</th>\n",
              "      <td>3313</td>\n",
              "    </tr>\n",
              "    <tr>\n",
              "      <th>1</th>\n",
              "      <td>3313</td>\n",
              "    </tr>\n",
              "  </tbody>\n",
              "</table>\n",
              "</div><br><label><b>dtype:</b> int64</label>"
            ]
          },
          "metadata": {},
          "execution_count": 146
        }
      ]
    },
    {
      "cell_type": "markdown",
      "source": [
        "A fines de simplificar el problema, aplicamos un método de regresión logística:"
      ],
      "metadata": {
        "id": "iTGJKnOwXQnZ"
      }
    },
    {
      "cell_type": "code",
      "source": [
        "from sklearn.linear_model import LogisticRegression\n",
        "from sklearn.metrics import roc_auc_score\n",
        "\n",
        "clf = LogisticRegression(random_state=888)\n",
        "\n",
        "clf.fit(df_train_oversample[features], df_train_oversample['Class'])\n",
        "y_pred = clf.predict_proba(df_test[features])[:, 1]\n",
        "\n",
        "roc_auc_score(df_test['Class'], y_pred)"
      ],
      "metadata": {
        "colab": {
          "base_uri": "https://localhost:8080/"
        },
        "id": "0cZhnzelXVlL",
        "outputId": "47b8f7cd-97cc-463e-e0c4-6e74e48ed3bd"
      },
      "execution_count": 147,
      "outputs": [
        {
          "output_type": "execute_result",
          "data": {
            "text/plain": [
              "np.float64(0.8389626055488542)"
            ]
          },
          "metadata": {},
          "execution_count": 147
        }
      ]
    },
    {
      "cell_type": "markdown",
      "source": [
        "El valor del AUC (Área Bajo la Curva ROC) para este modelo es 0.838962605548854. Este es un resultado decente, pero ¿cómo se compara con el uso del conjunto de datos original?"
      ],
      "metadata": {
        "id": "W7uvP0yKXajV"
      }
    },
    {
      "cell_type": "markdown",
      "source": [
        "Usando ```imbalanced-learn```\n",
        "\n",
        "Además de pandas, también podemos utilizar la biblioteca ```imbalanced-learn``` para realizar un sobremuestreo aleatorio.\n",
        "\n",
        "A continuación, aplicamos ```RandomOverSampler``` para ajustar y remuestrear el conjunto de datos de entrenamiento. Esto nos proporciona X_resampled e y_resampled, las características y el objetivo del nuevo conjunto de entrenamiento equilibrado. Como puedes ver, y_resampled tiene dos clases, 0 y 1, y también está equilibrado (la identificación de las cantidades de cada clase se hace en forma automática)."
      ],
      "metadata": {
        "id": "ig9Oe8SmX72j"
      }
    },
    {
      "cell_type": "code",
      "source": [
        "from imblearn.over_sampling import RandomOverSampler\n",
        "ros = RandomOverSampler(random_state=888)\n",
        "X_resampled, y_resampled = ros.fit_resample(df_train[features], df_train['Class'])\n",
        "y_resampled.value_counts()"
      ],
      "metadata": {
        "colab": {
          "base_uri": "https://localhost:8080/",
          "height": 178
        },
        "id": "Gy8x8ZsWX14o",
        "outputId": "b2a7f7d3-7a5a-42a6-f00c-4b4a630ecf1e"
      },
      "execution_count": 148,
      "outputs": [
        {
          "output_type": "execute_result",
          "data": {
            "text/plain": [
              "Class\n",
              "0    3313\n",
              "1    3313\n",
              "Name: count, dtype: int64"
            ],
            "text/html": [
              "<div>\n",
              "<style scoped>\n",
              "    .dataframe tbody tr th:only-of-type {\n",
              "        vertical-align: middle;\n",
              "    }\n",
              "\n",
              "    .dataframe tbody tr th {\n",
              "        vertical-align: top;\n",
              "    }\n",
              "\n",
              "    .dataframe thead th {\n",
              "        text-align: right;\n",
              "    }\n",
              "</style>\n",
              "<table border=\"1\" class=\"dataframe\">\n",
              "  <thead>\n",
              "    <tr style=\"text-align: right;\">\n",
              "      <th></th>\n",
              "      <th>count</th>\n",
              "    </tr>\n",
              "    <tr>\n",
              "      <th>Class</th>\n",
              "      <th></th>\n",
              "    </tr>\n",
              "  </thead>\n",
              "  <tbody>\n",
              "    <tr>\n",
              "      <th>0</th>\n",
              "      <td>3313</td>\n",
              "    </tr>\n",
              "    <tr>\n",
              "      <th>1</th>\n",
              "      <td>3313</td>\n",
              "    </tr>\n",
              "  </tbody>\n",
              "</table>\n",
              "</div><br><label><b>dtype:</b> int64</label>"
            ]
          },
          "metadata": {},
          "execution_count": 148
        }
      ]
    },
    {
      "cell_type": "markdown",
      "source": [
        "Hemos establecido el valor de random_state como el mismo entero que en el ejemplo de pandas, por lo que generamos el mismo conjunto de entrenamiento equilibrado. Sin embargo, como puedes ver, imblearn requiere menos código para hacerlo.\n",
        "\n",
        "Luego, podemos aplicar la regresión logística de la misma manera y calcular la métrica del AUC. Da el mismo AUC de 0.838962605548854 que el método de pandas, ya que nuevamente usamos el mismo valor de random_state."
      ],
      "metadata": {
        "id": "MXXlVy5uYdjz"
      }
    },
    {
      "cell_type": "code",
      "source": [
        "from sklearn.linear_model import LogisticRegression\n",
        "clf = LogisticRegression(random_state=888)\n",
        "\n",
        "clf.fit(X_resampled, y_resampled)\n",
        "y_pred = clf.predict_proba(df_test[features])[:, 1]\n",
        "\n",
        "from sklearn.metrics import roc_auc_score\n",
        "roc_auc_score(df_test['Class'], y_pred)"
      ],
      "metadata": {
        "colab": {
          "base_uri": "https://localhost:8080/"
        },
        "id": "0zAfxh9QYktQ",
        "outputId": "b6638e19-3417-4234-f81d-5037e6bbaee5"
      },
      "execution_count": 149,
      "outputs": [
        {
          "output_type": "execute_result",
          "data": {
            "text/plain": [
              "np.float64(0.8389626055488542)"
            ]
          },
          "metadata": {},
          "execution_count": 149
        }
      ]
    },
    {
      "cell_type": "markdown",
      "source": [
        "### Sobremuestreo utilizando SMOTE\n",
        "La última técnica de sobremuestreo que cubriremos es SMOTE (Synthetic Minority Oversampling Technique - Técnica de Sobremuestreo de Minorías Sintéticas). Es una técnica más sofisticada; el muestreo aleatorio es fácil, pero las nuevas muestras no agregan más información a los algoritmos de aprendizaje automático. SMOTE mejora eso.\n",
        "\n",
        "SMOTE sobremuestrea la clase minoritaria creando ejemplos \"sintéticos\" en lugar de copias. Involucra algunos métodos, incluido vecinos más cercanos, para generar nuevos ejemplos \"factibles\".\n",
        "\n",
        "### Funcionamiento de SMOTE\n",
        "\n",
        "- Selección de ejemplos: SMOTE comienza seleccionando aleatoriamente un ejemplo de la clase minoritaria en el conjunto de datos original.\n",
        "\n",
        "- Encontrar vecinos cercanos: Luego, SMOTE identifica los k vecinos más cercanos al ejemplo seleccionado. El valor de k se elige de antemano por el usuario y determina cuántos vecinos cercanos se considerarán al generar ejemplos sintéticos.\n",
        "\n",
        "- Creación de ejemplos sintéticos: Para cada ejemplo seleccionado de la clase minoritaria, SMOTE genera ejemplos sintéticos interpolando características entre el ejemplo seleccionado y sus vecinos más cercanos. Esto se hace calculando la diferencia entre las características del ejemplo seleccionado y sus vecinos, multiplicándola por un valor aleatorio entre 0 y 1, y luego sumándola al ejemplo seleccionado. Ej: $A = (x_1, y_1), B = (x_2, y_2)\n",
        "$. Luego SMOTE genera un nuevo punto mediante interpolación lineal: $\n",
        "\\text{nuevo} = A + \\lambda \\cdot (B - A)$, donde $\\lambda \\in [0,1]$ es un valor aleatorio. Es decir, el nuevo ejemplo sintético se ubica **en la línea que une** los puntos $A$ y $B$.\n",
        "\n",
        "- Incorporación de ejemplos sintéticos: Los ejemplos sintéticos generados se agregan al conjunto de datos original, lo que aumenta el tamaño de la clase minoritaria. Esto se repite hasta que se alcance un cierto nivel de equilibrio en las proporciones de clases o hasta que se alcance un número deseado de ejemplos sintéticos.\n",
        "\n",
        "- Entrenamiento de modelos: Después de aplicar SMOTE y equilibrar las clases, el conjunto de datos equilibrado se utiliza para entrenar modelos de aprendizaje automático. Los modelos pueden aprender de manera más efectiva debido a la mayor representación de la clase minoritaria en el conjunto de datos.\n",
        "\n",
        "\n",
        "Podemos aplicar el sobremuestreo SMOTE a través de la biblioteca ```imblearn```. El proceso es similar al sobremuestreo aleatorio con reemplazo, pero utilizamos la clase SMOTE para remuestrear."
      ],
      "metadata": {
        "id": "FVKmeErFYmB4"
      }
    },
    {
      "cell_type": "code",
      "source": [
        "from imblearn.over_sampling import SMOTE\n",
        "smote = SMOTE(random_state=888)\n",
        "X_resampled, y_resampled = smote.fit_resample(df_train[features], df_train['Class'])\n",
        "\n",
        "y_resampled.value_counts()\n"
      ],
      "metadata": {
        "colab": {
          "base_uri": "https://localhost:8080/",
          "height": 178
        },
        "id": "ULpQdm1mZEw1",
        "outputId": "ba9d3d07-10e5-48a5-d962-ea04786e688f"
      },
      "execution_count": 150,
      "outputs": [
        {
          "output_type": "execute_result",
          "data": {
            "text/plain": [
              "Class\n",
              "0    3313\n",
              "1    3313\n",
              "Name: count, dtype: int64"
            ],
            "text/html": [
              "<div>\n",
              "<style scoped>\n",
              "    .dataframe tbody tr th:only-of-type {\n",
              "        vertical-align: middle;\n",
              "    }\n",
              "\n",
              "    .dataframe tbody tr th {\n",
              "        vertical-align: top;\n",
              "    }\n",
              "\n",
              "    .dataframe thead th {\n",
              "        text-align: right;\n",
              "    }\n",
              "</style>\n",
              "<table border=\"1\" class=\"dataframe\">\n",
              "  <thead>\n",
              "    <tr style=\"text-align: right;\">\n",
              "      <th></th>\n",
              "      <th>count</th>\n",
              "    </tr>\n",
              "    <tr>\n",
              "      <th>Class</th>\n",
              "      <th></th>\n",
              "    </tr>\n",
              "  </thead>\n",
              "  <tbody>\n",
              "    <tr>\n",
              "      <th>0</th>\n",
              "      <td>3313</td>\n",
              "    </tr>\n",
              "    <tr>\n",
              "      <th>1</th>\n",
              "      <td>3313</td>\n",
              "    </tr>\n",
              "  </tbody>\n",
              "</table>\n",
              "</div><br><label><b>dtype:</b> int64</label>"
            ]
          },
          "metadata": {},
          "execution_count": 150
        }
      ]
    },
    {
      "cell_type": "code",
      "source": [
        "from sklearn.linear_model import LogisticRegression\n",
        "clf = LogisticRegression(random_state=888)\n",
        "\n",
        "clf.fit(X_resampled, y_resampled)\n",
        "y_pred = clf.predict_proba(df_test[features])[:, 1]\n",
        "\n",
        "from sklearn.metrics import roc_auc_score\n",
        "roc_auc_score(df_test['Class'], y_pred)"
      ],
      "metadata": {
        "colab": {
          "base_uri": "https://localhost:8080/"
        },
        "id": "rTDcKQ1Ma7Oe",
        "outputId": "61375ee1-b397-4a86-ceb2-cba6798769bf"
      },
      "execution_count": 151,
      "outputs": [
        {
          "output_type": "execute_result",
          "data": {
            "text/plain": [
              "np.float64(0.8564535585042219)"
            ]
          },
          "metadata": {},
          "execution_count": 151
        }
      ]
    },
    {
      "cell_type": "markdown",
      "source": [
        "# 3. Undersampling\n",
        "En la técnica de submuestreo reducimos el tamaño de la clase mayoritaria para equilibrarla con la clase minoritaria.\n",
        "![imb2.png](data:image/png;base64,iVBORw0KGgoAAAANSUhEUgAAAfEAAADzBAMAAABkozLxAAAAD1BMVEX////AAADccnLv1dUAcMBl+PyxAAADSElEQVR42u3cTXKbQBTEcSxyAMNcQDwuAMwFvMj9z5QFjlL+iPUGV7lE978XWSVV+ck8TwOa6TpCCCGEEEIIIYQQQsipMtwJcuTIkSNHjhw5cuTIkSNHjhw5cuTIkSNHjhw5cuTIkSNHjhw5cuTIkSNHjhw5cuTIkSNH/gjyq6282MrDVv60uMovV1d5V2zlm638srjK+2fbDjfbyldbueq6dl+uOuiJe7WwlYsW2IRcdNAzTyaKrXyzlWsOekbeX13lmgU2JV9t5ZJ3qim5ZIHNvWkIW/lqK1cssMn3asVWHrZywQKblAsW2Oz782IrX23legU2K9crsOnvyYStfLWVyxXYtLwvrnK5Qc/L1QpsXq426A3f/iy28s1WLjboDXKxAtvyLe/ZVr7ayrXWtRa51qA37eYIW7nUutYklxr0tr1LxVa+2cqVBr1NrvSqpXGP4mwrX23lQq9aGuVCBbZ1L3LYyldbuU6Bbd55X2zlYSuXKbDNcpkC237CRrGVb7ZylQLbLlcpsAdO0glb+WorFymwB+Qig37kxKywlWsU2CNyjUE/dD5csZVvtnKJQT8kl1jXjp0DOdvKV1u5wrp2TK4w6AdPQwyDn3mormv3zwQsooOeOB/uqllgj54VtjnIP921dP5Bz6xqn13v53/VklrPYxEssLnzZIpggc11uO3jtX36Vy3ZEzYWuQKbPWeiyBXY9JkDV7VBT9+rTYtYgc3vwh7FCuw3duSGi/zD9X7yAtuyO3OUKrDf2alXbOTdugjdqTbJ313v5y6wbc9eL7NOgW3dzbHI3Km27mkImQLb/P32+c0v+2EYuqfhqz9/NL/vpEU+RMz1f9d7/zw0fHK/7vy3Xh5L3teIaRgj6melNYTl+9+qW4zDGFGXt9f7RV6+X9tbxDBETHPDsEjId37d+a/DbyTfH03dht9M/vootm4RbvJ/v9/t5LdHsU93/vmzmvz2qs1P/vfVg7B8L7B7aq313fWuPed9rXWLiBgjptsnMUXUaraqvX4SU4yGq9rtereUd5erq7ybFld5P7rK96dRlvJuspX302PJf/bZ7SM9eyWEEEIIIYQQQgghhBBCCCGEEEIIIYQQopS+fh0+odPlD+5PQ6kSQLzDAAAAAElFTkSuQmCC)"
      ],
      "metadata": {
        "id": "FRHr-Znua_di"
      }
    },
    {
      "cell_type": "markdown",
      "source": [
        "También existen muchos métodos de submuestreo. Cubriremos los siguientes populares:\n",
        "\n",
        "- Submuestreo aleatorio simple: el enfoque básico de muestreo aleatorio de la clase mayoritaria.\n",
        "- Submuestreo utilizando K-Means: sintetiza basándose en los centroides de los clústeres.\n",
        "- Submuestreo utilizando enlaces Tomek: detecta y elimina muestras de los enlaces Tomek.\n",
        "\n",
        "Aplicaremos cada una de estas técnicas de submuestreo a nuestro conjunto de datos de ejemplo.\n",
        "\n"
      ],
      "metadata": {
        "id": "sAiRGnVHbYAE"
      }
    },
    {
      "cell_type": "markdown",
      "source": [
        "### Submuestreo aleatorio simple\n",
        "Comenzaremos con el submuestreo aleatorio simple. Vamos eliminando muestras aleatorias de la clase mayoritaria para que tenga el mismo tamaño que la clase minoritaria. Por lo tanto, existe el riesgo de eliminar información útil del conjunto de datos.\n"
      ],
      "metadata": {
        "id": "ByU2T3qDbie6"
      }
    },
    {
      "cell_type": "code",
      "source": [
        "from imblearn.under_sampling import RandomUnderSampler\n",
        "\n",
        "rus = RandomUnderSampler(random_state=888)\n",
        "X_resampled, y_resampled = rus.fit_resample(df_train[features], df_train['Class'])\n",
        "\n",
        "y_resampled.value_counts()"
      ],
      "metadata": {
        "colab": {
          "base_uri": "https://localhost:8080/",
          "height": 178
        },
        "id": "xI1KkUnicEVG",
        "outputId": "0c91553a-eb5a-473a-dc41-ec2df5b1ad3d"
      },
      "execution_count": 152,
      "outputs": [
        {
          "output_type": "execute_result",
          "data": {
            "text/plain": [
              "Class\n",
              "0    26\n",
              "1    26\n",
              "Name: count, dtype: int64"
            ],
            "text/html": [
              "<div>\n",
              "<style scoped>\n",
              "    .dataframe tbody tr th:only-of-type {\n",
              "        vertical-align: middle;\n",
              "    }\n",
              "\n",
              "    .dataframe tbody tr th {\n",
              "        vertical-align: top;\n",
              "    }\n",
              "\n",
              "    .dataframe thead th {\n",
              "        text-align: right;\n",
              "    }\n",
              "</style>\n",
              "<table border=\"1\" class=\"dataframe\">\n",
              "  <thead>\n",
              "    <tr style=\"text-align: right;\">\n",
              "      <th></th>\n",
              "      <th>count</th>\n",
              "    </tr>\n",
              "    <tr>\n",
              "      <th>Class</th>\n",
              "      <th></th>\n",
              "    </tr>\n",
              "  </thead>\n",
              "  <tbody>\n",
              "    <tr>\n",
              "      <th>0</th>\n",
              "      <td>26</td>\n",
              "    </tr>\n",
              "    <tr>\n",
              "      <th>1</th>\n",
              "      <td>26</td>\n",
              "    </tr>\n",
              "  </tbody>\n",
              "</table>\n",
              "</div><br><label><b>dtype:</b> int64</label>"
            ]
          },
          "metadata": {},
          "execution_count": 152
        }
      ]
    },
    {
      "cell_type": "code",
      "source": [
        "from sklearn.linear_model import LogisticRegression\n",
        "clf = LogisticRegression(random_state=888)\n",
        "\n",
        "clf.fit(X_resampled, y_resampled)\n",
        "y_pred = clf.predict_proba(df_test[features])[:, 1]\n",
        "\n",
        "from sklearn.metrics import roc_auc_score\n",
        "roc_auc_score(df_test['Class'], y_pred)"
      ],
      "metadata": {
        "colab": {
          "base_uri": "https://localhost:8080/"
        },
        "id": "y5FWafbzcGyh",
        "outputId": "f92787ea-91d6-4538-ec65-0db55453887c"
      },
      "execution_count": 153,
      "outputs": [
        {
          "output_type": "execute_result",
          "data": {
            "text/plain": [
              "np.float64(0.6467631684760756)"
            ]
          },
          "metadata": {},
          "execution_count": 153
        }
      ]
    },
    {
      "cell_type": "markdown",
      "source": [
        "### Submuestreo utilizando K-Means\n",
        "Además del muestreo aleatorio, también podemos utilizar el centroide del clúster del método K-Means como la nueva muestra de la clase mayoritaria. Esto significa que la nueva muestra de la clase mayoritaria ya no es igual a los datos originales. Están sintetizados con centroides de los clústers. Por lo tanto, la nueva muestra debería ser más representativa de los datos reales de la clase mayoritaria.\n"
      ],
      "metadata": {
        "id": "9KsdZccNcQI_"
      }
    },
    {
      "cell_type": "markdown",
      "source": [
        "### Enlaces Tomek\n",
        "Veamos el enfoque de submuestreo utilizando enlaces Tomek. Este método detecta enlaces Tomek y elimina muestras basándose en ellos.\n",
        "\n",
        "¿Qué es el enlace Tomek?\n",
        "\n",
        "Es un enlace entre dos muestras de clases diferentes. Cuando las dos muestras son vecinas más cercanas entre sí, forman un enlace Tomek.\n",
        "\n",
        "En nuestro ejemplo del problema de clasificación binaria, un enlace Tomek es un par de ejemplos de cada clase que son los vecinos más cercanos en todo el conjunto de datos. Después de detectar tal enlace, podríamos eliminar los datos dentro del par. Por lo general, eliminamos la muestra de la clase mayoritaria para lograr el submuestreo, es decir, eliminar la clase mayoritaria cerca de la clase minoritaria. Esto elimina la ambigüedad entre las dos clases.\n",
        "![imb3.png](data:image/png;base64,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)\n",
        "\n",
        "Por defecto, el método remueve valores de la clase mayoritaria, de modo que los datos pueden seguir permaneciendo desbalanceados (por esta razón debe utilizarse en combinación con otras técnicas)."
      ],
      "metadata": {
        "id": "erxKkIwZcpmn"
      }
    },
    {
      "cell_type": "code",
      "source": [
        "\n",
        "from imblearn.under_sampling import TomekLinks\n",
        "\n",
        "tl = TomekLinks()\n",
        "X_resampled, y_resampled = tl.fit_resample(df_train[features], df_train['Class'])\n",
        "\n",
        "y_resampled.value_counts()"
      ],
      "metadata": {
        "colab": {
          "base_uri": "https://localhost:8080/",
          "height": 178
        },
        "id": "9AzlfnuNcp3I",
        "outputId": "56028e77-6878-4d8c-d6ce-e6933d69b324"
      },
      "execution_count": 154,
      "outputs": [
        {
          "output_type": "execute_result",
          "data": {
            "text/plain": [
              "Class\n",
              "0    3298\n",
              "1      26\n",
              "Name: count, dtype: int64"
            ],
            "text/html": [
              "<div>\n",
              "<style scoped>\n",
              "    .dataframe tbody tr th:only-of-type {\n",
              "        vertical-align: middle;\n",
              "    }\n",
              "\n",
              "    .dataframe tbody tr th {\n",
              "        vertical-align: top;\n",
              "    }\n",
              "\n",
              "    .dataframe thead th {\n",
              "        text-align: right;\n",
              "    }\n",
              "</style>\n",
              "<table border=\"1\" class=\"dataframe\">\n",
              "  <thead>\n",
              "    <tr style=\"text-align: right;\">\n",
              "      <th></th>\n",
              "      <th>count</th>\n",
              "    </tr>\n",
              "    <tr>\n",
              "      <th>Class</th>\n",
              "      <th></th>\n",
              "    </tr>\n",
              "  </thead>\n",
              "  <tbody>\n",
              "    <tr>\n",
              "      <th>0</th>\n",
              "      <td>3298</td>\n",
              "    </tr>\n",
              "    <tr>\n",
              "      <th>1</th>\n",
              "      <td>26</td>\n",
              "    </tr>\n",
              "  </tbody>\n",
              "</table>\n",
              "</div><br><label><b>dtype:</b> int64</label>"
            ]
          },
          "metadata": {},
          "execution_count": 154
        }
      ]
    },
    {
      "cell_type": "code",
      "source": [
        "from sklearn.linear_model import LogisticRegression\n",
        "clf = LogisticRegression(random_state=888)\n",
        "\n",
        "clf.fit(X_resampled, y_resampled)\n",
        "y_pred = clf.predict_proba(df_test[features])[:, 1]\n",
        "\n",
        "from sklearn.metrics import roc_auc_score\n",
        "roc_auc_score(df_test['Class'], y_pred)"
      ],
      "metadata": {
        "colab": {
          "base_uri": "https://localhost:8080/"
        },
        "id": "2iGwofODcvJL",
        "outputId": "0556cd5d-b9f8-43e0-9197-fcf7ec03ae4d"
      },
      "execution_count": 155,
      "outputs": [
        {
          "output_type": "execute_result",
          "data": {
            "text/plain": [
              "np.float64(0.6825492561318858)"
            ]
          },
          "metadata": {},
          "execution_count": 155
        }
      ]
    },
    {
      "cell_type": "markdown",
      "source": [
        "# 4. Combinando el Sobremuestreo y el Submuestreo\n",
        "Cada una de las técnicas de sobremuestreo y submuestreo tiene sus ventajas y desventajas. A veces es bueno combinar sus fortalezas. En esta sección, veremos un ejemplo de sobremuestreo utilizando SMOTE y submuestreo utilizando enlaces Tomek.\n"
      ],
      "metadata": {
        "id": "3mUI-w9Yd-5A"
      }
    },
    {
      "cell_type": "markdown",
      "source": [
        "## SMOTE y enlaces Tomek\n",
        "El enfoque de sobremuestreo SMOTE podría generar muestras ruidosas, ya que crea datos sintéticos. Para resolver este problema, después de SMOTE, podríamos utilizar técnicas de submuestreo para limpiar. En este ejemplo, utilizaremos la técnica de submuestreo de enlaces Tomek.\n"
      ],
      "metadata": {
        "id": "ZeqKzINGeTJk"
      }
    },
    {
      "cell_type": "code",
      "source": [
        "from imblearn.combine import SMOTETomek\n",
        "\n",
        "smote_tomek = SMOTETomek(random_state=888)\n",
        "X_resampled, y_resampled = smote_tomek.fit_resample(df_train[features], df_train['Class'])\n",
        "\n",
        "y_resampled.value_counts()"
      ],
      "metadata": {
        "colab": {
          "base_uri": "https://localhost:8080/",
          "height": 178
        },
        "id": "g7MibrBMeaH4",
        "outputId": "2a076132-fe82-4e3b-d0f1-972e6edd7b3e"
      },
      "execution_count": 156,
      "outputs": [
        {
          "output_type": "execute_result",
          "data": {
            "text/plain": [
              "Class\n",
              "0    3309\n",
              "1    3309\n",
              "Name: count, dtype: int64"
            ],
            "text/html": [
              "<div>\n",
              "<style scoped>\n",
              "    .dataframe tbody tr th:only-of-type {\n",
              "        vertical-align: middle;\n",
              "    }\n",
              "\n",
              "    .dataframe tbody tr th {\n",
              "        vertical-align: top;\n",
              "    }\n",
              "\n",
              "    .dataframe thead th {\n",
              "        text-align: right;\n",
              "    }\n",
              "</style>\n",
              "<table border=\"1\" class=\"dataframe\">\n",
              "  <thead>\n",
              "    <tr style=\"text-align: right;\">\n",
              "      <th></th>\n",
              "      <th>count</th>\n",
              "    </tr>\n",
              "    <tr>\n",
              "      <th>Class</th>\n",
              "      <th></th>\n",
              "    </tr>\n",
              "  </thead>\n",
              "  <tbody>\n",
              "    <tr>\n",
              "      <th>0</th>\n",
              "      <td>3309</td>\n",
              "    </tr>\n",
              "    <tr>\n",
              "      <th>1</th>\n",
              "      <td>3309</td>\n",
              "    </tr>\n",
              "  </tbody>\n",
              "</table>\n",
              "</div><br><label><b>dtype:</b> int64</label>"
            ]
          },
          "metadata": {},
          "execution_count": 156
        }
      ]
    },
    {
      "cell_type": "markdown",
      "source": [
        "Esto da como resultado un conjunto de datos equilibrado, con cada clase de tamaño 3309.\n",
        "\n",
        "Vamos a repasar los detalles.\n",
        "\n",
        "Como vimos, el conjunto de entrenamiento original tiene la clase 0 con un tamaño de 3313 y la clase 1 con un tamaño de 26. El enfoque SMOTE-Tomek primero hizo un sobremuestreo con SMOTE, lo que resultó en una muestra con ambas clases de tamaño 3313. Luego, la técnica de enlaces Tomek intervino y limpió los 'enlaces', lo que resultó en menos muestras en ambas clases.\n",
        "\n",
        "En esta técnica SMOTE-Tomek, los pares de muestras de ambas clases que forman un enlace Tomek, se eliminan. Esto da como resultado un conjunto de datos con dos clases del mismo tamaño.\n",
        "\n",
        "El AUC de la regresión logística con la técnica SMOTE-Tomek es 0.8564535585042219"
      ],
      "metadata": {
        "id": "RGZtAX2_edTi"
      }
    },
    {
      "cell_type": "code",
      "source": [
        "from sklearn.linear_model import LogisticRegression\n",
        "clf = LogisticRegression(random_state=888)\n",
        "\n",
        "clf.fit(X_resampled, y_resampled)\n",
        "y_pred = clf.predict_proba(df_test[features])[:, 1]\n",
        "\n",
        "from sklearn.metrics import roc_auc_score\n",
        "roc_auc_score(df_test['Class'], y_pred)"
      ],
      "metadata": {
        "colab": {
          "base_uri": "https://localhost:8080/"
        },
        "id": "9N5X_DGKfF7F",
        "outputId": "92fe507a-f4cc-41b1-e775-7fb2266ebc3d"
      },
      "execution_count": 157,
      "outputs": [
        {
          "output_type": "execute_result",
          "data": {
            "text/plain": [
              "np.float64(0.8564535585042219)"
            ]
          },
          "metadata": {},
          "execution_count": 157
        }
      ]
    },
    {
      "cell_type": "markdown",
      "source": [
        "# 5. Dando diferentes pesos a las clases\n",
        "Además de remuestrear los datos, también podemos equilibrar las clases dando pesos diferentes a los datos. Como sabes, generalmente consideramos que cada observación tiene el mismo peso. Pero para conjuntos de datos desequilibrados, podemos equilibrar las clases poniendo más peso en las clases minoritarias.\n",
        "Por ejemplo, supongamos que queremos que los pesos totales de las clases minoritarias y mayoritarias sean iguales. En ese caso, podemos utilizar la función ```compute_class_weight``` de ```scikit-learn```. El siguiente código estima los pesos para nuestro conjunto de datos de entrenamiento desequilibrado."
      ],
      "metadata": {
        "id": "gDDb4d5ffROc"
      }
    },
    {
      "cell_type": "code",
      "source": [
        "from sklearn.utils import compute_class_weight\n",
        "\n",
        "weights = compute_class_weight('balanced', classes=df_train['Class'].unique(), y=df_train['Class'])\n",
        "weights"
      ],
      "metadata": {
        "colab": {
          "base_uri": "https://localhost:8080/"
        },
        "id": "CXFLfzVQfOF6",
        "outputId": "e8144ae2-5474-4264-9f30-de54ca0cfd42"
      },
      "execution_count": 158,
      "outputs": [
        {
          "output_type": "execute_result",
          "data": {
            "text/plain": [
              "array([ 0.50392394, 64.21153846])"
            ]
          },
          "metadata": {},
          "execution_count": 158
        }
      ]
    },
    {
      "cell_type": "markdown",
      "source": [
        "Esto significa que si queremos que el conjunto de datos esté equilibrado, debemos darle un peso de 0.50392394 a los elementos de la clase mayoritaria y un peso de 64.21153846 a la clase minoritaria.\n",
        "\n",
        "Verifiquemos que estos pesos realmente pueden equilibrar el conjunto de datos.\n",
        "\n",
        "Utilizando el código a continuación, multiplicamos el recuento de cada clase por sus respectivos pesos."
      ],
      "metadata": {
        "id": "v6OJVckkfkUq"
      }
    },
    {
      "cell_type": "code",
      "source": [
        "print((df_train['Class'] == 0).sum()*weights[0])\n",
        "\n",
        "print((df_train['Class'] == 1).sum()*weights[1])"
      ],
      "metadata": {
        "colab": {
          "base_uri": "https://localhost:8080/"
        },
        "id": "Q2kDS7qif1bN",
        "outputId": "2c379abb-205a-46f3-999f-42f87b1f52b5"
      },
      "execution_count": 159,
      "outputs": [
        {
          "output_type": "stream",
          "name": "stdout",
          "text": [
            "1669.5\n",
            "1669.5000000000002\n"
          ]
        }
      ]
    },
    {
      "cell_type": "markdown",
      "source": [
        "¿Qué significa esto para un algoritmo de aprendizaje automático como la regresión logística?\n",
        "\n",
        "Los diferentes pesos hacen que sea más costoso clasificar erróneamente una clase minoritaria que una clase mayoritaria; esto lo incorpora automáticamente el modelo en el cómputo de su función de pérdida.\n",
        "\n",
        "En la clase ```LogisticRegression``` dentro de ```sklearn```, podemos aplicar diferentes pesos para equilibrar los datos utilizando el parámetro ```class_weight```. Por lo tanto, no necesitamos realizar los cálculos anteriores.\n",
        "\n",
        "Podemos utilizar el código a continuación para aplicar la regresión logística a los conjuntos de datos con pesos diferentes, con el argumento adicional class_weight='balanced'. El resto del proceso es el mismo."
      ],
      "metadata": {
        "id": "qb96b6JIgAkl"
      }
    },
    {
      "cell_type": "code",
      "source": [
        "from sklearn.linear_model import LogisticRegression\n",
        "\n",
        "clf_weighted = LogisticRegression(class_weight='balanced', random_state=888)\n",
        "clf_weighted.fit(df_train[features], df_train['Class'])\n",
        "\n",
        "y_pred = clf_weighted.predict_proba(df_test[features])[:, 1]\n",
        "\n",
        "from sklearn.metrics import roc_auc_score\n",
        "roc_auc_score(df_test['Class'], y_pred)\n",
        "\n"
      ],
      "metadata": {
        "colab": {
          "base_uri": "https://localhost:8080/"
        },
        "id": "LtVUPEY7f_HV",
        "outputId": "a0656892-aed3-4b7c-c726-2e223e82450f"
      },
      "execution_count": 160,
      "outputs": [
        {
          "output_type": "execute_result",
          "data": {
            "text/plain": [
              "np.float64(0.8260956976276639)"
            ]
          },
          "metadata": {},
          "execution_count": 160
        }
      ]
    },
    {
      "cell_type": "markdown",
      "source": [
        "Además de cambiar los pesos de las dos clases para equilibrarlas, también podemos especificar pesos personalizados para las clases positivas y negativas. Por ejemplo, el siguiente código da a la clase 1 un peso 100 veces mayor que la clase 0."
      ],
      "metadata": {
        "id": "vn40G-PuhKBP"
      }
    },
    {
      "cell_type": "code",
      "source": [
        "from sklearn.linear_model import LogisticRegression\n",
        "\n",
        "clf_weighted = LogisticRegression(class_weight={0: 1, 1: 100}, random_state=888)\n",
        "\n",
        "clf_weighted.fit(df_train[features], df_train['Class'])\n",
        "y_pred = clf_weighted.predict_proba(df_test[features])[:, 1]\n",
        "\n",
        "from sklearn.metrics import roc_auc_score\n",
        "roc_auc_score(df_test['Class'], y_pred)\n",
        "\n"
      ],
      "metadata": {
        "colab": {
          "base_uri": "https://localhost:8080/"
        },
        "id": "01GKphhLhK8g",
        "outputId": "00570905-47ba-4628-9fd4-b6a515eb49ce"
      },
      "execution_count": 161,
      "outputs": [
        {
          "output_type": "execute_result",
          "data": {
            "text/plain": [
              "np.float64(0.8373542420587052)"
            ]
          },
          "metadata": {},
          "execution_count": 161
        }
      ]
    },
    {
      "cell_type": "markdown",
      "source": [
        "# 7. Evitando data leakage con las técnicas de rebalanceo\n",
        "\n",
        "- Error común: a efectos de simplificar los ejemplos hemos aplicado las técnicas de rebalanceo a todo el dataset antes de dividir en train/test → fuga de información.\n",
        "- Solución: integrar el rebalanceo en un `Pipeline`. De esta forma el rebalanceo se aplica solo al conjunto de entrenamiento. Lo haremos con validación cruzada para una mejor validación.\n"
      ],
      "metadata": {
        "id": "gvoWTx8KFe_i"
      }
    },
    {
      "cell_type": "code",
      "source": [
        "# Definición del pipeline incluyendo SMOTE dentro para evitar fugas\n",
        "pipeline = Pipeline(steps=[\n",
        "    (\"scaler\", StandardScaler()),\n",
        "    (\"smote\", SMOTE(random_state=888)),\n",
        "    (\"clf\", LogisticRegression(class_weight=\"balanced\"))\n",
        "])"
      ],
      "metadata": {
        "id": "Jzo42oOpGDx8"
      },
      "execution_count": 162,
      "outputs": []
    }
  ]
}